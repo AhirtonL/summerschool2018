{
  "nbformat": 4,
  "nbformat_minor": 0,
  "metadata": {
    "colab": {
      "name": "exercicio_1.ipynb",
      "version": "0.3.2",
      "views": {},
      "default_view": {},
      "provenance": [],
      "collapsed_sections": []
    },
    "kernelspec": {
      "name": "python3",
      "display_name": "Python 3"
    }
  },
  "cells": [
    {
      "metadata": {
        "id": "hDsk-mGMcUio",
        "colab_type": "text"
      },
      "cell_type": "markdown",
      "source": [
        "![alt text](http://infra.heurys.com.br/summerschool/exercicio.01.png)"
      ]
    },
    {
      "metadata": {
        "id": "v7vCSHOc94TS",
        "colab_type": "text"
      },
      "cell_type": "markdown",
      "source": [
        "**1.   Criar uma função que imprima os números pares de 0 a 100**\n"
      ]
    },
    {
      "metadata": {
        "id": "hnci8pd490rR",
        "colab_type": "code",
        "colab": {
          "autoexec": {
            "startup": false,
            "wait_interval": 0
          }
        }
      },
      "cell_type": "code",
      "source": [
        "# Resposta do exercício 1\n"
      ],
      "execution_count": 0,
      "outputs": []
    },
    {
      "metadata": {
        "id": "VzTjPFgw-HN0",
        "colab_type": "text"
      },
      "cell_type": "markdown",
      "source": [
        "**2.   Criar uma função que receba duas matrizes 3 x 3 e multiplique um elemento pelo outro.**\n",
        "\n",
        "$\\begin{bmatrix}\n",
        "  1 & 2 & 3 \\\\\n",
        "  4 & 5 & 6 \\\\\n",
        "  7 & 8 & 9 \\\\\n",
        "\\end{bmatrix} *\n",
        "\\begin{bmatrix}\n",
        "  2 & 3 & 4 \\\\\n",
        "  2 & 3 & 4 \\\\\n",
        "  2 & 3 & 4 \\\\\n",
        "\\end{bmatrix} =\n",
        "\\begin{bmatrix}\n",
        "  2 & 6 & 12 \\\\\n",
        "  8 & 15 & 24 \\\\\n",
        "  14 & 24 & 36 \\\\\n",
        "\\end{bmatrix}$"
      ]
    },
    {
      "metadata": {
        "id": "rTGjAvZ5-1Jo",
        "colab_type": "code",
        "colab": {
          "autoexec": {
            "startup": false,
            "wait_interval": 0
          }
        }
      },
      "cell_type": "code",
      "source": [
        "# Resposta do exercício 2\n"
      ],
      "execution_count": 0,
      "outputs": []
    },
    {
      "metadata": {
        "id": "68KYWSvI-6Gn",
        "colab_type": "text"
      },
      "cell_type": "markdown",
      "source": [
        "**3.   Criar uma função que multiplique um array 1 x 4 pelo valor 5 (sem utilizar a função map).**\n",
        "\n",
        "$\\begin{bmatrix}\n",
        "  1 & 2 & 3 & 4 \\\\\n",
        "\\end{bmatrix} *\n",
        "5 =\n",
        "\\begin{bmatrix}\n",
        "  5 & 10 & 15 & 20 \\\\  \n",
        "\\end{bmatrix}$\n"
      ]
    },
    {
      "metadata": {
        "id": "bhPNs3vm_bq2",
        "colab_type": "code",
        "colab": {
          "autoexec": {
            "startup": false,
            "wait_interval": 0
          }
        }
      },
      "cell_type": "code",
      "source": [
        "# Resposta do exercício 3\n"
      ],
      "execution_count": 0,
      "outputs": []
    },
    {
      "metadata": {
        "id": "NoEfY_8u_gH-",
        "colab_type": "text"
      },
      "cell_type": "markdown",
      "source": [
        "**4.   Criar uma função que multiplique um array 1 x 4 pelo valor 5 (utilizando map).**\n",
        "\n",
        "$\\begin{bmatrix}\n",
        "  1 & 2 & 3 & 4 \\\\\n",
        "\\end{bmatrix} *\n",
        "5 =\n",
        "\\begin{bmatrix}\n",
        "  5 & 10 & 15 & 20 \\\\  \n",
        "\\end{bmatrix}$"
      ]
    },
    {
      "metadata": {
        "id": "A-JFyMKR_q_1",
        "colab_type": "code",
        "colab": {
          "autoexec": {
            "startup": false,
            "wait_interval": 0
          }
        }
      },
      "cell_type": "code",
      "source": [
        "# Resposta do exercício 4\n"
      ],
      "execution_count": 0,
      "outputs": []
    },
    {
      "metadata": {
        "id": "0CfA5li6BqeJ",
        "colab_type": "text"
      },
      "cell_type": "markdown",
      "source": [
        "**5.   Criar uma função que receba um list \"entrada\" e retorne um list sem itens duplicados.**\n",
        "\n",
        "entrada = ['A', 'B', 'C', 'D', 'C', 'E', 'A', 'F', 'D']\n",
        "\n",
        "resultado_esperado = ['A', 'B', 'C', 'D', 'E', 'F']"
      ]
    },
    {
      "metadata": {
        "id": "3jJglKwACv1v",
        "colab_type": "code",
        "colab": {
          "autoexec": {
            "startup": false,
            "wait_interval": 0
          }
        }
      },
      "cell_type": "code",
      "source": [
        "# Resposta do exercício 5\n"
      ],
      "execution_count": 0,
      "outputs": []
    },
    {
      "metadata": {
        "id": "NMGnuoXqECG8",
        "colab_type": "text"
      },
      "cell_type": "markdown",
      "source": [
        "**6.   Dada a lista abaixo, criar uma função que retorne um list com apenas os números pares.**\n",
        "\n",
        "entrada = [1, 66, 14, 51, 47, 12, 99, 102, 15]\n",
        "\n",
        "resultado_esperado = [66, 14, 12, 102]"
      ]
    },
    {
      "metadata": {
        "id": "BgZcb814EdqL",
        "colab_type": "code",
        "colab": {
          "autoexec": {
            "startup": false,
            "wait_interval": 0
          }
        }
      },
      "cell_type": "code",
      "source": [
        "# Resposta do exercício 6\n"
      ],
      "execution_count": 0,
      "outputs": []
    }
  ]
}