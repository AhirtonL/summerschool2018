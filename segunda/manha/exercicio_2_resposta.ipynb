{
  "nbformat": 4,
  "nbformat_minor": 0,
  "metadata": {
    "colab": {
      "name": "exercicio_2_resposta.ipynb",
      "version": "0.3.2",
      "views": {},
      "default_view": {},
      "provenance": [
        {
          "file_id": "10tu34AU-87fhLA1AxCaLyuXRjunwyt2S",
          "timestamp": 1517504491096
        },
        {
          "file_id": "17nCQmxOu4Xv0LmsnnCc3xVoVBKd1A1pB",
          "timestamp": 1517490083741
        }
      ],
      "collapsed_sections": []
    },
    "kernelspec": {
      "name": "python3",
      "display_name": "Python 3"
    }
  },
  "cells": [
    {
      "metadata": {
        "id": "hDsk-mGMcUio",
        "colab_type": "text"
      },
      "cell_type": "markdown",
      "source": [
        "![alt text](http://infra.heurys.com.br/summerschool/exercicio.02.png)"
      ]
    },
    {
      "metadata": {
        "id": "VzTjPFgw-HN0",
        "colab_type": "text"
      },
      "cell_type": "markdown",
      "source": [
        "**1.   Criar uma função que receba duas matrizes 3 x 3 e multiplique um elemento pelo outro.**\n",
        "\n",
        "$\\begin{bmatrix}\n",
        "  1 & 2 & 3 \\\\\n",
        "  4 & 5 & 6 \\\\\n",
        "  7 & 8 & 9 \\\\\n",
        "\\end{bmatrix} *\n",
        "\\begin{bmatrix}\n",
        "  2 & 3 & 4 \\\\\n",
        "  2 & 3 & 4 \\\\\n",
        "  2 & 3 & 4 \\\\\n",
        "\\end{bmatrix} =\n",
        "\\begin{bmatrix}\n",
        "  2 & 6 & 12 \\\\\n",
        "  8 & 15 & 24 \\\\\n",
        "  14 & 24 & 36 \\\\\n",
        "\\end{bmatrix}$"
      ]
    },
    {
      "metadata": {
        "id": "rTGjAvZ5-1Jo",
        "colab_type": "code",
        "colab": {
          "autoexec": {
            "startup": false,
            "wait_interval": 0
          },
          "output_extras": [
            {
              "item_id": 1
            }
          ],
          "base_uri": "https://localhost:8080/",
          "height": 85
        },
        "outputId": "fec2d58d-6ba9-41fb-f6a9-7a67e2c087b8",
        "executionInfo": {
          "status": "ok",
          "timestamp": 1517572366762,
          "user_tz": 120,
          "elapsed": 612,
          "user": {
            "displayName": "Marcelo Piovan",
            "photoUrl": "//lh3.googleusercontent.com/-1kocnuiw9tM/AAAAAAAAAAI/AAAAAAAAAaM/PNGlBGhV92Q/s50-c-k-no/photo.jpg",
            "userId": "109344316316211163977"
          }
        }
      },
      "cell_type": "code",
      "source": [
        "# Resposta do exercício 1\n",
        "import numpy as np\n",
        "\n",
        "matriz_a = np.array([[1,2,3],[4,5,6],[7,8,9]])\n",
        "matriz_b = np.array([[2,3,4],[2,3,4],[2,3,4]])\n",
        "\n",
        "multiplica_matriz = lambda a,b : a * b\n",
        "\n",
        "resultado = multiplica_matriz(matriz_a, matriz_b)\n",
        "\n",
        "print('Resultado:\\n', resultado)"
      ],
      "execution_count": 1,
      "outputs": [
        {
          "output_type": "stream",
          "text": [
            "Resultado:\n",
            " [[ 2  6 12]\n",
            " [ 8 15 24]\n",
            " [14 24 36]]\n"
          ],
          "name": "stdout"
        }
      ]
    },
    {
      "metadata": {
        "id": "68KYWSvI-6Gn",
        "colab_type": "text"
      },
      "cell_type": "markdown",
      "source": [
        "**2.   Criar uma função que multiplique um array 1 x 4 pelo valor 5.**\n",
        "\n",
        "$\\begin{bmatrix}\n",
        "  1 & 2 & 3 & 4 \\\\\n",
        "\\end{bmatrix} *\n",
        "5 =\n",
        "\\begin{bmatrix}\n",
        "  5 & 10 & 15 & 20 \\\\  \n",
        "\\end{bmatrix}$\n"
      ]
    },
    {
      "metadata": {
        "id": "bhPNs3vm_bq2",
        "colab_type": "code",
        "colab": {
          "autoexec": {
            "startup": false,
            "wait_interval": 0
          },
          "output_extras": [
            {
              "item_id": 1
            }
          ],
          "base_uri": "https://localhost:8080/",
          "height": 51
        },
        "outputId": "9976721d-3755-48de-b179-4b223fc69fcf",
        "executionInfo": {
          "status": "ok",
          "timestamp": 1517572452840,
          "user_tz": 120,
          "elapsed": 615,
          "user": {
            "displayName": "Marcelo Piovan",
            "photoUrl": "//lh3.googleusercontent.com/-1kocnuiw9tM/AAAAAAAAAAI/AAAAAAAAAaM/PNGlBGhV92Q/s50-c-k-no/photo.jpg",
            "userId": "109344316316211163977"
          }
        }
      },
      "cell_type": "code",
      "source": [
        "# Resposta do exercício 2\n",
        "import numpy as np\n",
        "\n",
        "array = np.array([1,2,3,4])\n",
        "\n",
        "def multiplica(a):\n",
        "  return a * 5\n",
        "\n",
        "resultado = multiplica(array)\n",
        "\n",
        "print('Resultado:\\n', resultado)"
      ],
      "execution_count": 2,
      "outputs": [
        {
          "output_type": "stream",
          "text": [
            "Resultado:\n",
            " [ 5 10 15 20]\n"
          ],
          "name": "stdout"
        }
      ]
    },
    {
      "metadata": {
        "id": "vNYzuKzBeMr3",
        "colab_type": "text"
      },
      "cell_type": "markdown",
      "source": [
        "**3.   Criar uma rotina que receba uma martiz 5 x 5 e troque a primeira linha pela segunda **\n",
        "\n",
        "$\\begin{bmatrix}\n",
        "  1 & 2 & 3 & 4 & 5 \\\\\n",
        "  6 & 7 & 8 & 9 & 10\\\\\n",
        "  11 & 12 & 13 & 14 & 15\\\\\n",
        "  16 & 17 & 18 & 19 & 20\\\\\n",
        "  21 & 22 & 23 & 24 & 25\\\\\n",
        "\\end{bmatrix} < = >\n",
        "\\begin{bmatrix}\n",
        "  6 & 7 & 8 & 9 & 10\\\\\n",
        "  1 & 2 & 3 & 4 & 5 \\\\\n",
        "  11 & 12 & 13 & 14 & 15\\\\\n",
        "  16 & 17 & 18 & 19 & 20\\\\\n",
        "  21 & 22 & 23 & 24 & 25\\\\\n",
        "\\end{bmatrix}\n",
        "$"
      ]
    },
    {
      "metadata": {
        "id": "VYfJVBl6eOXj",
        "colab_type": "code",
        "colab": {
          "autoexec": {
            "startup": false,
            "wait_interval": 0
          },
          "output_extras": [
            {
              "item_id": 1
            }
          ],
          "base_uri": "https://localhost:8080/",
          "height": 238
        },
        "outputId": "06e86fe9-071f-4651-bb8a-fcc26757aa70",
        "executionInfo": {
          "status": "ok",
          "timestamp": 1517574281813,
          "user_tz": 120,
          "elapsed": 616,
          "user": {
            "displayName": "Marcelo Piovan",
            "photoUrl": "//lh3.googleusercontent.com/-1kocnuiw9tM/AAAAAAAAAAI/AAAAAAAAAaM/PNGlBGhV92Q/s50-c-k-no/photo.jpg",
            "userId": "109344316316211163977"
          }
        }
      },
      "cell_type": "code",
      "source": [
        "# Resposta do exercício 3\n",
        "\n",
        "import numpy as np\n",
        "\n",
        "matriz = np.array([[1,2,3,4,5],[6,7,8,9,10],[11,12,13,14,15],[16,17,18,19,20],[21,22,23,24,25]])\n",
        "\n",
        "print('Matriz original:\\n', matriz, '\\n')\n",
        "\n",
        "matriz[[0,1]] = matriz[[1,0]]\n",
        "\n",
        "print('Matriz final:\\n', matriz)"
      ],
      "execution_count": 3,
      "outputs": [
        {
          "output_type": "stream",
          "text": [
            "Matriz original:\n",
            " [[ 1  2  3  4  5]\n",
            " [ 6  7  8  9 10]\n",
            " [11 12 13 14 15]\n",
            " [16 17 18 19 20]\n",
            " [21 22 23 24 25]] \n",
            "\n",
            "Matriz final:\n",
            " [[ 6  7  8  9 10]\n",
            " [ 1  2  3  4  5]\n",
            " [11 12 13 14 15]\n",
            " [16 17 18 19 20]\n",
            " [21 22 23 24 25]]\n"
          ],
          "name": "stdout"
        }
      ]
    },
    {
      "metadata": {
        "id": "NMGnuoXqECG8",
        "colab_type": "text"
      },
      "cell_type": "markdown",
      "source": [
        "**4.   Dada a tabela abaixo de vendas, vamos prever os 3 meses faltantes através de regressão linear. (utilizar apenas numpy e matlibplot) **\n",
        "\n",
        "\n",
        "\n",
        "<table style='border: 1px solid black;'>\n",
        "  <tr><th width='50px' align=\"left\">Mês</th><th width='100px' align=\"right\">Qtde. Cliente</th><th width='150px' align=\"right\">Total de Vendas(K)</th></tr>\n",
        "   <tr><td>Jan</td><td align=\"right\">730</td><td align=\"right\">9.85</td></tr>\n",
        "   <tr><td>Fev</td><td align=\"right\">880</td><td align=\"right\">10.20</td></tr>\n",
        "   <tr><td>Mar</td><td align=\"right\">505</td><td align=\"right\">6.44</td></tr>\n",
        "   <tr><td>Abr</td><td align=\"right\">529</td><td align=\"right\">7.07</td></tr>\n",
        "   <tr><td>Mai</td><td align=\"right\">872</td><td align=\"right\">9.91</td></tr>\n",
        "   <tr><td>Jun</td><td align=\"right\">907</td><td align=\"right\">11.20</td></tr>\n",
        "   <tr><td>Jul</td><td align=\"right\">926</td><td align=\"right\">11.03</td></tr>\n",
        "   <tr><td>Ago</td><td align=\"right\">679</td><td align=\"right\">7.24</td></tr>\n",
        "   <tr><td>Set</td><td align=\"right\">452</td><td align=\"right\">9.43</td></tr>  \n",
        "</table>\n",
        "\n",
        "<br>\n",
        "\n",
        "O objetivo desse cálculo é prever os valores de uma variável dependente (Y) com base em resultados da variável independente (X).\n",
        "\n",
        "Gostaríamos de prever os totais de vendas para os meses de Out, Nov e Dez, caso meus clientes sejam 500, 750, 1000 respectivamente.\n",
        "\n",
        "\n",
        "A fórmula da regressão linear é:\n",
        "\n",
        "$\n",
        "\\begin{equation*}\n",
        "Y = a + bX\n",
        "\\end{equation*}\n",
        "$\n",
        "\n",
        "onde,\n",
        "\n",
        "$X$ = Qtde. de Clientes que vamos prever\n",
        "\n",
        "$Y$ = Total de Vendas previsto\n",
        "\n",
        "$a$ e $b$ = São os dois coeficientes de regressão, necessários para fazermos a reta de regressão. \n",
        "\n",
        "\\\\\n",
        "\n",
        "**Fórmulas:**\n",
        "\n",
        "\\\\\n",
        "Para calcular **a**:\n",
        "\n",
        "\n",
        "$\n",
        "\\begin{equation*}\n",
        "a = \\overline{y} -b \\, \\overline{x}\n",
        "\\end{equation*}\n",
        "$\n",
        "\n",
        "Para calcular **b**:\n",
        "\n",
        "\n",
        "$\n",
        "\\begin{align}\n",
        "b = \\frac{ \\sum xy  -n \\: \\overline{xy}}{\\sum x^2 - n \\: \\overline{x}^2 }\n",
        "\\end{align}\n",
        "$\n",
        "\n",
        "\n",
        "onde:\n",
        "\n",
        "$x$ = Qtde. de Clientes dos meses conhecidos\n",
        "\n",
        "$y$ = Total de Vendas dos meses conhecidos\n",
        "\n",
        "$n$ = Qtde. de meses\n",
        "\n",
        "$\n",
        "\\begin{align}\n",
        "\\overline{x} \\end{align} $ = média de $x$\n",
        "\n",
        "$\n",
        "\\begin{align}\n",
        "\\overline{y} \\end{align} $ = média de $y$\n",
        "\n"
      ]
    },
    {
      "metadata": {
        "id": "BgZcb814EdqL",
        "colab_type": "code",
        "colab": {
          "autoexec": {
            "startup": false,
            "wait_interval": 0
          },
          "output_extras": [
            {
              "item_id": 1
            },
            {
              "item_id": 2
            }
          ],
          "base_uri": "https://localhost:8080/",
          "height": 377
        },
        "outputId": "7995c518-7c69-4e44-88a8-b7ea42980e80",
        "executionInfo": {
          "status": "ok",
          "timestamp": 1517838067444,
          "user_tz": 120,
          "elapsed": 1285,
          "user": {
            "displayName": "Marcelo Piovan",
            "photoUrl": "//lh3.googleusercontent.com/-1kocnuiw9tM/AAAAAAAAAAI/AAAAAAAAAaM/PNGlBGhV92Q/s50-c-k-no/photo.jpg",
            "userId": "109344316316211163977"
          }
        }
      },
      "cell_type": "code",
      "source": [
        "# Resposta do exercício 4\n",
        "import numpy as np\n",
        "\n",
        "# qtde de clientes (x)\n",
        "x = np.array([730, 880, 505, 529, 872, 907, 926, 679, 452]).reshape(-1,1)\n",
        "\n",
        "# total de vendas (y)\n",
        "y = np.array([9.85, 10.20, 6.44, 7.07, 9.91, 11.20, 11.03, 7.24, 9.43]).reshape(-1,1)\n",
        "\n",
        "             \n",
        "# clientes previstos para os meses de Out, Nov e Dez\n",
        "X_estimado = np.array([500, 750, 1000]).reshape(-1,1)\n",
        "\n",
        "\n",
        "# vamos definir todas as variáveis que precisamos para calcular\n",
        "n = x.size\n",
        "\n",
        "x_2 = x ** 2\n",
        "\n",
        "xy = x * y\n",
        "\n",
        "x_avg = np.average(x)\n",
        "y_avg = np.average(y)\n",
        "\n",
        "x_2_sum = np.sum(x_2)\n",
        "xy_sum = np.sum(xy)\n",
        "\n",
        "# vamos calcular b\n",
        "b = (xy_sum - n * x_avg * y_avg) / (x_2_sum - n * x_avg ** 2)\n",
        "\n",
        "# vamos calcular a\n",
        "a = y_avg - b * x_avg\n",
        "\n",
        "\n",
        "# vamos prever os dados\n",
        "Y_previsto = np.array(list(map(lambda item : a + b * item, X_estimado)))\n",
        "\n",
        "\n",
        "print('Intercept', a)\n",
        "print('Coefficient', b, '\\n')\n",
        "\n",
        "print('Clientes estimados: ', X_estimado.ravel())\n",
        "print('Venda prevista: ', Y_previsto.ravel())\n",
        "\n",
        "\n",
        "# Para exibir o gráfico\n",
        "import matplotlib.pyplot as plt\n",
        "\n",
        "\n",
        "# vamos mostrar os pontos atuais de nossa tabela\n",
        "plt.scatter(x, y, color='blue')\n",
        "\n",
        "# vamos mostrar os pontos previstos\n",
        "plt.scatter(X_estimado, Y_previsto, color='green')\n",
        "\n",
        "# vamos mostrar a reta\n",
        "plt.plot(X_estimado, Y_previsto, color='red')\n",
        "\n",
        "\n",
        "plt.title('Regressão Linear', fontsize=16)\n",
        "plt.xlabel('Clientes', fontsize=13)\n",
        "plt.ylabel('Total de Vendas', fontsize=13)\n",
        "\n",
        "plt.show()\n"
      ],
      "execution_count": 3,
      "outputs": [
        {
          "output_type": "stream",
          "text": [
            "x2: [[532900]\n",
            " [774400]\n",
            " [255025]\n",
            " [279841]\n",
            " [760384]\n",
            " [822649]\n",
            " [857476]\n",
            " [461041]\n",
            " [204304]]\n",
            "x_2_sum: [[532900]\n",
            " [774400]\n",
            " [255025]\n",
            " [279841]\n",
            " [760384]\n",
            " [822649]\n",
            " [857476]\n",
            " [461041]\n",
            " [204304]]\n",
            "282420.0\n"
          ],
          "name": "stdout"
        },
        {
          "output_type": "execute_result",
          "data": {
            "text/plain": [
              "\"\\n\\n\\nb = (xy_sum - n * x_avg * y_avg) / (x_2_sum - n * x_avg ** 2)\\n\\n\\n\\n\\n\\n\\n\\n\\n\\n\\n\\n\\n\\n\\n\\n\\n\\n\\n\\n# vamos calcular b\\n\\n# vamos calcular a\\na = y_avg - b * x_avg\\n\\n\\n# vamos prever os dados\\nY_previsto = np.array(list(map(lambda item : a + b * item, X_estimado)))\\n\\n\\nprint('Intercept', a)\\nprint('Coefficient', b, '\\n')\\n\\nprint('Clientes estimados: ', X_estimado.ravel())\\nprint('Venda prevista: ', Y_previsto.ravel())\\n\\n\\n# Para exibir o gráfico\\nimport matplotlib.pyplot as plt\\n\\n\\n# vamos mostrar os pontos atuais de nossa tabela\\nplt.scatter(x, y, color='blue')\\n\\n# vamos mostrar os pontos previstos\\nplt.scatter(X_estimado, Y_previsto, color='green')\\n\\n# vamos mostrar a reta\\nplt.plot(X_estimado, Y_previsto, color='red')\\n\\n\\nplt.title('Regressão Linear', fontsize=16)\\nplt.xlabel('Clientes', fontsize=13)\\nplt.ylabel('Total de Vendas', fontsize=13)\\n\\nplt.show()\\n\""
            ]
          },
          "metadata": {
            "tags": []
          },
          "execution_count": 3
        }
      ]
    }
  ]
}