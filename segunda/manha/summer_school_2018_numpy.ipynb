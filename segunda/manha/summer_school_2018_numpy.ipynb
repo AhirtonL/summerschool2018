{
 "cells": [
  {
   "cell_type": "markdown",
   "metadata": {
    "colab_type": "text",
    "id": "21xRWHO8NLue"
   },
   "source": [
    "![alt text](http://infra.heurys.com.br/summerschool/fundamentos.000.png)"
   ]
  },
  {
   "cell_type": "markdown",
   "metadata": {
    "colab_type": "text",
    "id": "bCIxp8oWydEJ"
   },
   "source": [
    "![alt text](http://infra.heurys.com.br/summerschool/numpy.png)"
   ]
  },
  {
   "cell_type": "markdown",
   "metadata": {
    "colab_type": "text",
    "id": "evPk5Bej4Z2k"
   },
   "source": [
    "## Importando a biblioteca do Numpy"
   ]
  },
  {
   "cell_type": "code",
   "execution_count": 47,
   "metadata": {
    "colab": {
     "autoexec": {
      "startup": false,
      "wait_interval": 0
     }
    },
    "colab_type": "code",
    "id": "30O1BKgf8swQ"
   },
   "outputs": [],
   "source": [
    "import numpy as np"
   ]
  },
  {
   "cell_type": "markdown",
   "metadata": {
    "colab_type": "text",
    "id": "7l9wIm3U8Z_Z"
   },
   "source": [
    "# 1 - Criando arrays com Numpy"
   ]
  },
  {
   "cell_type": "markdown",
   "metadata": {
    "colab_type": "text",
    "id": "-KLm3uwzfM6z"
   },
   "source": [
    "![alt text](http://infra.heurys.com.br/summerschool/numpy.create.png)"
   ]
  },
  {
   "cell_type": "markdown",
   "metadata": {
    "colab_type": "text",
    "id": "FFP3Ty3b4lJN"
   },
   "source": [
    "> ## 1.1- Array de várias dimensões (array)\n",
    "> #### ***Objetivo***: Criar um array de uma ou várias dimensões.\n",
    "> ##### documentação: https://docs.scipy.org/doc/numpy-1.13.0/reference/generated/numpy.array.html"
   ]
  },
  {
   "cell_type": "code",
   "execution_count": 48,
   "metadata": {
    "colab": {
     "autoexec": {
      "startup": false,
      "wait_interval": 0
     }
    },
    "colab_type": "code",
    "id": "euJuTql75aCn"
   },
   "outputs": [
    {
     "name": "stdout",
     "output_type": "stream",
     "text": [
      "Vetor:\n",
      " [1 2 3]\n"
     ]
    }
   ],
   "source": [
    "vetor  = np.array([1,2,3])\n",
    "print('Vetor:\\n',vetor)"
   ]
  },
  {
   "cell_type": "code",
   "execution_count": 49,
   "metadata": {
    "colab": {
     "autoexec": {
      "startup": false,
      "wait_interval": 0
     }
    },
    "colab_type": "code",
    "id": "2YwYMzE-5msp"
   },
   "outputs": [
    {
     "name": "stdout",
     "output_type": "stream",
     "text": [
      "Matriz:\n",
      " [[1 2 3]\n",
      " [4 5 6]]\n"
     ]
    }
   ],
   "source": [
    "matriz = np.array([[1,2,3], [4,5,6]])\n",
    "print('Matriz:\\n',matriz)"
   ]
  },
  {
   "cell_type": "code",
   "execution_count": 50,
   "metadata": {
    "colab": {
     "autoexec": {
      "startup": false,
      "wait_interval": 0
     }
    },
    "colab_type": "code",
    "id": "K6UUIfr59FGB"
   },
   "outputs": [
    {
     "name": "stdout",
     "output_type": "stream",
     "text": [
      "Matriz 2x2:\n",
      " [[1 2]\n",
      " [3 4]]\n"
     ]
    }
   ],
   "source": [
    "matriz_2_2 = np.matrix('1 2; 3 4')\n",
    "print('Matriz 2x2:\\n',matriz_2_2)"
   ]
  },
  {
   "cell_type": "code",
   "execution_count": 51,
   "metadata": {
    "colab": {
     "autoexec": {
      "startup": false,
      "wait_interval": 0
     }
    },
    "colab_type": "code",
    "id": "pqW9KkHS9HRJ"
   },
   "outputs": [
    {
     "name": "stdout",
     "output_type": "stream",
     "text": [
      "Matriz 2x3:\n",
      " [[1 2 3]\n",
      " [4 5 6]]\n"
     ]
    }
   ],
   "source": [
    "matriz_2_3 = np.matrix([[1,2,3],[4,5,6]])\n",
    "print('Matriz 2x3:\\n',matriz_2_3)"
   ]
  },
  {
   "cell_type": "code",
   "execution_count": 52,
   "metadata": {
    "colab": {
     "autoexec": {
      "startup": false,
      "wait_interval": 0
     }
    },
    "colab_type": "code",
    "id": "lj81CPtt9YxC"
   },
   "outputs": [
    {
     "name": "stdout",
     "output_type": "stream",
     "text": [
      "Matriz 2x3x3:\n",
      " [[[ 1  2  3]\n",
      "  [ 4  5  6]]\n",
      "\n",
      " [[ 7  8  9]\n",
      "  [10 11 12]]\n",
      "\n",
      " [[13 14 15]\n",
      "  [16 17 18]]]\n"
     ]
    }
   ],
   "source": [
    "matriz_3_2_3 = np.array([[[1,2,3],[4,5,6]],[[7,8,9],[10,11,12]],[[13,14,15],[16,17,18]]])\n",
    "print('Matriz 2x3x3:\\n',matriz_3_2_3)"
   ]
  },
  {
   "cell_type": "markdown",
   "metadata": {
    "colab_type": "text",
    "id": "0dvtWahV5y_A"
   },
   "source": [
    "> ## 1.2- Arrays com dados sequenciais (arange)\n",
    "> #### ***Objetivo***: Retornar um array com valores dentro de um intervalo. É importante lembrar que o parâmetro final (stop) do intervalo não será retornado.\n",
    "> ##### documentação: https://docs.scipy.org/doc/numpy-1.13.0/reference/generated/numpy.arange.html"
   ]
  },
  {
   "cell_type": "code",
   "execution_count": 53,
   "metadata": {
    "colab": {
     "autoexec": {
      "startup": false,
      "wait_interval": 0
     }
    },
    "colab_type": "code",
    "id": "4itC4Hca5sqX"
   },
   "outputs": [
    {
     "name": "stdout",
     "output_type": "stream",
     "text": [
      "Vetor 1x16:\n",
      " [ 1  2  3  4  5  6  7  8  9 10 11 12 13 14 15 16] \n",
      "\n",
      "Vetor 10-25:\n",
      " [10 15 20] \n",
      "\n"
     ]
    }
   ],
   "source": [
    "vetor_16 = np.arange(1,17)\n",
    "print('Vetor 1x16:\\n',vetor_16, '\\n')\n",
    "\n",
    "vetor_10_a_25 = np.arange(10,25,5)\n",
    "print('Vetor 10-25:\\n', vetor_10_a_25, '\\n')"
   ]
  },
  {
   "cell_type": "markdown",
   "metadata": {
    "colab_type": "text",
    "id": "u_KNiUyb6EmR"
   },
   "source": [
    "> ## 1.3- Arrays não inicializados > valores aleatórios (empty)\n",
    "> #### ***Objetivo***: Retornar um array não incializado\n",
    "> ##### documentação: https://docs.scipy.org/doc/numpy-1.13.0/reference/generated/numpy.empty.html\n",
    "> ##### documentação: https://docs.scipy.org/doc/numpy-1.13.0/reference/generated/numpy.empty_like.html"
   ]
  },
  {
   "cell_type": "code",
   "execution_count": 54,
   "metadata": {
    "colab": {
     "autoexec": {
      "startup": false,
      "wait_interval": 0
     }
    },
    "colab_type": "code",
    "id": "n3UPjzgy6OaQ"
   },
   "outputs": [
    {
     "name": "stdout",
     "output_type": "stream",
     "text": [
      "Matriz 2x2 (empty):\n",
      " [[ 0.  0.]\n",
      " [ 0.  0.]] \n",
      "\n",
      "Matriz (empty_like):\n",
      " [[ 0.  0.]\n",
      " [ 0.  0.]]\n"
     ]
    }
   ],
   "source": [
    "matriz_2_2_empty = np.empty((2,2))\n",
    "print('Matriz 2x2 (empty):\\n',matriz_2_2_empty, '\\n')\n",
    "\n",
    "matriz_empty_like = np.empty_like(matriz_2_2_empty)\n",
    "print('Matriz (empty_like):\\n',matriz_empty_like)"
   ]
  },
  {
   "cell_type": "markdown",
   "metadata": {
    "colab_type": "text",
    "id": "hJx08Aa66lFp"
   },
   "source": [
    "> ## 1.4- Arrays inicializados com valores randômicos (random)\n",
    "> #### ***Objetivo***: Retornar um array incializado com valores randômicos no intervalo de 0 - 1.\n",
    "> ##### documentação: https://docs.scipy.org/doc/numpy-1.13.0/reference/generated/numpy.random.random.html"
   ]
  },
  {
   "cell_type": "code",
   "execution_count": 55,
   "metadata": {
    "colab": {
     "autoexec": {
      "startup": false,
      "wait_interval": 0
     }
    },
    "colab_type": "code",
    "id": "iu_FDLtb6ttZ"
   },
   "outputs": [
    {
     "name": "stdout",
     "output_type": "stream",
     "text": [
      "Matriz 2x2 (random):\n",
      " [[ 0.43235903  0.96217888]\n",
      " [ 0.098508    0.48100658]]\n"
     ]
    }
   ],
   "source": [
    "matriz_2_2_random = np.random.random((2,2))\n",
    "print('Matriz 2x2 (random):\\n',matriz_2_2_random)"
   ]
  },
  {
   "cell_type": "markdown",
   "metadata": {
    "colab_type": "text",
    "id": "KQc-W_LJ657z"
   },
   "source": [
    "> ## 1.5- Arrays inicializados com 1 (ones)\n",
    "> #### ***Objetivo***: Retornar uma matriz incializada com zero\n",
    "> ##### documentação: https://docs.scipy.org/doc/numpy-1.13.0/reference/generated/numpy.ones.html\n",
    "> ##### documentação: https://docs.scipy.org/doc/numpy-1.13.0/reference/generated/numpy.ones_like.html"
   ]
  },
  {
   "cell_type": "code",
   "execution_count": 56,
   "metadata": {
    "colab": {
     "autoexec": {
      "startup": false,
      "wait_interval": 0
     }
    },
    "colab_type": "code",
    "id": "QLLSYr1H6_pU"
   },
   "outputs": [
    {
     "name": "stdout",
     "output_type": "stream",
     "text": [
      "Matriz 3x3x3 (ones):\n",
      " [[[ 1.  1.  1.]\n",
      "  [ 1.  1.  1.]\n",
      "  [ 1.  1.  1.]]\n",
      "\n",
      " [[ 1.  1.  1.]\n",
      "  [ 1.  1.  1.]\n",
      "  [ 1.  1.  1.]]\n",
      "\n",
      " [[ 1.  1.  1.]\n",
      "  [ 1.  1.  1.]\n",
      "  [ 1.  1.  1.]]] \n",
      "\n",
      "Matriz (ones like):\n",
      " [[ 1.  1.]\n",
      " [ 1.  1.]]\n"
     ]
    }
   ],
   "source": [
    "matriz_3_3_3_ones = np.ones((3,3,3))\n",
    "print('Matriz 3x3x3 (ones):\\n', matriz_3_3_3_ones, '\\n')\n",
    "\n",
    "matriz_ones_like = np.ones_like(matriz_2_2_empty)\n",
    "print('Matriz (ones like):\\n', matriz_ones_like)"
   ]
  },
  {
   "cell_type": "markdown",
   "metadata": {
    "colab_type": "text",
    "id": "-0EcFQPR7TsK"
   },
   "source": [
    "> ## 1.6- Arrays inicializados com um número (full)\n",
    "> #### ***Objetivo***: Retornar um array incializado com um valor definido.\n",
    "> ##### documentação: https://docs.scipy.org/doc/numpy-1.13.0/reference/generated/numpy.full.html\n",
    "> ##### documentação: https://docs.scipy.org/doc/numpy-1.13.0/reference/generated/numpy.full_like.html"
   ]
  },
  {
   "cell_type": "code",
   "execution_count": 57,
   "metadata": {
    "colab": {
     "autoexec": {
      "startup": false,
      "wait_interval": 0
     }
    },
    "colab_type": "code",
    "id": "a7qwEHvV7YPa"
   },
   "outputs": [
    {
     "name": "stdout",
     "output_type": "stream",
     "text": [
      "Matriz 4x4 (full):\n",
      " [[10 10 10 10]\n",
      " [10 10 10 10]\n",
      " [10 10 10 10]\n",
      " [10 10 10 10]] \n",
      "\n",
      "Matriz (full like):\n",
      " [[ 5.  5.]\n",
      " [ 5.  5.]]\n"
     ]
    }
   ],
   "source": [
    "matriz_4_4_full = np.full((4,4), 10)\n",
    "print('Matriz 4x4 (full):\\n',matriz_4_4_full, '\\n')\n",
    "\n",
    "\n",
    "matriz_full_like = np.full_like(matriz_2_2_empty, 5)\n",
    "print('Matriz (full like):\\n', matriz_full_like)"
   ]
  },
  {
   "cell_type": "markdown",
   "metadata": {
    "colab_type": "text",
    "id": "mFZrxrnf72Uk"
   },
   "source": [
    "> ## 1.7- Arrays inicializados com 0 (zeros)\n",
    "> #### ***Objetivo***: Retornar um array incializado com zeros.\n",
    "> ##### documentação: https://docs.scipy.org/doc/numpy-1.13.0/reference/generated/numpy.zeros.html\n",
    "> ##### documentação: https://docs.scipy.org/doc/numpy-1.13.0/reference/generated/numpy.zeros_like.html"
   ]
  },
  {
   "cell_type": "code",
   "execution_count": 58,
   "metadata": {
    "colab": {
     "autoexec": {
      "startup": false,
      "wait_interval": 0
     }
    },
    "colab_type": "code",
    "id": "g1mGdr0X75d1"
   },
   "outputs": [
    {
     "name": "stdout",
     "output_type": "stream",
     "text": [
      "Matriz 3x3:\n",
      " [[ 0.  0.  0.]\n",
      " [ 0.  0.  0.]\n",
      " [ 0.  0.  0.]] \n",
      "\n",
      "Matriz (zeros like):\n",
      " [[ 0.  0.]\n",
      " [ 0.  0.]]\n"
     ]
    }
   ],
   "source": [
    "matriz_3_3 = np.zeros((3,3))\n",
    "print('Matriz 3x3:\\n',matriz_3_3, '\\n')\n",
    "\n",
    "\n",
    "matriz_zeros_like = np.zeros_like(matriz_2_2_empty)\n",
    "print('Matriz (zeros like):\\n', matriz_zeros_like)"
   ]
  },
  {
   "cell_type": "markdown",
   "metadata": {
    "colab_type": "text",
    "id": "1O7jlzRM_gB7"
   },
   "source": [
    "> ## 1.8- Arrays inicializados com valores entre dois números (linspace)\n",
    "> #### ***Objetivo***: Retornar um array incializado com um valor definido em um range. É importante lembrar que o parâmetro final (stop) do intervalo não será retornado.\n",
    "> ##### documentação: https://docs.scipy.org/doc/numpy-1.13.0/reference/generated/numpy.linspace.html"
   ]
  },
  {
   "cell_type": "code",
   "execution_count": 59,
   "metadata": {
    "colab": {
     "autoexec": {
      "startup": false,
      "wait_interval": 0
     }
    },
    "colab_type": "code",
    "id": "OhCz2K-Y-aud"
   },
   "outputs": [
    {
     "name": "stdout",
     "output_type": "stream",
     "text": [
      "vetor 0-2:\n",
      " [ 0.     0.125  0.25   0.375  0.5    0.625  0.75   0.875  1.   ]\n"
     ]
    }
   ],
   "source": [
    "vetor_0_a_2 = np.linspace(0,1,9)\n",
    "print('vetor 0-2:\\n', vetor_0_a_2)"
   ]
  },
  {
   "cell_type": "markdown",
   "metadata": {
    "colab_type": "text",
    "id": "ZdcUSSqe_SVE"
   },
   "source": [
    "> ## 1.9 - Arrays bidimensionais diagonais (diag)\n",
    "> #### ***Objetivo***: Criar uma matriz quadrada a partir de uma diagonal ou extrair a diagonal de uma matriz.\n",
    "> ##### documentação: https://docs.scipy.org/doc/numpy-1.13.0/reference/generated/numpy.diag.html"
   ]
  },
  {
   "cell_type": "code",
   "execution_count": 60,
   "metadata": {
    "colab": {
     "autoexec": {
      "startup": false,
      "wait_interval": 0
     }
    },
    "colab_type": "code",
    "id": "qDDeaTfa_eMD"
   },
   "outputs": [
    {
     "name": "stdout",
     "output_type": "stream",
     "text": [
      "Matriz diagonal:\n",
      " [[1 0 0]\n",
      " [0 2 0]\n",
      " [0 0 3]]\n"
     ]
    }
   ],
   "source": [
    "matriz_diagonal = np.diag([1,2,3])\n",
    "print('Matriz diagonal:\\n', matriz_diagonal)"
   ]
  },
  {
   "cell_type": "code",
   "execution_count": 61,
   "metadata": {
    "colab": {
     "autoexec": {
      "startup": false,
      "wait_interval": 0
     }
    },
    "colab_type": "code",
    "id": "CAgNUNy2AHq_"
   },
   "outputs": [
    {
     "name": "stdout",
     "output_type": "stream",
     "text": [
      "Matriz diagonal +1:\n",
      " [[0 1 0 0]\n",
      " [0 0 2 0]\n",
      " [0 0 0 3]\n",
      " [0 0 0 0]]\n"
     ]
    }
   ],
   "source": [
    "matriz_diagonal_1p = np.diag([1,2,3],1)\n",
    "print('Matriz diagonal +1:\\n', matriz_diagonal_1p)"
   ]
  },
  {
   "cell_type": "code",
   "execution_count": 62,
   "metadata": {
    "colab": {
     "autoexec": {
      "startup": false,
      "wait_interval": 0
     }
    },
    "colab_type": "code",
    "id": "FYZy-KG6A1gS"
   },
   "outputs": [
    {
     "name": "stdout",
     "output_type": "stream",
     "text": [
      "Matriz diagonal -1:\n",
      " [[0 0 0 0]\n",
      " [1 0 0 0]\n",
      " [0 2 0 0]\n",
      " [0 0 3 0]]\n"
     ]
    }
   ],
   "source": [
    "matriz_diagonal_1n = np.diag([1,2,3], -1)\n",
    "print('Matriz diagonal -1:\\n', matriz_diagonal_1n)"
   ]
  },
  {
   "cell_type": "code",
   "execution_count": 63,
   "metadata": {
    "colab": {
     "autoexec": {
      "startup": false,
      "wait_interval": 0
     }
    },
    "colab_type": "code",
    "id": "SV4lnByjCvCh"
   },
   "outputs": [
    {
     "name": "stdout",
     "output_type": "stream",
     "text": [
      "Matriz 3 x 3: \n",
      " [[1 2 3]\n",
      " [4 5 6]\n",
      " [7 8 9]] \n",
      "\n",
      "Diagonal: \n",
      " [1 5 9] \n",
      "\n",
      "Matriz diagonal nova: \n",
      " [[1 0 0]\n",
      " [0 5 0]\n",
      " [0 0 9]]\n"
     ]
    }
   ],
   "source": [
    "matriz_base_3_3 = np.array([[1,2,3],[4,5,6],[7,8,9]])\n",
    "print('Matriz 3 x 3: \\n', matriz_base_3_3, '\\n')\n",
    "\n",
    "diagonal = np.diag(matriz_base_3_3)\n",
    "print('Diagonal: \\n', diagonal, '\\n')\n",
    "\n",
    "matriz_diagonal_nova = np.diag(diagonal)\n",
    "print('Matriz diagonal nova: \\n', matriz_diagonal_nova)"
   ]
  },
  {
   "cell_type": "markdown",
   "metadata": {
    "colab_type": "text",
    "id": "R8ZWo4GoDtOu"
   },
   "source": [
    "> ## 1.10 - Arrays bidimensionais de identidade (eye, identity)\n",
    "> #### ***Objetivo eye***: Criar um array inicializando a diagonal com 1 e o restante com zeros.\n",
    "> #### ***Objetivo identity***: Criar uma matriz quadrada inicializando a diagonal com 1 e o restante com zeros.\n",
    "> ##### documentação: https://docs.scipy.org/doc/numpy-1.13.0/reference/generated/numpy.eye.html\n",
    "> ##### documentação: https://docs.scipy.org/doc/numpy-1.13.0/reference/generated/numpy.identity.html"
   ]
  },
  {
   "cell_type": "code",
   "execution_count": 64,
   "metadata": {
    "colab": {
     "autoexec": {
      "startup": false,
      "wait_interval": 0
     }
    },
    "colab_type": "code",
    "id": "jIRQ36y4Dzi9"
   },
   "outputs": [
    {
     "name": "stdout",
     "output_type": "stream",
     "text": [
      "Matriz identidade:\n",
      " [[1 0 0]\n",
      " [0 1 0]\n",
      " [0 0 1]] \n",
      "\n",
      "Matriz identidade:\n",
      " [[1 0 0]\n",
      " [0 1 0]\n",
      " [0 0 1]]\n"
     ]
    }
   ],
   "source": [
    "matriz_identidade = np.eye(3, dtype=np.int16)\n",
    "print('Matriz identidade:\\n', matriz_identidade, '\\n')\n",
    "\n",
    "matriz_identidade = np.identity(3, dtype=np.int16)\n",
    "print('Matriz identidade:\\n', matriz_identidade)"
   ]
  },
  {
   "cell_type": "code",
   "execution_count": 65,
   "metadata": {
    "colab": {
     "autoexec": {
      "startup": false,
      "wait_interval": 0
     }
    },
    "colab_type": "code",
    "id": "rX89VfDBD8_0"
   },
   "outputs": [
    {
     "name": "stdout",
     "output_type": "stream",
     "text": [
      "Matriz +1:\n",
      " [[0 1 0]\n",
      " [0 0 1]\n",
      " [0 0 0]] \n",
      "\n",
      "Matriz -1:\n",
      " [[0 0 0]\n",
      " [1 0 0]\n",
      " [0 1 0]] \n",
      "\n",
      "Matriz identidade 2 colunas:\n",
      " [[1 0]\n",
      " [0 1]\n",
      " [0 0]]\n"
     ]
    }
   ],
   "source": [
    "matriz_1p = np.eye(3, k=1, dtype=np.int16)\n",
    "print('Matriz +1:\\n', matriz_1p, '\\n')\n",
    "\n",
    "matriz_1n = np.eye(3, k=-1, dtype=np.int16)\n",
    "print('Matriz -1:\\n', matriz_1n, '\\n')\n",
    "\n",
    "matriz_2col = np.eye(3, 2, k=0, dtype=np.int16)\n",
    "print('Matriz identidade 2 colunas:\\n', matriz_2col)"
   ]
  },
  {
   "cell_type": "markdown",
   "metadata": {
    "colab_type": "text",
    "id": "_iz9V5x0F6M_"
   },
   "source": [
    "> ## 1.11 - Recuperando informações dos arrays"
   ]
  },
  {
   "cell_type": "markdown",
   "metadata": {
    "colab_type": "text",
    "id": "SG7J6B1GGBtf"
   },
   "source": [
    ">> ### 1.11.1 - Formato do array (shape)\n",
    ">> #### ***Objetivo***: Retornar o formato de um array.\n",
    ">> ##### documentação: https://docs.scipy.org/doc/numpy-1.13.0/reference/generated/numpy.ndarray.shape.html"
   ]
  },
  {
   "cell_type": "code",
   "execution_count": 66,
   "metadata": {
    "colab": {
     "autoexec": {
      "startup": false,
      "wait_interval": 0
     }
    },
    "colab_type": "code",
    "id": "KZ2augx2GHhX"
   },
   "outputs": [
    {
     "name": "stdout",
     "output_type": "stream",
     "text": [
      "formato:  (3, 3)\n",
      "formato:  (2, 2)\n",
      "formato:  (3, 2, 3)\n",
      "formato:  (9,)\n"
     ]
    }
   ],
   "source": [
    "print('formato: ', matriz_3_3.shape)\n",
    "print('formato: ', matriz_2_2.shape)\n",
    "print('formato: ', matriz_3_2_3.shape)\n",
    "print('formato: ', vetor_0_a_2.shape)"
   ]
  },
  {
   "cell_type": "markdown",
   "metadata": {
    "colab_type": "text",
    "id": "nvgKAGIjHJkQ"
   },
   "source": [
    ">> ### 1.11.2 - Tamanho do array (size)\n",
    ">> #### ***Objetivo***: Retornar o número de elementos de um array.\n",
    ">> ##### documentação: https://docs.scipy.org/doc/numpy-1.13.0/reference/generated/numpy.ndarray.size.html"
   ]
  },
  {
   "cell_type": "code",
   "execution_count": 67,
   "metadata": {
    "colab": {
     "autoexec": {
      "startup": false,
      "wait_interval": 0
     }
    },
    "colab_type": "code",
    "id": "P2BuMw0XHQaR"
   },
   "outputs": [
    {
     "name": "stdout",
     "output_type": "stream",
     "text": [
      "tamanho:  9\n",
      "tamanho:  4\n",
      "tamanho:  18\n",
      "tamanho:  9\n"
     ]
    }
   ],
   "source": [
    "print('tamanho: ', matriz_3_3.size)\n",
    "print('tamanho: ', matriz_2_2.size)\n",
    "print('tamanho: ', matriz_3_2_3.size)\n",
    "print('tamanho: ', vetor_0_a_2.size)"
   ]
  },
  {
   "cell_type": "markdown",
   "metadata": {
    "colab_type": "text",
    "id": "GXxNNPKIHaXc"
   },
   "source": [
    ">> ### 1.11.3 - Dimensão do array (ndim)\n",
    ">> #### ***Objetivo***: Retornar a quantidade de dimensões de um array.\n",
    ">> ##### documentação: https://docs.scipy.org/doc/numpy-1.13.0/reference/generated/numpy.ndarray.ndim.html"
   ]
  },
  {
   "cell_type": "code",
   "execution_count": 68,
   "metadata": {
    "colab": {
     "autoexec": {
      "startup": false,
      "wait_interval": 0
     }
    },
    "colab_type": "code",
    "id": "r4XcpHeVHe3s"
   },
   "outputs": [
    {
     "name": "stdout",
     "output_type": "stream",
     "text": [
      "dimensão:  2\n",
      "dimensão:  3\n",
      "dimensão:  1\n"
     ]
    }
   ],
   "source": [
    "print('dimensão: ', matriz_3_3.ndim)\n",
    "print('dimensão: ', matriz_3_2_3.ndim)\n",
    "print('dimensão: ', vetor_0_a_2.ndim)"
   ]
  },
  {
   "cell_type": "markdown",
   "metadata": {
    "colab_type": "text",
    "id": "KNEHylYbHplC"
   },
   "source": [
    ">> ### 1.11.4 - Tipo dos elementos do array (dtype)\n",
    ">> #### ***Objetivo***: Retornar o tipo dos elementos de um array.\n",
    ">> ##### documentação: https://docs.scipy.org/doc/numpy-1.13.0/reference/generated/numpy.ndarray.dtype.html"
   ]
  },
  {
   "cell_type": "code",
   "execution_count": 69,
   "metadata": {
    "colab": {
     "autoexec": {
      "startup": false,
      "wait_interval": 0
     }
    },
    "colab_type": "code",
    "id": "nt52thMTHuoS"
   },
   "outputs": [
    {
     "name": "stdout",
     "output_type": "stream",
     "text": [
      "tipo:  float64\n"
     ]
    }
   ],
   "source": [
    "print('tipo: ', matriz_3_3.dtype)"
   ]
  },
  {
   "cell_type": "markdown",
   "metadata": {
    "colab_type": "text",
    "id": "Zf8xR8faIJDS"
   },
   "source": [
    ">> ### 1.11.5 - Tamanho em bytes do array (itemsize)\n",
    ">> #### ***Objetivo***: Retornar a quantidade de bytes utilizada pelo array.\n",
    ">> ##### documentação: https://docs.scipy.org/doc/numpy-1.13.0/reference/generated/numpy.ndarray.itemsize.html"
   ]
  },
  {
   "cell_type": "code",
   "execution_count": 70,
   "metadata": {
    "colab": {
     "autoexec": {
      "startup": false,
      "wait_interval": 0
     }
    },
    "colab_type": "code",
    "id": "jdWnZLGjIRvy"
   },
   "outputs": [
    {
     "name": "stdout",
     "output_type": "stream",
     "text": [
      "8 bytes\n"
     ]
    }
   ],
   "source": [
    "print(matriz_3_3.itemsize, 'bytes')"
   ]
  },
  {
   "cell_type": "markdown",
   "metadata": {
    "colab_type": "text",
    "id": "uvagyGtsJ5ME"
   },
   "source": [
    "# 2 - Transformando os arrays"
   ]
  },
  {
   "cell_type": "markdown",
   "metadata": {
    "colab_type": "text",
    "id": "Mnt5-IZhyxUO"
   },
   "source": [
    "![alt text](http://infra.heurys.com.br/summerschool/numpy.transform.01.PNG)"
   ]
  },
  {
   "cell_type": "code",
   "execution_count": 71,
   "metadata": {
    "colab": {
     "autoexec": {
      "startup": false,
      "wait_interval": 0
     }
    },
    "colab_type": "code",
    "id": "xUE8669fKAzU"
   },
   "outputs": [
    {
     "name": "stdout",
     "output_type": "stream",
     "text": [
      "1 x 16:\n",
      " [ 1  2  3  4  5  6  7  8  9 10 11 12 13 14 15 16]\n"
     ]
    }
   ],
   "source": [
    "vetor_base = np.arange(1,17)\n",
    "print('1 x 16:\\n', vetor_base)"
   ]
  },
  {
   "cell_type": "markdown",
   "metadata": {
    "colab_type": "text",
    "id": "H0VVb7TyKOTV"
   },
   "source": [
    "> ## 2.1 - Transformando um vetor em uma matriz, com ordem dos elementos = \"C\" ou \"F\"ortran. (reshape)\n",
    ">> #### ***Objetivo***: Retornar um novo formato de array sem alterar os dados e o formato original.\n",
    ">> ##### documentação: https://docs.scipy.org/doc/numpy-1.13.0/reference/generated/numpy.reshape.html"
   ]
  },
  {
   "cell_type": "code",
   "execution_count": 72,
   "metadata": {
    "colab": {
     "autoexec": {
      "startup": false,
      "wait_interval": 0
     }
    },
    "colab_type": "code",
    "id": "O4rvF8yhKjgV"
   },
   "outputs": [
    {
     "name": "stdout",
     "output_type": "stream",
     "text": [
      "4 x 4 ordem C:\n",
      " [[ 1  2  3  4]\n",
      " [ 5  6  7  8]\n",
      " [ 9 10 11 12]\n",
      " [13 14 15 16]] \n",
      "\n"
     ]
    }
   ],
   "source": [
    "matriz_4_4_c = vetor_base.reshape((4,4),order='C')\n",
    "print('4 x 4 ordem C:\\n', matriz_4_4_c, '\\n')"
   ]
  },
  {
   "cell_type": "code",
   "execution_count": 73,
   "metadata": {
    "colab": {
     "autoexec": {
      "startup": false,
      "wait_interval": 0
     }
    },
    "colab_type": "code",
    "id": "I_4zmJsbd_uo"
   },
   "outputs": [
    {
     "name": "stdout",
     "output_type": "stream",
     "text": [
      "4 x 4 ordem F:\n",
      " [[ 1  5  9 13]\n",
      " [ 2  6 10 14]\n",
      " [ 3  7 11 15]\n",
      " [ 4  8 12 16]] \n",
      "\n"
     ]
    }
   ],
   "source": [
    "matriz_4_4_f = vetor_base.reshape((4,4),order='F')\n",
    "print('4 x 4 ordem F:\\n', matriz_4_4_f, '\\n')"
   ]
  },
  {
   "cell_type": "code",
   "execution_count": 74,
   "metadata": {
    "colab": {
     "autoexec": {
      "startup": false,
      "wait_interval": 0
     }
    },
    "colab_type": "code",
    "id": "id45UiD9eCXA"
   },
   "outputs": [
    {
     "name": "stdout",
     "output_type": "stream",
     "text": [
      "2 x 8:\n",
      " [[ 1  2  3  4  5  6  7  8]\n",
      " [ 9 10 11 12 13 14 15 16]] \n",
      "\n"
     ]
    }
   ],
   "source": [
    "matriz_2_8 = np.reshape(vetor_base, (2,8), order='C')\n",
    "print('2 x 8:\\n', matriz_2_8, '\\n')"
   ]
  },
  {
   "cell_type": "code",
   "execution_count": 75,
   "metadata": {
    "colab": {
     "autoexec": {
      "startup": false,
      "wait_interval": 0
     }
    },
    "colab_type": "code",
    "id": "xzsVSHhNeDTH"
   },
   "outputs": [
    {
     "name": "stdout",
     "output_type": "stream",
     "text": [
      "8 x 2:\n",
      " [[ 1  2]\n",
      " [ 3  4]\n",
      " [ 5  6]\n",
      " [ 7  8]\n",
      " [ 9 10]\n",
      " [11 12]\n",
      " [13 14]\n",
      " [15 16]] \n",
      "\n"
     ]
    }
   ],
   "source": [
    "matriz_8_2 = np.reshape(vetor_base, (8,2))\n",
    "print('8 x 2:\\n', matriz_8_2, '\\n')"
   ]
  },
  {
   "cell_type": "code",
   "execution_count": 76,
   "metadata": {
    "colab": {
     "autoexec": {
      "startup": false,
      "wait_interval": 0
     }
    },
    "colab_type": "code",
    "id": "xYyyc81TeEWQ"
   },
   "outputs": [
    {
     "name": "stdout",
     "output_type": "stream",
     "text": [
      "2 x D:\n",
      " [[ 1  2  3  4  5  6  7  8]\n",
      " [ 9 10 11 12 13 14 15 16]]\n"
     ]
    }
   ],
   "source": [
    "matriz_2_dim_column = np.reshape(vetor_base, (2,-1))\n",
    "print('2 x D:\\n', matriz_2_dim_column)"
   ]
  },
  {
   "cell_type": "code",
   "execution_count": 77,
   "metadata": {
    "colab": {
     "autoexec": {
      "startup": false,
      "wait_interval": 0
     }
    },
    "colab_type": "code",
    "id": "wOuk0e3peSvg"
   },
   "outputs": [
    {
     "name": "stdout",
     "output_type": "stream",
     "text": [
      "2 x 8 b:\n",
      " [[ 1  5  9 13  2  6 10 14]\n",
      " [ 3  7 11 15  4  8 12 16]]\n"
     ]
    }
   ],
   "source": [
    "matriz_2_8_b = np.reshape(matriz_4_4_f,(2,8))\n",
    "print('2 x 8 b:\\n', matriz_2_8_b)"
   ]
  },
  {
   "cell_type": "markdown",
   "metadata": {
    "colab_type": "text",
    "id": "mV9eZN7ZqV03"
   },
   "source": [
    "> ## 2.2 - Transformando um vetor em uma matriz, com ordem dos elementos = \"C\" ou \"F\"ortran. (resize)\n",
    ">> #### ***Objetivo***: Transforma o array em um novo formato.\n",
    ">> ##### documentação: https://docs.scipy.org/doc/numpy-1.13.0/reference/generated/numpy.resize.html"
   ]
  },
  {
   "cell_type": "code",
   "execution_count": 78,
   "metadata": {
    "colab": {
     "autoexec": {
      "startup": false,
      "wait_interval": 0
     }
    },
    "colab_type": "code",
    "id": "7VfJfHaPqQpg"
   },
   "outputs": [
    {
     "name": "stdout",
     "output_type": "stream",
     "text": [
      "2 x 8:\n",
      " [[ 1  2  3  4  5  6  7  8]\n",
      " [ 9 10 11 12 13 14 15 16]]\n"
     ]
    }
   ],
   "source": [
    "vetor_base.resize((2,8))\n",
    "print('2 x 8:\\n', vetor_base)"
   ]
  },
  {
   "cell_type": "markdown",
   "metadata": {
    "colab_type": "text",
    "id": "G9vwgx0decjS"
   },
   "source": [
    "> ## 2.3 - Transformando uma matriz em um vetor, com ordem dos elementos = \"C\" ou \"F\"ortran. (ravel)\n",
    ">> #### ***Objetivo***: Retornar um array de uma dimensão.\n",
    ">> ##### documentação: https://docs.scipy.org/doc/numpy-1.13.0/reference/generated/numpy.ravel.html"
   ]
  },
  {
   "cell_type": "code",
   "execution_count": 79,
   "metadata": {
    "colab": {
     "autoexec": {
      "startup": false,
      "wait_interval": 0
     }
    },
    "colab_type": "code",
    "id": "fdLibut4fInU"
   },
   "outputs": [
    {
     "name": "stdout",
     "output_type": "stream",
     "text": [
      "Matriz 4 x 4 ordem Fortran:\n",
      " [[ 1  5  9 13]\n",
      " [ 2  6 10 14]\n",
      " [ 3  7 11 15]\n",
      " [ 4  8 12 16]] \n",
      "\n",
      "1 x 16:\n",
      " [ 1  2  3  4  5  6  7  8  9 10 11 12 13 14 15 16]\n"
     ]
    }
   ],
   "source": [
    "print('Matriz 4 x 4 ordem Fortran:\\n', matriz_4_4_f, '\\n')\n",
    "\n",
    "vetor_16_b = np.ravel(matriz_4_4_f, order='F')\n",
    "print('1 x 16:\\n', vetor_16_b)"
   ]
  },
  {
   "cell_type": "code",
   "execution_count": 80,
   "metadata": {
    "colab": {
     "autoexec": {
      "startup": false,
      "wait_interval": 0
     }
    },
    "colab_type": "code",
    "id": "sMxmEL1nfdlV"
   },
   "outputs": [
    {
     "name": "stdout",
     "output_type": "stream",
     "text": [
      "2 x 8 c:\n",
      " [[ 1  2  3  4  5  6  7  8]\n",
      " [ 9 10 11 12 13 14 15 16]]\n"
     ]
    }
   ],
   "source": [
    "matriz_2_8_c = np.reshape(np.ravel(matriz_4_4_f, order='F'),(2,8))\n",
    "print('2 x 8 c:\\n', matriz_2_8_c)"
   ]
  },
  {
   "cell_type": "markdown",
   "metadata": {
    "colab_type": "text",
    "id": "yRvn1tEZhRDd"
   },
   "source": [
    "> ## 2.4 - Extraindo elementos de um array de duas dimensões (slice)\n",
    ">> #### ***Objetivo***: Retornar parte de um array.\n",
    ">> ##### documentação: https://docs.scipy.org/doc/numpy-1.13.0/reference/arrays.indexing.html"
   ]
  },
  {
   "cell_type": "code",
   "execution_count": 81,
   "metadata": {
    "colab": {
     "autoexec": {
      "startup": false,
      "wait_interval": 0
     }
    },
    "colab_type": "code",
    "id": "0FhYxS7NhkZn"
   },
   "outputs": [
    {
     "name": "stdout",
     "output_type": "stream",
     "text": [
      "Matriz base: \n",
      " [[ 1  2  3  4]\n",
      " [ 5  6  7  8]\n",
      " [ 9 10 11 12]\n",
      " [13 14 15 16]] \n",
      "\n"
     ]
    }
   ],
   "source": [
    "print('Matriz base: \\n', matriz_4_4_c, '\\n')"
   ]
  },
  {
   "cell_type": "code",
   "execution_count": 82,
   "metadata": {
    "colab": {
     "autoexec": {
      "startup": false,
      "wait_interval": 0
     }
    },
    "colab_type": "code",
    "id": "Fy1_VjBsiBCN"
   },
   "outputs": [
    {
     "name": "stdout",
     "output_type": "stream",
     "text": [
      "linha 2 coluna 1 =  5\n"
     ]
    }
   ],
   "source": [
    "# sintaxe: [idx_line, idx_column]\n",
    "quinto_elemento = matriz_4_4_c[1,0]\n",
    "print('linha 2 coluna 1 = ', quinto_elemento)"
   ]
  },
  {
   "cell_type": "code",
   "execution_count": 83,
   "metadata": {
    "colab": {
     "autoexec": {
      "startup": false,
      "wait_interval": 0
     }
    },
    "colab_type": "code",
    "id": "ahHdNgWNh-sX"
   },
   "outputs": [
    {
     "name": "stdout",
     "output_type": "stream",
     "text": [
      "duas linhas:\n",
      " [[1 2 3 4]\n",
      " [5 6 7 8]]\n"
     ]
    }
   ],
   "source": [
    "# sintaxe: [idx_line, idx_column : qtd_line]\n",
    "duas_linhas = matriz_4_4_c[:2]\n",
    "print('duas linhas:\\n', duas_linhas)"
   ]
  },
  {
   "cell_type": "code",
   "execution_count": 84,
   "metadata": {
    "colab": {
     "autoexec": {
      "startup": false,
      "wait_interval": 0
     }
    },
    "colab_type": "code",
    "id": "J0s08Y9GiaEo"
   },
   "outputs": [
    {
     "name": "stdout",
     "output_type": "stream",
     "text": [
      "ultima coluna:\n",
      " [ 4  8 12 16]\n"
     ]
    }
   ],
   "source": [
    "# sintaxe: [idx_line, idx_column : qtd_line, idx_col]\n",
    "ultima_coluna = matriz_4_4_c[:4,3]\n",
    "print('ultima coluna:\\n', ultima_coluna)"
   ]
  },
  {
   "cell_type": "code",
   "execution_count": 85,
   "metadata": {
    "colab": {
     "autoexec": {
      "startup": false,
      "wait_interval": 0
     }
    },
    "colab_type": "code",
    "id": "pqG0r5_ijjVi"
   },
   "outputs": [
    {
     "name": "stdout",
     "output_type": "stream",
     "text": [
      "duas colunas:\n",
      " [[ 2  3]\n",
      " [ 6  7]\n",
      " [10 11]\n",
      " [14 15]]\n"
     ]
    }
   ],
   "source": [
    "# sintaxe: [idx_line, idx_column : array(idx_column)]\n",
    "duas_colunas = matriz_4_4_c[0 : 4, [1, 2]]\n",
    "print('duas colunas:\\n', duas_colunas)"
   ]
  },
  {
   "cell_type": "code",
   "execution_count": 86,
   "metadata": {
    "colab": {
     "autoexec": {
      "startup": false,
      "wait_interval": 0
     }
    },
    "colab_type": "code",
    "id": "TbGWhzePkBJO"
   },
   "outputs": [
    {
     "name": "stdout",
     "output_type": "stream",
     "text": [
      "duas colunas b:\n",
      " [[ 2  3]\n",
      " [ 6  7]\n",
      " [10 11]\n",
      " [14 15]]\n"
     ]
    }
   ],
   "source": [
    "# sintaxe: [idx_line, idx_column : array(idx_column)]\n",
    "duas_colunas_b = matriz_4_4_c[:,[1, 2]]\n",
    "print('duas colunas b:\\n', duas_colunas_b)"
   ]
  },
  {
   "cell_type": "code",
   "execution_count": 87,
   "metadata": {
    "colab": {
     "autoexec": {
      "startup": false,
      "wait_interval": 0
     }
    },
    "colab_type": "code",
    "id": "pwM8ysCJkLct"
   },
   "outputs": [
    {
     "name": "stdout",
     "output_type": "stream",
     "text": [
      "2 x 2 part:\n",
      " [[ 6  7]\n",
      " [10 11]]\n"
     ]
    }
   ],
   "source": [
    "# sintaxe: [idx_line, idx_column : array(idx_column)]\n",
    "matriz_2_2_part = matriz_4_4_c[1:3,[1, 2]]\n",
    "print('2 x 2 part:\\n', matriz_2_2_part)"
   ]
  },
  {
   "cell_type": "code",
   "execution_count": 88,
   "metadata": {
    "colab": {
     "autoexec": {
      "startup": false,
      "wait_interval": 0
     }
    },
    "colab_type": "code",
    "id": "VE4xZQTSkt6W"
   },
   "outputs": [
    {
     "name": "stdout",
     "output_type": "stream",
     "text": [
      "vetor part:\n",
      " [ 5 11 14]\n"
     ]
    }
   ],
   "source": [
    "# sintaxe: [array(idx_line), array(idx_column)]\n",
    "vetor = matriz_4_4_c[[1, 2, 3],[0, 2, 1]]\n",
    "print('vetor part:\\n', vetor)"
   ]
  },
  {
   "cell_type": "markdown",
   "metadata": {
    "colab_type": "text",
    "id": "OLaCXpEalucR"
   },
   "source": [
    "> ## 2.4 - Extraindo elementos de um array de uma dimensão (slice)\n",
    ">> #### ***Objetivo***: Retornar parte de um array.\n",
    ">> ##### documentação: https://docs.scipy.org/doc/numpy-1.13.0/reference/arrays.indexing.html"
   ]
  },
  {
   "cell_type": "code",
   "execution_count": 89,
   "metadata": {
    "colab": {
     "autoexec": {
      "startup": false,
      "wait_interval": 0
     }
    },
    "colab_type": "code",
    "id": "8HFwsYFLl70x"
   },
   "outputs": [
    {
     "name": "stdout",
     "output_type": "stream",
     "text": [
      "1 x 16:\n",
      " [ 1  2  3  4  5  6  7  8  9 10 11 12 13 14 15 16]\n"
     ]
    }
   ],
   "source": [
    "vetor_base = np.arange(1,17)\n",
    "print('1 x 16:\\n', vetor_base)"
   ]
  },
  {
   "cell_type": "code",
   "execution_count": 90,
   "metadata": {
    "colab": {
     "autoexec": {
      "startup": false,
      "wait_interval": 0
     }
    },
    "colab_type": "code",
    "id": "h0beALGVpV2p"
   },
   "outputs": [
    {
     "name": "stdout",
     "output_type": "stream",
     "text": [
      "vetor impar:\n",
      " [ 1  3  5  7  9 11 13 15]\n"
     ]
    }
   ],
   "source": [
    "vetor_impar = vetor_base[0:16:2]\n",
    "print('vetor impar:\\n',vetor_impar)"
   ]
  },
  {
   "cell_type": "code",
   "execution_count": 91,
   "metadata": {
    "colab": {
     "autoexec": {
      "startup": false,
      "wait_interval": 0
     }
    },
    "colab_type": "code",
    "id": "kQoqpPSpplf6"
   },
   "outputs": [
    {
     "name": "stdout",
     "output_type": "stream",
     "text": [
      "sem três os últimos:\n",
      " [ 1  2  3  4  5  6  7  8  9 10 11 12 13]\n"
     ]
    }
   ],
   "source": [
    "sem_os_tres_ultimos = vetor_base[:-3]\n",
    "print('sem três os últimos:\\n',sem_os_tres_ultimos)"
   ]
  },
  {
   "cell_type": "code",
   "execution_count": 92,
   "metadata": {
    "colab": {
     "autoexec": {
      "startup": false,
      "wait_interval": 0
     }
    },
    "colab_type": "code",
    "id": "4PBKgF74px26"
   },
   "outputs": [
    {
     "name": "stdout",
     "output_type": "stream",
     "text": [
      "somente os três últimos:\n",
      " [14 15 16]\n"
     ]
    }
   ],
   "source": [
    "somente_os_tres_ultimos = vetor_base[-3:]\n",
    "print('somente os três últimos:\\n',somente_os_tres_ultimos)"
   ]
  },
  {
   "cell_type": "code",
   "execution_count": 93,
   "metadata": {
    "colab": {
     "autoexec": {
      "startup": false,
      "wait_interval": 0
     }
    },
    "colab_type": "code",
    "id": "odcMBGPNp3BM"
   },
   "outputs": [
    {
     "name": "stdout",
     "output_type": "stream",
     "text": [
      "nova dimensão:\n",
      " [[ 1]\n",
      " [ 2]\n",
      " [ 3]\n",
      " [ 4]\n",
      " [ 5]\n",
      " [ 6]\n",
      " [ 7]\n",
      " [ 8]\n",
      " [ 9]\n",
      " [10]\n",
      " [11]\n",
      " [12]\n",
      " [13]\n",
      " [14]\n",
      " [15]\n",
      " [16]]\n"
     ]
    }
   ],
   "source": [
    "nova_dimensao = vetor_base[:,np.newaxis]\n",
    "print('nova dimensão:\\n', nova_dimensao)"
   ]
  },
  {
   "cell_type": "markdown",
   "metadata": {
    "colab_type": "text",
    "id": "Hsg9Jr5x5ARb"
   },
   "source": [
    "> ## 2.5 - Concatenando arrays (concatenate, vstack, hstack)"
   ]
  },
  {
   "cell_type": "markdown",
   "metadata": {
    "colab_type": "text",
    "id": "p2HKajEf5pPP"
   },
   "source": [
    "![alt text](http://infra.heurys.com.br/summerschool/numpy.transform.02.PNG)"
   ]
  },
  {
   "cell_type": "markdown",
   "metadata": {
    "colab_type": "text",
    "id": "sJ-dpqqy6i38"
   },
   "source": [
    ">> #### ***Objetivo***: Retornar um array concatenado.\n",
    ">> ##### documentação: https://docs.scipy.org/doc/numpy-1.13.0/reference/generated/numpy.concatenate.html\n",
    ">> ##### documentação: https://docs.scipy.org/doc/numpy-1.13.0/reference/generated/numpy.vstack.html\n",
    ">> ##### documentação: https://docs.scipy.org/doc/numpy-1.13.0/reference/generated/numpy.hstack.html"
   ]
  },
  {
   "cell_type": "code",
   "execution_count": 94,
   "metadata": {
    "colab": {
     "autoexec": {
      "startup": false,
      "wait_interval": 0
     },
     "base_uri": "https://localhost:8080/",
     "height": 170,
     "output_extras": [
      {
       "item_id": 1
      }
     ]
    },
    "colab_type": "code",
    "executionInfo": {
     "elapsed": 625,
     "status": "ok",
     "timestamp": 1516815960363,
     "user": {
      "displayName": "Marcelo Piovan",
      "photoUrl": "//lh3.googleusercontent.com/-1kocnuiw9tM/AAAAAAAAAAI/AAAAAAAAAaM/PNGlBGhV92Q/s50-c-k-no/photo.jpg",
      "userId": "109344316316211163977"
     },
     "user_tz": 120
    },
    "id": "wNwMP0tU7Auj",
    "outputId": "6ecc95f8-c8cb-4443-cc47-34515fa63e47"
   },
   "outputs": [
    {
     "name": "stdout",
     "output_type": "stream",
     "text": [
      "Matriz 1:\n",
      "[[1 2]\n",
      " [3 4]]\n",
      "Matriz 2:\n",
      "[[5 6]\n",
      " [7 8]]\n",
      "Matriz 3:\n",
      "[[ 9 10]\n",
      " [11 12]]\n"
     ]
    }
   ],
   "source": [
    "matriz_1 = np.array(((1, 2), (3, 4)))\n",
    "matriz_2 = np.array(((5, 6), (7, 8)))\n",
    "matriz_3 = np.array(((9, 10), (11, 12)))\n",
    "\n",
    "print('Matriz 1:', matriz_1,'Matriz 2:', matriz_2,'Matriz 3:', matriz_3, sep='\\n')"
   ]
  },
  {
   "cell_type": "code",
   "execution_count": 95,
   "metadata": {
    "colab": {
     "autoexec": {
      "startup": false,
      "wait_interval": 0
     },
     "base_uri": "https://localhost:8080/",
     "height": 136,
     "output_extras": [
      {
       "item_id": 1
      }
     ]
    },
    "colab_type": "code",
    "executionInfo": {
     "elapsed": 630,
     "status": "ok",
     "timestamp": 1516815966805,
     "user": {
      "displayName": "Marcelo Piovan",
      "photoUrl": "//lh3.googleusercontent.com/-1kocnuiw9tM/AAAAAAAAAAI/AAAAAAAAAaM/PNGlBGhV92Q/s50-c-k-no/photo.jpg",
      "userId": "109344316316211163977"
     },
     "user_tz": 120
    },
    "id": "BSBIlzc08ELw",
    "outputId": "56938fc6-473c-4c81-e867-447b2436d253"
   },
   "outputs": [
    {
     "name": "stdout",
     "output_type": "stream",
     "text": [
      "Matriz concatenada: \n",
      " [[ 1  2]\n",
      " [ 3  4]\n",
      " [ 5  6]\n",
      " [ 7  8]\n",
      " [ 9 10]\n",
      " [11 12]]\n"
     ]
    }
   ],
   "source": [
    "matriz_concatenada = np.concatenate((matriz_1, matriz_2, matriz_3))\n",
    "print('Matriz concatenada: \\n', matriz_concatenada)"
   ]
  },
  {
   "cell_type": "code",
   "execution_count": 96,
   "metadata": {
    "colab": {
     "autoexec": {
      "startup": false,
      "wait_interval": 0
     }
    },
    "colab_type": "code",
    "id": "EOTbY-V26pPs"
   },
   "outputs": [
    {
     "name": "stdout",
     "output_type": "stream",
     "text": [
      "Matriz A:\n",
      " [[1 2 3]\n",
      " [4 5 6]\n",
      " [7 8 9]]\n",
      "Matriz B:\n",
      " [[1 1 1]\n",
      " [2 2 2]\n",
      " [3 3 3]]\n"
     ]
    }
   ],
   "source": [
    "matriz_a = np.array([ [1,2,3], [4,5,6], [7,8,9] ])\n",
    "print('Matriz A:\\n', matriz_a)\n",
    "\n",
    "matriz_b = np.array([ [1,1,1], [2,2,2], [3,3,3] ])\n",
    "print('Matriz B:\\n',matriz_b)"
   ]
  },
  {
   "cell_type": "code",
   "execution_count": 97,
   "metadata": {
    "colab": {
     "autoexec": {
      "startup": false,
      "wait_interval": 0
     }
    },
    "colab_type": "code",
    "id": "Ku9ifIN78r_e"
   },
   "outputs": [
    {
     "name": "stdout",
     "output_type": "stream",
     "text": [
      "Vertical:\n",
      " [[1 2 3]\n",
      " [4 5 6]\n",
      " [7 8 9]\n",
      " [1 1 1]\n",
      " [2 2 2]\n",
      " [3 3 3]]\n",
      "Horizontal:\n",
      " [[1 2 3 1 1 1]\n",
      " [4 5 6 2 2 2]\n",
      " [7 8 9 3 3 3]]\n"
     ]
    }
   ],
   "source": [
    "# Concatenando um array na vertical\n",
    "print('Vertical:\\n',np.vstack((matriz_a, matriz_b)))\n",
    "\n",
    "# Concatenando um array na horizontal\n",
    "print('Horizontal:\\n',np.hstack((matriz_a, matriz_b)))"
   ]
  },
  {
   "cell_type": "markdown",
   "metadata": {
    "colab_type": "text",
    "id": "12mk4OAa6CW-"
   },
   "source": [
    "> ## 2.6 - Dividindo arrays (split, vsplit, hsplit)"
   ]
  },
  {
   "cell_type": "markdown",
   "metadata": {
    "colab_type": "text",
    "id": "MNhKJqk5C6pd"
   },
   "source": [
    "![alt text](http://infra.heurys.com.br/summerschool/numpy.transform.03.PNG)"
   ]
  },
  {
   "cell_type": "markdown",
   "metadata": {
    "colab_type": "text",
    "id": "KXx7yUmDDFX0"
   },
   "source": [
    ">> #### ***Objetivo***: Retornar vários arrays divididos.\n",
    ">> ##### documentação: https://docs.scipy.org/doc/numpy-1.13.0/reference/generated/numpy.split.html\n",
    ">> ##### documentação: https://docs.scipy.org/doc/numpy-1.13.0/reference/generated/numpy.vsplit.html\n",
    ">> ##### documentação: https://docs.scipy.org/doc/numpy-1.13.0/reference/generated/numpy.hsplit.html"
   ]
  },
  {
   "cell_type": "code",
   "execution_count": 98,
   "metadata": {
    "colab": {
     "autoexec": {
      "startup": false,
      "wait_interval": 0
     }
    },
    "colab_type": "code",
    "id": "Dl7jYAI09L-d"
   },
   "outputs": [
    {
     "name": "stdout",
     "output_type": "stream",
     "text": [
      "Matriz 1:\n",
      " [[ 1  2]\n",
      " [ 3  4]\n",
      " [ 5  6]\n",
      " [ 7  8]\n",
      " [ 9 10]\n",
      " [11 12]]\n"
     ]
    }
   ],
   "source": [
    "matriz_1 = np.array(((1, 2), (3, 4), (5, 6) , (7, 8), (9, 10), (11, 12)))\n",
    "print('Matriz 1:\\n', matriz_1)"
   ]
  },
  {
   "cell_type": "code",
   "execution_count": 99,
   "metadata": {
    "colab": {
     "autoexec": {
      "startup": false,
      "wait_interval": 0
     }
    },
    "colab_type": "code",
    "id": "hSYKcHGD9vDT"
   },
   "outputs": [
    {
     "name": "stdout",
     "output_type": "stream",
     "text": [
      "Split Parte 1:\n",
      " [[1 2]\n",
      " [3 4]]\n",
      "Split Parte 2:\n",
      " [[5 6]\n",
      " [7 8]]\n",
      "Split Parte 3:\n",
      " [[ 9 10]\n",
      " [11 12]]\n"
     ]
    }
   ],
   "source": [
    "split = np.split(matriz_1, 3)\n",
    "print('Split Parte 1:\\n', split[0])\n",
    "print('Split Parte 2:\\n', split[1])\n",
    "print('Split Parte 3:\\n', split[2])"
   ]
  },
  {
   "cell_type": "code",
   "execution_count": 100,
   "metadata": {
    "colab": {
     "autoexec": {
      "startup": false,
      "wait_interval": 0
     }
    },
    "colab_type": "code",
    "id": "vsCwbIw6-ZAa"
   },
   "outputs": [
    {
     "name": "stdout",
     "output_type": "stream",
     "text": [
      "Split Vertical Parte 1:\n",
      " [[1 2]\n",
      " [3 4]\n",
      " [5 6]]\n",
      "Split Vertical Parte 2:\n",
      " [[ 7  8]\n",
      " [ 9 10]\n",
      " [11 12]]\n"
     ]
    }
   ],
   "source": [
    "split_vertical = np.vsplit(matriz_1, 2)\n",
    "print ('Split Vertical Parte 1:\\n', split_vertical[0])\n",
    "print ('Split Vertical Parte 2:\\n', split_vertical[1])"
   ]
  },
  {
   "cell_type": "code",
   "execution_count": 101,
   "metadata": {
    "colab": {
     "autoexec": {
      "startup": false,
      "wait_interval": 0
     }
    },
    "colab_type": "code",
    "id": "a9UD6HDb-umQ"
   },
   "outputs": [
    {
     "name": "stdout",
     "output_type": "stream",
     "text": [
      "Split Horizontal Parte 1:\n",
      " [[ 1]\n",
      " [ 3]\n",
      " [ 5]\n",
      " [ 7]\n",
      " [ 9]\n",
      " [11]]\n",
      "Split Horizontal Parte 2:\n",
      " [[ 2]\n",
      " [ 4]\n",
      " [ 6]\n",
      " [ 8]\n",
      " [10]\n",
      " [12]]\n"
     ]
    }
   ],
   "source": [
    "split_horizontal = np.hsplit(matriz_1, 2)\n",
    "print ('Split Horizontal Parte 1:\\n', split_horizontal[0])\n",
    "print ('Split Horizontal Parte 2:\\n', split_horizontal[1])"
   ]
  },
  {
   "cell_type": "markdown",
   "metadata": {
    "colab_type": "text",
    "id": "0xYlIMkNUoGR"
   },
   "source": [
    "# 3 - Cálculos com os arrays"
   ]
  },
  {
   "cell_type": "markdown",
   "metadata": {
    "colab_type": "text",
    "id": "YxgoNKhqea4r"
   },
   "source": [
    "![alt text](http://infra.heurys.com.br/summerschool/numpy.calc.01.PNG)"
   ]
  },
  {
   "cell_type": "code",
   "execution_count": 102,
   "metadata": {
    "colab": {
     "autoexec": {
      "startup": false,
      "wait_interval": 0
     }
    },
    "colab_type": "code",
    "id": "EJbb8WEmU6LY"
   },
   "outputs": [
    {
     "name": "stdout",
     "output_type": "stream",
     "text": [
      "Matriz Base:\n",
      " [[1 2]\n",
      " [3 4]]\n"
     ]
    }
   ],
   "source": [
    "matriz_base = np.array([ [1,2], [3,4]])\n",
    "print('Matriz Base:\\n', matriz_base)"
   ]
  },
  {
   "cell_type": "markdown",
   "metadata": {
    "colab_type": "text",
    "id": "tv8wsr8Ffzdv"
   },
   "source": [
    "> ## 3.1 - Transposta, Inversa, Determinante, Autovalores e AutoVetores\n",
    ">> ##### documentação: https://docs.scipy.org/doc/numpy-1.13.0/reference/generated/numpy.ndarray.T.html\n",
    ">> ##### documentação: https://docs.scipy.org/doc/numpy-1.13.0/reference/generated/numpy.linalg.inv.html\n",
    ">> ##### documentação: https://docs.scipy.org/doc/numpy-1.13.0/reference/generated/numpy.linalg.det.html\n",
    ">> ##### documentação: https://docs.scipy.org/doc/numpy-1.13.0/reference/generated/numpy.linalg.eig.html"
   ]
  },
  {
   "cell_type": "code",
   "execution_count": 103,
   "metadata": {
    "colab": {
     "autoexec": {
      "startup": false,
      "wait_interval": 0
     }
    },
    "colab_type": "code",
    "id": "gjr5sC8EU8tI"
   },
   "outputs": [
    {
     "name": "stdout",
     "output_type": "stream",
     "text": [
      "Matriz Trasposta:\n",
      " [[1 3]\n",
      " [2 4]]\n"
     ]
    }
   ],
   "source": [
    "# Matriz transposta\n",
    "print('Matriz Trasposta:\\n', matriz_base.T)"
   ]
  },
  {
   "cell_type": "code",
   "execution_count": 104,
   "metadata": {
    "colab": {
     "autoexec": {
      "startup": false,
      "wait_interval": 0
     }
    },
    "colab_type": "code",
    "id": "t5q3oP7_VD25"
   },
   "outputs": [
    {
     "name": "stdout",
     "output_type": "stream",
     "text": [
      "Inversa:\n",
      " [[-2.   1. ]\n",
      " [ 1.5 -0.5]]\n"
     ]
    }
   ],
   "source": [
    "# Inversa da Matriz\n",
    "print('Inversa:\\n', np.linalg.inv(matriz_base))"
   ]
  },
  {
   "cell_type": "code",
   "execution_count": 105,
   "metadata": {
    "colab": {
     "autoexec": {
      "startup": false,
      "wait_interval": 0
     }
    },
    "colab_type": "code",
    "id": "tClKtbEwVulq"
   },
   "outputs": [
    {
     "name": "stdout",
     "output_type": "stream",
     "text": [
      "Determinante:\n",
      " -2.0\n"
     ]
    }
   ],
   "source": [
    "# Determinante da Matriz\n",
    "print('Determinante:\\n', np.linalg.det(matriz_base))"
   ]
  },
  {
   "cell_type": "code",
   "execution_count": 106,
   "metadata": {
    "colab": {
     "autoexec": {
      "startup": false,
      "wait_interval": 0
     }
    },
    "colab_type": "code",
    "id": "w0_4tkp_cph-"
   },
   "outputs": [
    {
     "name": "stdout",
     "output_type": "stream",
     "text": [
      "Autovalores:\n",
      " [-0.37228132  5.37228132]\n",
      "Autovetores:\n",
      " [[-0.82456484 -0.41597356]\n",
      " [ 0.56576746 -0.90937671]]\n"
     ]
    }
   ],
   "source": [
    "# Autovalores e autovetores\n",
    "valores, vetores = np.linalg.eig(matriz_base)\n",
    "print('Autovalores:\\n', valores)\n",
    "print('Autovetores:\\n', vetores)"
   ]
  },
  {
   "cell_type": "markdown",
   "metadata": {
    "colab_type": "text",
    "id": "QnYbfsjcgJZ3"
   },
   "source": [
    "> ## 3.2 - Soma, soma da diagonal, soma de um eixo, máximo, mínimo\n",
    ">> ##### documentação: https://docs.scipy.org/doc/numpy-1.13.0/reference/generated/numpy.sum.html\n",
    ">> ##### documentação: https://docs.scipy.org/doc/numpy-1.13.0/reference/generated/numpy.trace.html\n",
    ">> ##### documentação: https://docs.scipy.org/doc/numpy-1.13.0/reference/generated/numpy.ndarray.max.html\n",
    ">> ##### documentação: https://docs.scipy.org/doc/numpy-1.13.0/reference/generated/numpy.ndarray.min.html"
   ]
  },
  {
   "cell_type": "code",
   "execution_count": 107,
   "metadata": {
    "colab": {
     "autoexec": {
      "startup": false,
      "wait_interval": 0
     }
    },
    "colab_type": "code",
    "id": "SNNZpQjAgdm3"
   },
   "outputs": [
    {
     "name": "stdout",
     "output_type": "stream",
     "text": [
      "Soma:\n",
      " 10\n",
      "Soma da Coluna:\n",
      " [4 6]\n",
      "Soma da Linha:\n",
      " [3 7]\n"
     ]
    }
   ],
   "source": [
    "# Soma da Matriz\n",
    "print('Soma:\\n', np.sum(matriz_base))\n",
    "print('Soma da Coluna:\\n', np.sum(matriz_base, axis=0))\n",
    "print('Soma da Linha:\\n', np.sum(matriz_base, axis=1))"
   ]
  },
  {
   "cell_type": "code",
   "execution_count": 108,
   "metadata": {
    "colab": {
     "autoexec": {
      "startup": false,
      "wait_interval": 0
     }
    },
    "colab_type": "code",
    "id": "ZNRHSoF9ge6x"
   },
   "outputs": [
    {
     "name": "stdout",
     "output_type": "stream",
     "text": [
      "Soma Diagonal:\n",
      " 5\n"
     ]
    }
   ],
   "source": [
    "# Somando a diagonal da Matriz\n",
    "print('Soma Diagonal:\\n', np.trace(matriz_base))"
   ]
  },
  {
   "cell_type": "code",
   "execution_count": 109,
   "metadata": {
    "colab": {
     "autoexec": {
      "startup": false,
      "wait_interval": 0
     }
    },
    "colab_type": "code",
    "id": "p3Ks9cDSghvN"
   },
   "outputs": [
    {
     "name": "stdout",
     "output_type": "stream",
     "text": [
      "Maior:\n",
      " 4\n",
      "Maior da Coluna:\n",
      " [3 4]\n",
      "Maior da Linha:\n",
      " [2 4]\n"
     ]
    }
   ],
   "source": [
    "# Maior elemento da matriz\n",
    "print('Maior:\\n', np.max(matriz_base))\n",
    "print('Maior da Coluna:\\n', np.max(matriz_base, axis=0))\n",
    "print('Maior da Linha:\\n', np.max(matriz_base, axis=1))"
   ]
  },
  {
   "cell_type": "code",
   "execution_count": 110,
   "metadata": {
    "colab": {
     "autoexec": {
      "startup": false,
      "wait_interval": 0
     }
    },
    "colab_type": "code",
    "id": "OIuOoap0gn3x"
   },
   "outputs": [
    {
     "name": "stdout",
     "output_type": "stream",
     "text": [
      "Menor:\n",
      " 1\n",
      "Menor da Coluna:\n",
      " [1 2]\n",
      "Menor da Linha:\n",
      " [1 3]\n"
     ]
    }
   ],
   "source": [
    "# Menor elemento da matriz\n",
    "print('Menor:\\n', np.min(matriz_base))\n",
    "print('Menor da Coluna:\\n', np.min(matriz_base, axis=0))\n",
    "print('Menor da Linha:\\n', np.min(matriz_base, axis=1))"
   ]
  },
  {
   "cell_type": "markdown",
   "metadata": {
    "colab_type": "text",
    "id": "o-o_odQPhSk5"
   },
   "source": [
    "> ## 3.3 - Desvio Padrão, Raiz, Seno, Cosseno, Tangente, Exponencial e Logaritmo\n",
    ">> ##### documentação: https://docs.scipy.org/doc/numpy-1.13.0/reference/generated/numpy.std.html\n",
    ">> ##### documentação: https://docs.scipy.org/doc/numpy-1.13.0/reference/generated/numpy.sqrt.html\n",
    ">> ##### documentação: https://docs.scipy.org/doc/numpy-1.13.0/reference/generated/numpy.sin.html\n",
    ">> ##### documentação: https://docs.scipy.org/doc/numpy-1.13.0/reference/generated/numpy.cos.html\n",
    ">> ##### documentação: https://docs.scipy.org/doc/numpy-1.13.0/reference/generated/numpy.tan.html\n",
    ">> ##### documentação: https://docs.scipy.org/doc/numpy-1.13.0/reference/generated/numpy.exp.html\n",
    ">> ##### documentação: https://docs.scipy.org/doc/numpy-1.13.0/reference/generated/numpy.log.html"
   ]
  },
  {
   "cell_type": "code",
   "execution_count": 111,
   "metadata": {
    "colab": {
     "autoexec": {
      "startup": false,
      "wait_interval": 0
     }
    },
    "colab_type": "code",
    "id": "FlcmveHyhlE2"
   },
   "outputs": [
    {
     "name": "stdout",
     "output_type": "stream",
     "text": [
      "Desvio padrão:\n",
      " 1.11803398875\n",
      "Desvio padrão da Coluna:\n",
      " [ 1.  1.]\n",
      "Desvio padrão da Linha:\n",
      " [ 0.5  0.5]\n"
     ]
    }
   ],
   "source": [
    "# Desvio Padrão da Matriz\n",
    "print('Desvio padrão:\\n', np.std(matriz_base))\n",
    "print('Desvio padrão da Coluna:\\n', np.std(matriz_base, axis=0))\n",
    "print('Desvio padrão da Linha:\\n', np.std(matriz_base, axis=1))"
   ]
  },
  {
   "cell_type": "code",
   "execution_count": 112,
   "metadata": {
    "colab": {
     "autoexec": {
      "startup": false,
      "wait_interval": 0
     }
    },
    "colab_type": "code",
    "id": "X4lBswDOhnfK"
   },
   "outputs": [
    {
     "name": "stdout",
     "output_type": "stream",
     "text": [
      "Raiz:\n",
      " [[ 1.          1.41421356]\n",
      " [ 1.73205081  2.        ]]\n"
     ]
    }
   ],
   "source": [
    "# Raiz da Matriz\n",
    "print('Raiz:\\n', np.sqrt(matriz_base))"
   ]
  },
  {
   "cell_type": "code",
   "execution_count": 113,
   "metadata": {
    "colab": {
     "autoexec": {
      "startup": false,
      "wait_interval": 0
     }
    },
    "colab_type": "code",
    "id": "gcXTnBxgho79"
   },
   "outputs": [
    {
     "name": "stdout",
     "output_type": "stream",
     "text": [
      "Seno:\n",
      " [[ 0.84147098  0.90929743]\n",
      " [ 0.14112001 -0.7568025 ]]\n"
     ]
    }
   ],
   "source": [
    "# Seno da Matriz\n",
    "print('Seno:\\n', np.sin(matriz_base))"
   ]
  },
  {
   "cell_type": "code",
   "execution_count": 114,
   "metadata": {
    "colab": {
     "autoexec": {
      "startup": false,
      "wait_interval": 0
     }
    },
    "colab_type": "code",
    "id": "tmJblupPhqb2"
   },
   "outputs": [
    {
     "name": "stdout",
     "output_type": "stream",
     "text": [
      "Cosseno:\n",
      " [[ 0.54030231 -0.41614684]\n",
      " [-0.9899925  -0.65364362]]\n"
     ]
    }
   ],
   "source": [
    "# Cosseno da Matriz\n",
    "print('Cosseno:\\n', np.cos(matriz_base))"
   ]
  },
  {
   "cell_type": "code",
   "execution_count": 115,
   "metadata": {
    "colab": {
     "autoexec": {
      "startup": false,
      "wait_interval": 0
     }
    },
    "colab_type": "code",
    "id": "cHdIt_w_hrrD"
   },
   "outputs": [
    {
     "name": "stdout",
     "output_type": "stream",
     "text": [
      "Tangente:\n",
      " [[ 1.55740772 -2.18503986]\n",
      " [-0.14254654  1.15782128]]\n"
     ]
    }
   ],
   "source": [
    "# Tangente da Matriz\n",
    "print('Tangente:\\n', np.tan(matriz_base))"
   ]
  },
  {
   "cell_type": "code",
   "execution_count": 116,
   "metadata": {
    "colab": {
     "autoexec": {
      "startup": false,
      "wait_interval": 0
     }
    },
    "colab_type": "code",
    "id": "1Fvwz7ZJhtPb"
   },
   "outputs": [
    {
     "name": "stdout",
     "output_type": "stream",
     "text": [
      "Exponencial:\n",
      " [[  2.71828183   7.3890561 ]\n",
      " [ 20.08553692  54.59815003]]\n"
     ]
    }
   ],
   "source": [
    "# Exponencial da Matriz\n",
    "print('Exponencial:\\n', np.exp(matriz_base))"
   ]
  },
  {
   "cell_type": "code",
   "execution_count": 117,
   "metadata": {
    "colab": {
     "autoexec": {
      "startup": false,
      "wait_interval": 0
     }
    },
    "colab_type": "code",
    "id": "AcxoEOGnhv2D"
   },
   "outputs": [
    {
     "name": "stdout",
     "output_type": "stream",
     "text": [
      "Logaritmo:\n",
      " [[ 0.          0.69314718]\n",
      " [ 1.09861229  1.38629436]]\n",
      "Logaritmo base 10:\n",
      " [[ 0.          0.30103   ]\n",
      " [ 0.47712125  0.60205999]]\n"
     ]
    }
   ],
   "source": [
    "# Logaritmo da Matriz\n",
    "print('Logaritmo:\\n', np.log(matriz_base))\n",
    "print('Logaritmo base 10:\\n', np.log10(matriz_base))"
   ]
  },
  {
   "cell_type": "markdown",
   "metadata": {
    "colab_type": "text",
    "id": "7ECk9ctlirht"
   },
   "source": [
    "> ## 3.4 - Matriz de covariância \n",
    ">> ##### documentação: https://docs.scipy.org/doc/numpy-1.13.0/reference/generated/numpy.cov.html\n",
    ">> ##### documentação: https://docs.scipy.org/doc/numpy-1.13.0/reference/generated/numpy.dot.html"
   ]
  },
  {
   "cell_type": "code",
   "execution_count": 118,
   "metadata": {
    "colab": {
     "autoexec": {
      "startup": false,
      "wait_interval": 0
     }
    },
    "colab_type": "code",
    "id": "eA-0mFhVtVaN"
   },
   "outputs": [
    {
     "name": "stdout",
     "output_type": "stream",
     "text": [
      "Matriz Covariância:\n",
      " [[ 0.5  0.5]\n",
      " [ 0.5  0.5]]\n"
     ]
    }
   ],
   "source": [
    "# Matriz Covariância\n",
    "print('Matriz Covariância:\\n', np.cov(matriz_base))"
   ]
  },
  {
   "cell_type": "code",
   "execution_count": 119,
   "metadata": {
    "colab": {
     "autoexec": {
      "startup": false,
      "wait_interval": 0
     }
    },
    "colab_type": "code",
    "id": "MyfSlJGDjiIw"
   },
   "outputs": [
    {
     "name": "stdout",
     "output_type": "stream",
     "text": [
      "[[36 41]\n",
      " [64 73]]\n"
     ]
    }
   ],
   "source": [
    "# Matriz A\n",
    "matriz_a = np.array(((2, 3), (4, 5)))\n",
    "\n",
    "# Matriz B\n",
    "matriz_b = np.array(((6, 7), (8, 9)))\n",
    "c = np.dot(matriz_a,matriz_b)\n",
    "print(c)"
   ]
  },
  {
   "cell_type": "markdown",
   "metadata": {
    "colab_type": "text",
    "id": "iDtTGdCBThcg"
   },
   "source": [
    "> ## 3.5 - Operações com os arrays"
   ]
  },
  {
   "cell_type": "code",
   "execution_count": 120,
   "metadata": {
    "colab": {
     "autoexec": {
      "startup": false,
      "wait_interval": 0
     },
     "base_uri": "https://localhost:8080/",
     "height": 408,
     "output_extras": [
      {
       "item_id": 1
      }
     ]
    },
    "colab_type": "code",
    "executionInfo": {
     "elapsed": 730,
     "status": "ok",
     "timestamp": 1517154756605,
     "user": {
      "displayName": "Marcelo Piovan",
      "photoUrl": "//lh3.googleusercontent.com/-1kocnuiw9tM/AAAAAAAAAAI/AAAAAAAAAaM/PNGlBGhV92Q/s50-c-k-no/photo.jpg",
      "userId": "109344316316211163977"
     },
     "user_tz": 120
    },
    "id": "A12yVp_KcR2W",
    "outputId": "dd6306d0-b20b-4b38-e205-26697e1ba161"
   },
   "outputs": [
    {
     "name": "stdout",
     "output_type": "stream",
     "text": [
      "Matriz A:\n",
      "[[1 2 3]\n",
      " [4 5 6]]\n",
      "\n",
      "Matriz B:\n",
      "[[2 2 2]\n",
      " [4 4 4]]\n",
      "\n",
      "Adição: \n",
      " [[ 3  4  5]\n",
      " [ 8  9 10]]\n",
      "\n",
      "Maior que dois: \n",
      " [[False False  True]\n",
      " [ True  True  True]]\n",
      "\n",
      "Multiplicação: \n",
      " [[ 6  6  6]\n",
      " [12 12 12]]\n",
      "\n",
      "Comparando 2 Matriz:\n",
      " [[False  True False]\n",
      " [ True False False]]\n"
     ]
    }
   ],
   "source": [
    "# Matriz Base\n",
    "matriz_a = np.array(((1,2,3), (4,5,6)))\n",
    "matriz_b = np.array(((2,2,2), (4,4,4)))\n",
    "\n",
    "print('Matriz A:', matriz_a, '\\nMatriz B:', matriz_b, sep='\\n')\n",
    "                    \n",
    "adicao = matriz_a + matriz_b\n",
    "print('\\nAdição: \\n', adicao)                    \n",
    "\n",
    "teste_bool = matriz_a > 2\n",
    "print('\\nMaior que dois: \\n', teste_bool)\n",
    "\n",
    "multiplicacao = matriz_b * 3\n",
    "print('\\nMultiplicação: \\n', multiplicacao)\n",
    "\n",
    "comparacao = matriz_a == matriz_b\n",
    "print('\\nComparando 2 Matriz:\\n',comparacao)"
   ]
  }
 ],
 "metadata": {
  "colab": {
   "collapsed_sections": [
    "0dvtWahV5y_A",
    "u_KNiUyb6EmR",
    "hJx08Aa66lFp",
    "KQc-W_LJ657z",
    "-0EcFQPR7TsK",
    "mFZrxrnf72Uk",
    "1O7jlzRM_gB7",
    "ZdcUSSqe_SVE",
    "R8ZWo4GoDtOu",
    "_iz9V5x0F6M_",
    "SG7J6B1GGBtf",
    "nvgKAGIjHJkQ",
    "GXxNNPKIHaXc",
    "KNEHylYbHplC",
    "Zf8xR8faIJDS",
    "H0VVb7TyKOTV",
    "mV9eZN7ZqV03",
    "G9vwgx0decjS",
    "OLaCXpEalucR"
   ],
   "default_view": {},
   "name": "summer_school_2018_numpy.ipynb",
   "provenance": [],
   "version": "0.3.2",
   "views": {}
  },
  "kernelspec": {
   "display_name": "Python 3",
   "language": "python",
   "name": "python3"
  },
  "language_info": {
   "codemirror_mode": {
    "name": "ipython",
    "version": 3
   },
   "file_extension": ".py",
   "mimetype": "text/x-python",
   "name": "python",
   "nbconvert_exporter": "python",
   "pygments_lexer": "ipython3",
   "version": "3.6.3"
  }
 },
 "nbformat": 4,
 "nbformat_minor": 2
}
