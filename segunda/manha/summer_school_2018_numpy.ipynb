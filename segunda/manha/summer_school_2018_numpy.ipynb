{
  "nbformat": 4,
  "nbformat_minor": 0,
  "metadata": {
    "colab": {
      "name": "summer_school_2018_numpy.ipynb",
      "version": "0.3.2",
      "views": {},
      "default_view": {},
      "provenance": [],
      "collapsed_sections": [
        "0dvtWahV5y_A",
        "u_KNiUyb6EmR",
        "hJx08Aa66lFp",
        "KQc-W_LJ657z",
        "-0EcFQPR7TsK",
        "mFZrxrnf72Uk",
        "1O7jlzRM_gB7",
        "ZdcUSSqe_SVE",
        "R8ZWo4GoDtOu",
        "_iz9V5x0F6M_",
        "SG7J6B1GGBtf",
        "nvgKAGIjHJkQ",
        "GXxNNPKIHaXc",
        "KNEHylYbHplC",
        "Zf8xR8faIJDS",
        "H0VVb7TyKOTV",
        "mV9eZN7ZqV03",
        "G9vwgx0decjS",
        "yRvn1tEZhRDd",
        "OLaCXpEalucR",
        "sJ-dpqqy6i38",
        "KXx7yUmDDFX0",
        "tv8wsr8Ffzdv",
        "QnYbfsjcgJZ3",
        "o-o_odQPhSk5",
        "7ECk9ctlirht",
        "iDtTGdCBThcg"
      ]
    },
    "kernelspec": {
      "name": "python3",
      "display_name": "Python 3"
    }
  },
  "cells": [
    {
      "metadata": {
        "id": "21xRWHO8NLue",
        "colab_type": "text"
      },
      "cell_type": "markdown",
      "source": [
        "![alt text](http://infra.heurys.com.br/summerschool/fundamentos.000.png)"
      ]
    },
    {
      "metadata": {
        "id": "evPk5Bej4Z2k",
        "colab_type": "text"
      },
      "cell_type": "markdown",
      "source": [
        "## Importando a biblioteca do Numpy"
      ]
    },
    {
      "metadata": {
        "id": "30O1BKgf8swQ",
        "colab_type": "code",
        "colab": {
          "autoexec": {
            "startup": false,
            "wait_interval": 0
          }
        }
      },
      "cell_type": "code",
      "source": [
        "import numpy as np"
      ],
      "execution_count": 0,
      "outputs": []
    },
    {
      "metadata": {
        "id": "7l9wIm3U8Z_Z",
        "colab_type": "text"
      },
      "cell_type": "markdown",
      "source": [
        "# 1 - Criando arrays com Numpy"
      ]
    },
    {
      "metadata": {
        "id": "-KLm3uwzfM6z",
        "colab_type": "text"
      },
      "cell_type": "markdown",
      "source": [
        "![alt text](http://infra.heurys.com.br/summerschool/numpy.create.PNG)"
      ]
    },
    {
      "metadata": {
        "id": "FFP3Ty3b4lJN",
        "colab_type": "text"
      },
      "cell_type": "markdown",
      "source": [
        "> ## 1.1- Array de várias dimensões (array)\n",
        "> #### ***Objetivo***: Criar um array de uma ou várias dimensões.\n",
        "> ##### documentação: https://docs.scipy.org/doc/numpy-1.13.0/reference/generated/numpy.array.html"
      ]
    },
    {
      "metadata": {
        "id": "euJuTql75aCn",
        "colab_type": "code",
        "colab": {
          "autoexec": {
            "startup": false,
            "wait_interval": 0
          }
        }
      },
      "cell_type": "code",
      "source": [
        "vetor  = np.array([1,2,3])\n",
        "print('Vetor:\\n',vetor)"
      ],
      "execution_count": 0,
      "outputs": []
    },
    {
      "metadata": {
        "id": "2YwYMzE-5msp",
        "colab_type": "code",
        "colab": {
          "autoexec": {
            "startup": false,
            "wait_interval": 0
          }
        }
      },
      "cell_type": "code",
      "source": [
        "matriz = np.array([[1,2,3], [4,5,6]])\n",
        "print('Matriz:\\n',matriz)"
      ],
      "execution_count": 0,
      "outputs": []
    },
    {
      "metadata": {
        "id": "K6UUIfr59FGB",
        "colab_type": "code",
        "colab": {
          "autoexec": {
            "startup": false,
            "wait_interval": 0
          }
        }
      },
      "cell_type": "code",
      "source": [
        "matriz_2_2 = np.matrix('1 2; 3 4')\n",
        "print('Matriz 2x2:\\n',matriz_2_2)"
      ],
      "execution_count": 0,
      "outputs": []
    },
    {
      "metadata": {
        "id": "pqW9KkHS9HRJ",
        "colab_type": "code",
        "colab": {
          "autoexec": {
            "startup": false,
            "wait_interval": 0
          }
        }
      },
      "cell_type": "code",
      "source": [
        "matriz_2_3 = np.matrix([[1,2,3],[4,5,6]])\n",
        "print('Matriz 2x3:\\n',matriz_2_3)"
      ],
      "execution_count": 0,
      "outputs": []
    },
    {
      "metadata": {
        "id": "lj81CPtt9YxC",
        "colab_type": "code",
        "colab": {
          "autoexec": {
            "startup": false,
            "wait_interval": 0
          }
        }
      },
      "cell_type": "code",
      "source": [
        "matriz_3_2_3 = np.array([[[1,2,3],[4,5,6]],[[7,8,9],[10,11,12]],[[13,14,15],[16,17,18]]])\n",
        "print('Matriz 2x3x3:\\n',matriz_3_2_3)"
      ],
      "execution_count": 0,
      "outputs": []
    },
    {
      "metadata": {
        "id": "0dvtWahV5y_A",
        "colab_type": "text"
      },
      "cell_type": "markdown",
      "source": [
        "> ## 1.2- Arrays com dados sequenciais (arange)\n",
        "> #### ***Objetivo***: Retornar um array com valores dentro de um intervalo. É importante lembrar que o parâmetro final (stop) do intervalo não será retornado.\n",
        "> ##### documentação: https://docs.scipy.org/doc/numpy-1.13.0/reference/generated/numpy.arange.html"
      ]
    },
    {
      "metadata": {
        "id": "4itC4Hca5sqX",
        "colab_type": "code",
        "colab": {
          "autoexec": {
            "startup": false,
            "wait_interval": 0
          }
        }
      },
      "cell_type": "code",
      "source": [
        "vetor_16 = np.arange(1,17)\n",
        "print('Vetor 1x16:\\n',vetor_16, '\\n')\n",
        "\n",
        "vetor_10_a_25 = np.arange(10,25,5)\n",
        "print('Vetor 10-25:\\n', vetor_10_a_25, '\\n')"
      ],
      "execution_count": 0,
      "outputs": []
    },
    {
      "metadata": {
        "id": "u_KNiUyb6EmR",
        "colab_type": "text"
      },
      "cell_type": "markdown",
      "source": [
        "> ## 1.3- Arrays não inicializados > valores aleatórios (empty)\n",
        "> #### ***Objetivo***: Retornar um array não incializado\n",
        "> ##### documentação: https://docs.scipy.org/doc/numpy-1.13.0/reference/generated/numpy.empty.html\n",
        "> ##### documentação: https://docs.scipy.org/doc/numpy-1.13.0/reference/generated/numpy.empty_like.html"
      ]
    },
    {
      "metadata": {
        "id": "n3UPjzgy6OaQ",
        "colab_type": "code",
        "colab": {
          "autoexec": {
            "startup": false,
            "wait_interval": 0
          }
        }
      },
      "cell_type": "code",
      "source": [
        "matriz_2_2_empty = np.empty((2,2))\n",
        "print('Matriz 2x2 (empty):\\n',matriz_2_2_empty, '\\n')\n",
        "\n",
        "matriz_empty_like = np.empty_like(matriz_2_2_empty)\n",
        "print('Matriz (empty_like):\\n',matriz_empty_like)"
      ],
      "execution_count": 0,
      "outputs": []
    },
    {
      "metadata": {
        "id": "hJx08Aa66lFp",
        "colab_type": "text"
      },
      "cell_type": "markdown",
      "source": [
        "> ## 1.4- Arrays inicializados com valores randômicos (random)\n",
        "> #### ***Objetivo***: Retornar um array incializado com valores randômicos no intervalo de 0 - 1.\n",
        "> ##### documentação: https://docs.scipy.org/doc/numpy-1.13.0/reference/generated/numpy.random.random.html"
      ]
    },
    {
      "metadata": {
        "id": "iu_FDLtb6ttZ",
        "colab_type": "code",
        "colab": {
          "autoexec": {
            "startup": false,
            "wait_interval": 0
          }
        }
      },
      "cell_type": "code",
      "source": [
        "matriz_2_2_random = np.random.random((2,2))\n",
        "print('Matriz 2x2 (random):\\n',matriz_2_2_random)"
      ],
      "execution_count": 0,
      "outputs": []
    },
    {
      "metadata": {
        "id": "KQc-W_LJ657z",
        "colab_type": "text"
      },
      "cell_type": "markdown",
      "source": [
        "> ## 1.5- Arrays inicializados com 1 (ones)\n",
        "> #### ***Objetivo***: Retornar uma matriz incializada com zero\n",
        "> ##### documentação: https://docs.scipy.org/doc/numpy-1.13.0/reference/generated/numpy.ones.html\n",
        "> ##### documentação: https://docs.scipy.org/doc/numpy-1.13.0/reference/generated/numpy.ones_like.html"
      ]
    },
    {
      "metadata": {
        "id": "QLLSYr1H6_pU",
        "colab_type": "code",
        "colab": {
          "autoexec": {
            "startup": false,
            "wait_interval": 0
          }
        }
      },
      "cell_type": "code",
      "source": [
        "matriz_3_3_3_ones = np.ones((3,3,3))\n",
        "print('Matriz 3x3x3 (ones):\\n', matriz_3_3_3_ones, '\\n')\n",
        "\n",
        "matriz_ones_like = np.ones_like(matriz_2_2_empty)\n",
        "print('Matriz (ones like):\\n', matriz_ones_like)"
      ],
      "execution_count": 0,
      "outputs": []
    },
    {
      "metadata": {
        "id": "-0EcFQPR7TsK",
        "colab_type": "text"
      },
      "cell_type": "markdown",
      "source": [
        "> ## 1.6- Arrays inicializados com um número (full)\n",
        "> #### ***Objetivo***: Retornar um array incializado com um valor definido.\n",
        "> ##### documentação: https://docs.scipy.org/doc/numpy-1.13.0/reference/generated/numpy.full.html\n",
        "> ##### documentação: https://docs.scipy.org/doc/numpy-1.13.0/reference/generated/numpy.full_like.html"
      ]
    },
    {
      "metadata": {
        "id": "a7qwEHvV7YPa",
        "colab_type": "code",
        "colab": {
          "autoexec": {
            "startup": false,
            "wait_interval": 0
          }
        }
      },
      "cell_type": "code",
      "source": [
        "matriz_4_4_full = np.full((4,4), 10)\n",
        "print('Matriz 4x4 (full):\\n',matriz_4_4_full, '\\n')\n",
        "\n",
        "\n",
        "matriz_full_like = np.full_like(matriz_2_2_empty, 5)\n",
        "print('Matriz (full like):\\n', matriz_full_like)"
      ],
      "execution_count": 0,
      "outputs": []
    },
    {
      "metadata": {
        "id": "mFZrxrnf72Uk",
        "colab_type": "text"
      },
      "cell_type": "markdown",
      "source": [
        "> ## 1.7- Arrays inicializados com 0 (zeros)\n",
        "> #### ***Objetivo***: Retornar um array incializado com zeros.\n",
        "> ##### documentação: https://docs.scipy.org/doc/numpy-1.13.0/reference/generated/numpy.zeros.html\n",
        "> ##### documentação: https://docs.scipy.org/doc/numpy-1.13.0/reference/generated/numpy.zeros_like.html"
      ]
    },
    {
      "metadata": {
        "id": "g1mGdr0X75d1",
        "colab_type": "code",
        "colab": {
          "autoexec": {
            "startup": false,
            "wait_interval": 0
          }
        }
      },
      "cell_type": "code",
      "source": [
        "matriz_3_3 = np.zeros((3,3))\n",
        "print('Matriz 3x3:\\n',matriz_3_3, '\\n')\n",
        "\n",
        "\n",
        "matriz_zeros_like = np.zeros_like(matriz_2_2_empty)\n",
        "print('Matriz (zeros like):\\n', matriz_zeros_like)"
      ],
      "execution_count": 0,
      "outputs": []
    },
    {
      "metadata": {
        "id": "1O7jlzRM_gB7",
        "colab_type": "text"
      },
      "cell_type": "markdown",
      "source": [
        "> ## 1.8- Arrays inicializados com valores entre dois números (linspace)\n",
        "> #### ***Objetivo***: Retornar um array incializado com um valor definido em um range. É importante lembrar que o parâmetro final (stop) do intervalo não será retornado.\n",
        "> ##### documentação: https://docs.scipy.org/doc/numpy-1.13.0/reference/generated/numpy.linspace.html"
      ]
    },
    {
      "metadata": {
        "id": "OhCz2K-Y-aud",
        "colab_type": "code",
        "colab": {
          "autoexec": {
            "startup": false,
            "wait_interval": 0
          }
        }
      },
      "cell_type": "code",
      "source": [
        "vetor_0_a_2 = np.linspace(0,1,9)\n",
        "print('vetor 0-2:\\n', vetor_0_a_2)"
      ],
      "execution_count": 0,
      "outputs": []
    },
    {
      "metadata": {
        "id": "ZdcUSSqe_SVE",
        "colab_type": "text"
      },
      "cell_type": "markdown",
      "source": [
        "> ## 1.9 - Arrays bidimensionais diagonais (diag)\n",
        "> #### ***Objetivo***: Criar uma matriz quadrada a partir de uma diagonal ou extrair a diagonal de uma matriz.\n",
        "> ##### documentação: https://docs.scipy.org/doc/numpy-1.13.0/reference/generated/numpy.diag.html"
      ]
    },
    {
      "metadata": {
        "id": "qDDeaTfa_eMD",
        "colab_type": "code",
        "colab": {
          "autoexec": {
            "startup": false,
            "wait_interval": 0
          }
        }
      },
      "cell_type": "code",
      "source": [
        "matriz_diagonal = np.diag([1,2,3])\n",
        "print('Matriz diagonal:\\n', matriz_diagonal)"
      ],
      "execution_count": 0,
      "outputs": []
    },
    {
      "metadata": {
        "id": "CAgNUNy2AHq_",
        "colab_type": "code",
        "colab": {
          "autoexec": {
            "startup": false,
            "wait_interval": 0
          }
        }
      },
      "cell_type": "code",
      "source": [
        "matriz_diagonal_1p = np.diag([1,2,3],1)\n",
        "print('Matriz diagonal +1:\\n', matriz_diagonal_1p)"
      ],
      "execution_count": 0,
      "outputs": []
    },
    {
      "metadata": {
        "id": "FYZy-KG6A1gS",
        "colab_type": "code",
        "colab": {
          "autoexec": {
            "startup": false,
            "wait_interval": 0
          }
        }
      },
      "cell_type": "code",
      "source": [
        "matriz_diagonal_1n = np.diag([1,2,3], -1)\n",
        "print('Matriz diagonal -1:\\n', matriz_diagonal_1n)"
      ],
      "execution_count": 0,
      "outputs": []
    },
    {
      "metadata": {
        "id": "SV4lnByjCvCh",
        "colab_type": "code",
        "colab": {
          "autoexec": {
            "startup": false,
            "wait_interval": 0
          }
        }
      },
      "cell_type": "code",
      "source": [
        "matriz_base_3_3 = np.array([[1,2,3],[4,5,6],[7,8,9]])\n",
        "print('Matriz 3 x 3: \\n', matriz_base_3_3, '\\n')\n",
        "\n",
        "diagonal = np.diag(matriz_base_3_3)\n",
        "print('Diagonal: \\n', diagonal, '\\n')\n",
        "\n",
        "matriz_diagonal_nova = np.diag(diagonal)\n",
        "print('Matriz diagonal nova: \\n', matriz_diagonal_nova)"
      ],
      "execution_count": 0,
      "outputs": []
    },
    {
      "metadata": {
        "id": "R8ZWo4GoDtOu",
        "colab_type": "text"
      },
      "cell_type": "markdown",
      "source": [
        "> ## 1.10 - Arrays bidimensionais de identidade (eye, identity)\n",
        "> #### ***Objetivo eye***: Criar um array inicializando a diagonal com 1 e o restante com zeros.\n",
        "> #### ***Objetivo identity***: Criar uma matriz quadrada inicializando a diagonal com 1 e o restante com zeros.\n",
        "> ##### documentação: https://docs.scipy.org/doc/numpy-1.13.0/reference/generated/numpy.eye.html\n",
        "> ##### documentação: https://docs.scipy.org/doc/numpy-1.13.0/reference/generated/numpy.identity.html"
      ]
    },
    {
      "metadata": {
        "id": "jIRQ36y4Dzi9",
        "colab_type": "code",
        "colab": {
          "autoexec": {
            "startup": false,
            "wait_interval": 0
          }
        }
      },
      "cell_type": "code",
      "source": [
        "matriz_identidade = np.eye(3, dtype=np.int16)\n",
        "print('Matriz identidade:\\n', matriz_identidade, '\\n')\n",
        "\n",
        "matriz_identidade = np.identity(3, dtype=np.int16)\n",
        "print('Matriz identidade:\\n', matriz_identidade)"
      ],
      "execution_count": 0,
      "outputs": []
    },
    {
      "metadata": {
        "id": "rX89VfDBD8_0",
        "colab_type": "code",
        "colab": {
          "autoexec": {
            "startup": false,
            "wait_interval": 0
          }
        }
      },
      "cell_type": "code",
      "source": [
        "matriz_1p = np.eye(3, k=1, dtype=np.int16)\n",
        "print('Matriz +1:\\n', matriz_1p, '\\n')\n",
        "\n",
        "matriz_1n = np.eye(3, k=-1, dtype=np.int16)\n",
        "print('Matriz -1:\\n', matriz_1n, '\\n')\n",
        "\n",
        "matriz_2col = np.eye(3, 2, k=0, dtype=np.int16)\n",
        "print('Matriz identidade 2 colunas:\\n', matriz_2col)"
      ],
      "execution_count": 0,
      "outputs": []
    },
    {
      "metadata": {
        "id": "_iz9V5x0F6M_",
        "colab_type": "text"
      },
      "cell_type": "markdown",
      "source": [
        "> ## 1.11 - Recuperando informações dos arrays"
      ]
    },
    {
      "metadata": {
        "id": "SG7J6B1GGBtf",
        "colab_type": "text"
      },
      "cell_type": "markdown",
      "source": [
        ">> ### 1.11.1 - Formato do array (shape)\n",
        ">> #### ***Objetivo***: Retornar o formato de um array.\n",
        ">> ##### documentação: https://docs.scipy.org/doc/numpy-1.13.0/reference/generated/numpy.ndarray.shape.html"
      ]
    },
    {
      "metadata": {
        "id": "KZ2augx2GHhX",
        "colab_type": "code",
        "colab": {
          "autoexec": {
            "startup": false,
            "wait_interval": 0
          }
        }
      },
      "cell_type": "code",
      "source": [
        "print('formato: ', matriz_3_3.shape)\n",
        "print('formato: ', matriz_2_2.shape)\n",
        "print('formato: ', matriz_3_2_3.shape)\n",
        "print('formato: ', vetor_0_a_2.shape)"
      ],
      "execution_count": 0,
      "outputs": []
    },
    {
      "metadata": {
        "id": "nvgKAGIjHJkQ",
        "colab_type": "text"
      },
      "cell_type": "markdown",
      "source": [
        ">> ### 1.11.2 - Tamanho do array (size)\n",
        ">> #### ***Objetivo***: Retornar o número de elementos de um array.\n",
        ">> ##### documentação: https://docs.scipy.org/doc/numpy-1.13.0/reference/generated/numpy.ndarray.size.html"
      ]
    },
    {
      "metadata": {
        "id": "P2BuMw0XHQaR",
        "colab_type": "code",
        "colab": {
          "autoexec": {
            "startup": false,
            "wait_interval": 0
          }
        }
      },
      "cell_type": "code",
      "source": [
        "print('tamanho: ', matriz_3_3.size)\n",
        "print('tamanho: ', matriz_2_2.size)\n",
        "print('tamanho: ', matriz_3_2_3.size)\n",
        "print('tamanho: ', vetor_0_a_2.size)"
      ],
      "execution_count": 0,
      "outputs": []
    },
    {
      "metadata": {
        "id": "GXxNNPKIHaXc",
        "colab_type": "text"
      },
      "cell_type": "markdown",
      "source": [
        ">> ### 1.11.3 - Dimensão do array (ndim)\n",
        ">> #### ***Objetivo***: Retornar a quantidade de dimensões de um array.\n",
        ">> ##### documentação: https://docs.scipy.org/doc/numpy-1.13.0/reference/generated/numpy.ndarray.ndim.html"
      ]
    },
    {
      "metadata": {
        "id": "r4XcpHeVHe3s",
        "colab_type": "code",
        "colab": {
          "autoexec": {
            "startup": false,
            "wait_interval": 0
          },
          "output_extras": [
            {
              "item_id": 1
            }
          ],
          "base_uri": "https://localhost:8080/",
          "height": 197
        },
        "outputId": "47b4c27a-ba29-4de7-e025-ab3eaa5276d0",
        "executionInfo": {
          "status": "error",
          "timestamp": 1517157656425,
          "user_tz": 120,
          "elapsed": 726,
          "user": {
            "displayName": "Marcelo Piovan",
            "photoUrl": "//lh3.googleusercontent.com/-1kocnuiw9tM/AAAAAAAAAAI/AAAAAAAAAaM/PNGlBGhV92Q/s50-c-k-no/photo.jpg",
            "userId": "109344316316211163977"
          }
        }
      },
      "cell_type": "code",
      "source": [
        "print('dimensão: ', matriz_3_3.ndim)\n",
        "print('dimensão: ', matriz_3_2_3.ndim)\n",
        "print('dimensão: ', vetor_0_a_2.ndim)"
      ],
      "execution_count": 15,
      "outputs": [
        {
          "output_type": "error",
          "ename": "NameError",
          "evalue": "ignored",
          "traceback": [
            "\u001b[0;31m---------------------------------------------------------------------------\u001b[0m",
            "\u001b[0;31mNameError\u001b[0m                                 Traceback (most recent call last)",
            "\u001b[0;32m<ipython-input-15-8fd249dd2ea2>\u001b[0m in \u001b[0;36m<module>\u001b[0;34m()\u001b[0m\n\u001b[0;32m----> 1\u001b[0;31m \u001b[0mprint\u001b[0m\u001b[0;34m(\u001b[0m\u001b[0;34m'dimensão: '\u001b[0m\u001b[0;34m,\u001b[0m \u001b[0mmatriz_3_3\u001b[0m\u001b[0;34m.\u001b[0m\u001b[0mndim\u001b[0m\u001b[0;34m)\u001b[0m\u001b[0;34m\u001b[0m\u001b[0m\n\u001b[0m\u001b[1;32m      2\u001b[0m \u001b[0mprint\u001b[0m\u001b[0;34m(\u001b[0m\u001b[0;34m'dimensão: '\u001b[0m\u001b[0;34m,\u001b[0m \u001b[0mmatriz_3_2_3\u001b[0m\u001b[0;34m.\u001b[0m\u001b[0mndim\u001b[0m\u001b[0;34m)\u001b[0m\u001b[0;34m\u001b[0m\u001b[0m\n\u001b[1;32m      3\u001b[0m \u001b[0mprint\u001b[0m\u001b[0;34m(\u001b[0m\u001b[0;34m'dimensão: '\u001b[0m\u001b[0;34m,\u001b[0m \u001b[0mvetor_0_a_2\u001b[0m\u001b[0;34m.\u001b[0m\u001b[0mndim\u001b[0m\u001b[0;34m)\u001b[0m\u001b[0;34m\u001b[0m\u001b[0m\n",
            "\u001b[0;31mNameError\u001b[0m: name 'matriz_3_3' is not defined"
          ]
        }
      ]
    },
    {
      "metadata": {
        "id": "KNEHylYbHplC",
        "colab_type": "text"
      },
      "cell_type": "markdown",
      "source": [
        ">> ### 1.11.4 - Tipo dos elementos do array (dtype)\n",
        ">> #### ***Objetivo***: Retornar o tipo dos elementos de um array.\n",
        ">> ##### documentação: https://docs.scipy.org/doc/numpy-1.13.0/reference/generated/numpy.ndarray.dtype.html"
      ]
    },
    {
      "metadata": {
        "id": "nt52thMTHuoS",
        "colab_type": "code",
        "colab": {
          "autoexec": {
            "startup": false,
            "wait_interval": 0
          }
        }
      },
      "cell_type": "code",
      "source": [
        "print('tipo: ', matriz_3_3.dtype)"
      ],
      "execution_count": 0,
      "outputs": []
    },
    {
      "metadata": {
        "id": "Zf8xR8faIJDS",
        "colab_type": "text"
      },
      "cell_type": "markdown",
      "source": [
        ">> ### 1.11.5 - Tamanho em bytes do array (itemsize)\n",
        ">> #### ***Objetivo***: Retornar a quantidade de bytes utilizada pelo array.\n",
        ">> ##### documentação: https://docs.scipy.org/doc/numpy-1.13.0/reference/generated/numpy.ndarray.itemsize.html"
      ]
    },
    {
      "metadata": {
        "id": "jdWnZLGjIRvy",
        "colab_type": "code",
        "colab": {
          "autoexec": {
            "startup": false,
            "wait_interval": 0
          }
        }
      },
      "cell_type": "code",
      "source": [
        "print(matriz_3_3.itemsize, 'bytes')"
      ],
      "execution_count": 0,
      "outputs": []
    },
    {
      "metadata": {
        "id": "uvagyGtsJ5ME",
        "colab_type": "text"
      },
      "cell_type": "markdown",
      "source": [
        "# 2 - Transformando os arrays"
      ]
    },
    {
      "metadata": {
        "id": "Mnt5-IZhyxUO",
        "colab_type": "text"
      },
      "cell_type": "markdown",
      "source": [
        "![alt text](http://infra.heurys.com.br/summerschool/numpy.transform.01.png)"
      ]
    },
    {
      "metadata": {
        "id": "xUE8669fKAzU",
        "colab_type": "code",
        "colab": {
          "autoexec": {
            "startup": false,
            "wait_interval": 0
          }
        }
      },
      "cell_type": "code",
      "source": [
        "vetor_base = np.arange(1,17)\n",
        "print('1 x 16:\\n', vetor_base)"
      ],
      "execution_count": 0,
      "outputs": []
    },
    {
      "metadata": {
        "id": "H0VVb7TyKOTV",
        "colab_type": "text"
      },
      "cell_type": "markdown",
      "source": [
        "> ## 2.1 - Transformando um vetor em uma matriz, com ordem dos elementos = \"C\" ou \"F\"ortran. (reshape)\n",
        ">> #### ***Objetivo***: Retornar um novo formato de array sem alterar os dados e o formato original.\n",
        ">> ##### documentação: https://docs.scipy.org/doc/numpy-1.13.0/reference/generated/numpy.reshape.html"
      ]
    },
    {
      "metadata": {
        "id": "O4rvF8yhKjgV",
        "colab_type": "code",
        "colab": {
          "autoexec": {
            "startup": false,
            "wait_interval": 0
          }
        }
      },
      "cell_type": "code",
      "source": [
        "matriz_4_4_c = vetor_base.reshape((4,4),order='C')\n",
        "print('4 x 4 ordem C:\\n', matriz_4_4_c, '\\n')"
      ],
      "execution_count": 0,
      "outputs": []
    },
    {
      "metadata": {
        "id": "I_4zmJsbd_uo",
        "colab_type": "code",
        "colab": {
          "autoexec": {
            "startup": false,
            "wait_interval": 0
          }
        }
      },
      "cell_type": "code",
      "source": [
        "matriz_4_4_f = vetor_base.reshape((4,4),order='F')\n",
        "print('4 x 4 ordem F:\\n', matriz_4_4_f, '\\n')"
      ],
      "execution_count": 0,
      "outputs": []
    },
    {
      "metadata": {
        "id": "id45UiD9eCXA",
        "colab_type": "code",
        "colab": {
          "autoexec": {
            "startup": false,
            "wait_interval": 0
          }
        }
      },
      "cell_type": "code",
      "source": [
        "matriz_2_8 = np.reshape(vetor_base, (2,8), order='C')\n",
        "print('2 x 8:\\n', matriz_2_8, '\\n')"
      ],
      "execution_count": 0,
      "outputs": []
    },
    {
      "metadata": {
        "id": "xzsVSHhNeDTH",
        "colab_type": "code",
        "colab": {
          "autoexec": {
            "startup": false,
            "wait_interval": 0
          }
        }
      },
      "cell_type": "code",
      "source": [
        "matriz_8_2 = np.reshape(vetor_base, (8,2))\n",
        "print('8 x 2:\\n', matriz_8_2, '\\n')"
      ],
      "execution_count": 0,
      "outputs": []
    },
    {
      "metadata": {
        "id": "xYyyc81TeEWQ",
        "colab_type": "code",
        "colab": {
          "autoexec": {
            "startup": false,
            "wait_interval": 0
          }
        }
      },
      "cell_type": "code",
      "source": [
        "matriz_2_dim_column = np.reshape(vetor_base, (2,-1))\n",
        "print('2 x D:\\n', matriz_2_dim_column)"
      ],
      "execution_count": 0,
      "outputs": []
    },
    {
      "metadata": {
        "id": "wOuk0e3peSvg",
        "colab_type": "code",
        "colab": {
          "autoexec": {
            "startup": false,
            "wait_interval": 0
          }
        }
      },
      "cell_type": "code",
      "source": [
        "matriz_2_8_b = np.reshape(matriz_4_4_f,(2,8))\n",
        "print('2 x 8 b:\\n', matriz_2_8_b)"
      ],
      "execution_count": 0,
      "outputs": []
    },
    {
      "metadata": {
        "id": "mV9eZN7ZqV03",
        "colab_type": "text"
      },
      "cell_type": "markdown",
      "source": [
        "> ## 2.2 - Transformando um vetor em uma matriz, com ordem dos elementos = \"C\" ou \"F\"ortran. (resize)\n",
        ">> #### ***Objetivo***: Transforma o array em um novo formato.\n",
        ">> ##### documentação: https://docs.scipy.org/doc/numpy-1.13.0/reference/generated/numpy.resize.html"
      ]
    },
    {
      "metadata": {
        "id": "7VfJfHaPqQpg",
        "colab_type": "code",
        "colab": {
          "autoexec": {
            "startup": false,
            "wait_interval": 0
          }
        }
      },
      "cell_type": "code",
      "source": [
        "vetor_base.resize((2,8))\n",
        "print('2 x 8:\\n', vetor_base)"
      ],
      "execution_count": 0,
      "outputs": []
    },
    {
      "metadata": {
        "id": "G9vwgx0decjS",
        "colab_type": "text"
      },
      "cell_type": "markdown",
      "source": [
        "> ## 2.3 - Transformando uma matriz em um vetor, com ordem dos elementos = \"C\" ou \"F\"ortran. (ravel)\n",
        ">> #### ***Objetivo***: Retornar um array de uma dimensão.\n",
        ">> ##### documentação: https://docs.scipy.org/doc/numpy-1.13.0/reference/generated/numpy.ravel.html"
      ]
    },
    {
      "metadata": {
        "id": "fdLibut4fInU",
        "colab_type": "code",
        "colab": {
          "autoexec": {
            "startup": false,
            "wait_interval": 0
          }
        }
      },
      "cell_type": "code",
      "source": [
        "print('Matriz 4 x 4 ordem Fortran:\\n', matriz_4_4_f, '\\n')\n",
        "\n",
        "vetor_16_b = np.ravel(matriz_4_4_f, order='F')\n",
        "print('1 x 16:\\n', vetor_16_b)"
      ],
      "execution_count": 0,
      "outputs": []
    },
    {
      "metadata": {
        "id": "sMxmEL1nfdlV",
        "colab_type": "code",
        "colab": {
          "autoexec": {
            "startup": false,
            "wait_interval": 0
          }
        }
      },
      "cell_type": "code",
      "source": [
        "matriz_2_8_c = np.reshape(np.ravel(matriz_4_4_f, order='F'),(2,8))\n",
        "print('2 x 8 c:\\n', matriz_2_8_c)"
      ],
      "execution_count": 0,
      "outputs": []
    },
    {
      "metadata": {
        "id": "yRvn1tEZhRDd",
        "colab_type": "text"
      },
      "cell_type": "markdown",
      "source": [
        "> ## 2.4 - Extraindo elementos de um array de duas dimensões (slice)\n",
        ">> #### ***Objetivo***: Retornar parte de um array.\n",
        ">> ##### documentação: https://docs.scipy.org/doc/numpy-1.13.0/reference/arrays.indexing.html"
      ]
    },
    {
      "metadata": {
        "id": "0FhYxS7NhkZn",
        "colab_type": "code",
        "colab": {
          "autoexec": {
            "startup": false,
            "wait_interval": 0
          }
        }
      },
      "cell_type": "code",
      "source": [
        "print('Matriz base: \\n', matriz_4_4_c, '\\n')"
      ],
      "execution_count": 0,
      "outputs": []
    },
    {
      "metadata": {
        "id": "Fy1_VjBsiBCN",
        "colab_type": "code",
        "colab": {
          "autoexec": {
            "startup": false,
            "wait_interval": 0
          }
        }
      },
      "cell_type": "code",
      "source": [
        "# sintaxe: [idx_line, idx_column]\n",
        "quinto_elemento = matriz_4_4_c[1,0]\n",
        "print('linha 2 coluna 1 = ', quinto_elemento)"
      ],
      "execution_count": 0,
      "outputs": []
    },
    {
      "metadata": {
        "id": "ahHdNgWNh-sX",
        "colab_type": "code",
        "colab": {
          "autoexec": {
            "startup": false,
            "wait_interval": 0
          }
        }
      },
      "cell_type": "code",
      "source": [
        "# sintaxe: [idx_line, idx_column : qtd_line]\n",
        "duas_linhas = matriz_4_4_c[:2]\n",
        "print('duas linhas:\\n', duas_linhas)"
      ],
      "execution_count": 0,
      "outputs": []
    },
    {
      "metadata": {
        "id": "J0s08Y9GiaEo",
        "colab_type": "code",
        "colab": {
          "autoexec": {
            "startup": false,
            "wait_interval": 0
          }
        }
      },
      "cell_type": "code",
      "source": [
        "# sintaxe: [idx_line, idx_column : qtd_line, idx_col]\n",
        "ultima_coluna = matriz_4_4_c[:4,3]\n",
        "print('ultima coluna:\\n', ultima_coluna)"
      ],
      "execution_count": 0,
      "outputs": []
    },
    {
      "metadata": {
        "id": "pqG0r5_ijjVi",
        "colab_type": "code",
        "colab": {
          "autoexec": {
            "startup": false,
            "wait_interval": 0
          }
        }
      },
      "cell_type": "code",
      "source": [
        "# sintaxe: [idx_line, idx_column : array(idx_column)]\n",
        "duas_colunas = matriz_4_4_c[0 : 4, [1, 2]]\n",
        "print('duas colunas:\\n', duas_colunas)"
      ],
      "execution_count": 0,
      "outputs": []
    },
    {
      "metadata": {
        "id": "TbGWhzePkBJO",
        "colab_type": "code",
        "colab": {
          "autoexec": {
            "startup": false,
            "wait_interval": 0
          }
        }
      },
      "cell_type": "code",
      "source": [
        "# sintaxe: [idx_line, idx_column : array(idx_column)]\n",
        "duas_colunas_b = matriz_4_4_c[:,[1, 2]]\n",
        "print('duas colunas b:\\n', duas_colunas_b)"
      ],
      "execution_count": 0,
      "outputs": []
    },
    {
      "metadata": {
        "id": "pwM8ysCJkLct",
        "colab_type": "code",
        "colab": {
          "autoexec": {
            "startup": false,
            "wait_interval": 0
          }
        }
      },
      "cell_type": "code",
      "source": [
        "# sintaxe: [idx_line, idx_column : array(idx_column)]\n",
        "matriz_2_2_part = matriz_4_4_c[1:3,[1, 2]]\n",
        "print('2 x 2 part:\\n', matriz_2_2_part)"
      ],
      "execution_count": 0,
      "outputs": []
    },
    {
      "metadata": {
        "id": "VE4xZQTSkt6W",
        "colab_type": "code",
        "colab": {
          "autoexec": {
            "startup": false,
            "wait_interval": 0
          }
        }
      },
      "cell_type": "code",
      "source": [
        "# sintaxe: [array(idx_line), array(idx_column)]\n",
        "vetor = matriz_4_4_c[[1, 2, 3],[0, 2, 1]]\n",
        "print('vetor part:\\n', vetor)"
      ],
      "execution_count": 0,
      "outputs": []
    },
    {
      "metadata": {
        "id": "OLaCXpEalucR",
        "colab_type": "text"
      },
      "cell_type": "markdown",
      "source": [
        "> ## 2.4 - Extraindo elementos de um array de uma dimensão (slice)\n",
        ">> #### ***Objetivo***: Retornar parte de um array.\n",
        ">> ##### documentação: https://docs.scipy.org/doc/numpy-1.13.0/reference/arrays.indexing.html"
      ]
    },
    {
      "metadata": {
        "id": "8HFwsYFLl70x",
        "colab_type": "code",
        "colab": {
          "autoexec": {
            "startup": false,
            "wait_interval": 0
          }
        }
      },
      "cell_type": "code",
      "source": [
        "vetor_base = np.arange(1,17)\n",
        "print('1 x 16:\\n', vetor_base)"
      ],
      "execution_count": 0,
      "outputs": []
    },
    {
      "metadata": {
        "id": "h0beALGVpV2p",
        "colab_type": "code",
        "colab": {
          "autoexec": {
            "startup": false,
            "wait_interval": 0
          }
        }
      },
      "cell_type": "code",
      "source": [
        "vetor_impar = vetor_base[0:16:2]\n",
        "print('vetor impar:\\n',vetor_impar)"
      ],
      "execution_count": 0,
      "outputs": []
    },
    {
      "metadata": {
        "id": "kQoqpPSpplf6",
        "colab_type": "code",
        "colab": {
          "autoexec": {
            "startup": false,
            "wait_interval": 0
          }
        }
      },
      "cell_type": "code",
      "source": [
        "sem_os_tres_ultimos = vetor_base[:-3]\n",
        "print('sem três os últimos:\\n',sem_os_tres_ultimos)"
      ],
      "execution_count": 0,
      "outputs": []
    },
    {
      "metadata": {
        "id": "4PBKgF74px26",
        "colab_type": "code",
        "colab": {
          "autoexec": {
            "startup": false,
            "wait_interval": 0
          }
        }
      },
      "cell_type": "code",
      "source": [
        "somente_os_tres_ultimos = vetor_base[-3:]\n",
        "print('somente os três últimos:\\n',somente_os_tres_ultimos)"
      ],
      "execution_count": 0,
      "outputs": []
    },
    {
      "metadata": {
        "id": "odcMBGPNp3BM",
        "colab_type": "code",
        "colab": {
          "autoexec": {
            "startup": false,
            "wait_interval": 0
          }
        }
      },
      "cell_type": "code",
      "source": [
        "nova_dimensao = vetor_base[:,np.newaxis]\n",
        "print('nova dimensão:\\n', nova_dimensao)"
      ],
      "execution_count": 0,
      "outputs": []
    },
    {
      "metadata": {
        "id": "Hsg9Jr5x5ARb",
        "colab_type": "text"
      },
      "cell_type": "markdown",
      "source": [
        "> ## 2.5 - Concatenando arrays (concatenate, vstack, hstack)"
      ]
    },
    {
      "metadata": {
        "id": "p2HKajEf5pPP",
        "colab_type": "text"
      },
      "cell_type": "markdown",
      "source": [
        "![alt text](http://infra.heurys.com.br/summerschool/numpy.transform.02.png)"
      ]
    },
    {
      "metadata": {
        "id": "sJ-dpqqy6i38",
        "colab_type": "text"
      },
      "cell_type": "markdown",
      "source": [
        ">> #### ***Objetivo***: Retornar um array concatenado.\n",
        ">> ##### documentação: https://docs.scipy.org/doc/numpy-1.13.0/reference/generated/numpy.concatenate.html\n",
        ">> ##### documentação: https://docs.scipy.org/doc/numpy-1.13.0/reference/generated/numpy.vstack.html\n",
        ">> ##### documentação: https://docs.scipy.org/doc/numpy-1.13.0/reference/generated/numpy.hstack.html"
      ]
    },
    {
      "metadata": {
        "id": "wNwMP0tU7Auj",
        "colab_type": "code",
        "colab": {
          "autoexec": {
            "startup": false,
            "wait_interval": 0
          },
          "output_extras": [
            {
              "item_id": 1
            }
          ],
          "base_uri": "https://localhost:8080/",
          "height": 170
        },
        "outputId": "6ecc95f8-c8cb-4443-cc47-34515fa63e47",
        "executionInfo": {
          "status": "ok",
          "timestamp": 1516815960363,
          "user_tz": 120,
          "elapsed": 625,
          "user": {
            "displayName": "Marcelo Piovan",
            "photoUrl": "//lh3.googleusercontent.com/-1kocnuiw9tM/AAAAAAAAAAI/AAAAAAAAAaM/PNGlBGhV92Q/s50-c-k-no/photo.jpg",
            "userId": "109344316316211163977"
          }
        }
      },
      "cell_type": "code",
      "source": [
        "matriz_1 = np.array(((1, 2), (3, 4)))\n",
        "matriz_2 = np.array(((5, 6), (7, 8)))\n",
        "matriz_3 = np.array(((9, 10), (11, 12)))\n",
        "\n",
        "print('Matriz 1:', matriz_1,'Matriz 2:', matriz_2,'Matriz 3:', matriz_3, sep='\\n')"
      ],
      "execution_count": 3,
      "outputs": [
        {
          "output_type": "stream",
          "text": [
            "Matriz 1:\n",
            "[[1 2]\n",
            " [3 4]]\n",
            "Matriz 2:\n",
            "[[5 6]\n",
            " [7 8]]\n",
            "Matriz 3:\n",
            "[[ 9 10]\n",
            " [11 12]]\n"
          ],
          "name": "stdout"
        }
      ]
    },
    {
      "metadata": {
        "id": "BSBIlzc08ELw",
        "colab_type": "code",
        "colab": {
          "autoexec": {
            "startup": false,
            "wait_interval": 0
          },
          "output_extras": [
            {
              "item_id": 1
            }
          ],
          "base_uri": "https://localhost:8080/",
          "height": 136
        },
        "outputId": "56938fc6-473c-4c81-e867-447b2436d253",
        "executionInfo": {
          "status": "ok",
          "timestamp": 1516815966805,
          "user_tz": 120,
          "elapsed": 630,
          "user": {
            "displayName": "Marcelo Piovan",
            "photoUrl": "//lh3.googleusercontent.com/-1kocnuiw9tM/AAAAAAAAAAI/AAAAAAAAAaM/PNGlBGhV92Q/s50-c-k-no/photo.jpg",
            "userId": "109344316316211163977"
          }
        }
      },
      "cell_type": "code",
      "source": [
        "matriz_concatenada = np.concatenate((matriz_1, matriz_2, matriz_3))\n",
        "print('Matriz concatenada: \\n', matriz_concatenada)"
      ],
      "execution_count": 4,
      "outputs": [
        {
          "output_type": "stream",
          "text": [
            "Matriz concatenada: \n",
            " [[ 1  2]\n",
            " [ 3  4]\n",
            " [ 5  6]\n",
            " [ 7  8]\n",
            " [ 9 10]\n",
            " [11 12]]\n"
          ],
          "name": "stdout"
        }
      ]
    },
    {
      "metadata": {
        "id": "EOTbY-V26pPs",
        "colab_type": "code",
        "colab": {
          "autoexec": {
            "startup": false,
            "wait_interval": 0
          }
        }
      },
      "cell_type": "code",
      "source": [
        "matriz_a = np.array([ [1,2,3], [4,5,6], [7,8,9] ])\n",
        "print('Matriz A:\\n', matriz_a)\n",
        "\n",
        "matriz_b = np.array([ [1,1,1], [2,2,2], [3,3,3] ])\n",
        "print('Matriz B:\\n',matriz_b)"
      ],
      "execution_count": 0,
      "outputs": []
    },
    {
      "metadata": {
        "id": "Ku9ifIN78r_e",
        "colab_type": "code",
        "colab": {
          "autoexec": {
            "startup": false,
            "wait_interval": 0
          }
        }
      },
      "cell_type": "code",
      "source": [
        "# Concatenando um array na vertical\n",
        "print('Vertical:\\n',np.vstack((matriz_a, matriz_b)))\n",
        "\n",
        "# Concatenando um array na horizontal\n",
        "print('Horizontal:\\n',np.hstack((matriz_a, matriz_b)))"
      ],
      "execution_count": 0,
      "outputs": []
    },
    {
      "metadata": {
        "id": "12mk4OAa6CW-",
        "colab_type": "text"
      },
      "cell_type": "markdown",
      "source": [
        "> ## 2.6 - Dividindo arrays (split, vsplit, hsplit)"
      ]
    },
    {
      "metadata": {
        "id": "MNhKJqk5C6pd",
        "colab_type": "text"
      },
      "cell_type": "markdown",
      "source": [
        "![alt text](http://infra.heurys.com.br/summerschool/numpy.transform.03.png)"
      ]
    },
    {
      "metadata": {
        "id": "KXx7yUmDDFX0",
        "colab_type": "text"
      },
      "cell_type": "markdown",
      "source": [
        ">> #### ***Objetivo***: Retornar vários arrays divididos.\n",
        ">> ##### documentação: https://docs.scipy.org/doc/numpy-1.13.0/reference/generated/numpy.split.html\n",
        ">> ##### documentação: https://docs.scipy.org/doc/numpy-1.13.0/reference/generated/numpy.vsplit.html\n",
        ">> ##### documentação: https://docs.scipy.org/doc/numpy-1.13.0/reference/generated/numpy.hsplit.html"
      ]
    },
    {
      "metadata": {
        "id": "Dl7jYAI09L-d",
        "colab_type": "code",
        "colab": {
          "autoexec": {
            "startup": false,
            "wait_interval": 0
          }
        }
      },
      "cell_type": "code",
      "source": [
        "matriz_1 = np.array(((1, 2), (3, 4), (5, 6) , (7, 8), (9, 10), (11, 12)))\n",
        "print('Matriz 1:\\n', matriz_1)"
      ],
      "execution_count": 0,
      "outputs": []
    },
    {
      "metadata": {
        "id": "hSYKcHGD9vDT",
        "colab_type": "code",
        "colab": {
          "autoexec": {
            "startup": false,
            "wait_interval": 0
          }
        }
      },
      "cell_type": "code",
      "source": [
        "split = np.split(matriz_1, 3)\n",
        "print('Split Parte 1:\\n', split[0])\n",
        "print('Split Parte 2:\\n', split[1])\n",
        "print('Split Parte 3:\\n', split[2])"
      ],
      "execution_count": 0,
      "outputs": []
    },
    {
      "metadata": {
        "id": "vsCwbIw6-ZAa",
        "colab_type": "code",
        "colab": {
          "autoexec": {
            "startup": false,
            "wait_interval": 0
          }
        }
      },
      "cell_type": "code",
      "source": [
        "split_vertical = np.vsplit(matriz_1, 2)\n",
        "print ('Split Vertical Parte 1:\\n', split_vertical[0])\n",
        "print ('Split Vertical Parte 2:\\n', split_vertical[1])"
      ],
      "execution_count": 0,
      "outputs": []
    },
    {
      "metadata": {
        "id": "a9UD6HDb-umQ",
        "colab_type": "code",
        "colab": {
          "autoexec": {
            "startup": false,
            "wait_interval": 0
          }
        }
      },
      "cell_type": "code",
      "source": [
        "split_horizontal = np.hsplit(matriz_1, 2)\n",
        "print ('Split Horizontal Parte 1:\\n', split_horizontal[0])\n",
        "print ('Split Horizontal Parte 2:\\n', split_horizontal[1])"
      ],
      "execution_count": 0,
      "outputs": []
    },
    {
      "metadata": {
        "id": "0xYlIMkNUoGR",
        "colab_type": "text"
      },
      "cell_type": "markdown",
      "source": [
        "# 3 - Cálculos com os arrays"
      ]
    },
    {
      "metadata": {
        "id": "YxgoNKhqea4r",
        "colab_type": "text"
      },
      "cell_type": "markdown",
      "source": [
        "![alt text](http://infra.heurys.com.br/summerschool/numpy.calc.01.png)"
      ]
    },
    {
      "metadata": {
        "id": "EJbb8WEmU6LY",
        "colab_type": "code",
        "colab": {
          "autoexec": {
            "startup": false,
            "wait_interval": 0
          }
        }
      },
      "cell_type": "code",
      "source": [
        "matriz_base = np.array([ [1,2], [3,4]])\n",
        "print('Matriz Base:\\n', matriz_base)"
      ],
      "execution_count": 0,
      "outputs": []
    },
    {
      "metadata": {
        "id": "tv8wsr8Ffzdv",
        "colab_type": "text"
      },
      "cell_type": "markdown",
      "source": [
        "> ## 3.1 - Transposta, Inversa, Determinante, Autovalores e AutoVetores\n",
        ">> ##### documentação: https://docs.scipy.org/doc/numpy-1.13.0/reference/generated/numpy.ndarray.T.html\n",
        ">> ##### documentação: https://docs.scipy.org/doc/numpy-1.13.0/reference/generated/numpy.linalg.inv.html\n",
        ">> ##### documentação: https://docs.scipy.org/doc/numpy-1.13.0/reference/generated/numpy.linalg.det.html\n",
        ">> ##### documentação: https://docs.scipy.org/doc/numpy-1.13.0/reference/generated/numpy.linalg.eig.html"
      ]
    },
    {
      "metadata": {
        "id": "gjr5sC8EU8tI",
        "colab_type": "code",
        "colab": {
          "autoexec": {
            "startup": false,
            "wait_interval": 0
          }
        }
      },
      "cell_type": "code",
      "source": [
        "# Matriz transposta\n",
        "print('Matriz Trasposta:\\n', matriz_base.T)"
      ],
      "execution_count": 0,
      "outputs": []
    },
    {
      "metadata": {
        "id": "t5q3oP7_VD25",
        "colab_type": "code",
        "colab": {
          "autoexec": {
            "startup": false,
            "wait_interval": 0
          }
        }
      },
      "cell_type": "code",
      "source": [
        "# Inversa da Matriz\n",
        "print('Inversa:\\n', np.linalg.inv(matriz_base))"
      ],
      "execution_count": 0,
      "outputs": []
    },
    {
      "metadata": {
        "id": "tClKtbEwVulq",
        "colab_type": "code",
        "colab": {
          "autoexec": {
            "startup": false,
            "wait_interval": 0
          }
        }
      },
      "cell_type": "code",
      "source": [
        "# Determinante da Matriz\n",
        "print('Determinante:\\n', np.linalg.det(matriz_base))"
      ],
      "execution_count": 0,
      "outputs": []
    },
    {
      "metadata": {
        "id": "w0_4tkp_cph-",
        "colab_type": "code",
        "colab": {
          "autoexec": {
            "startup": false,
            "wait_interval": 0
          }
        }
      },
      "cell_type": "code",
      "source": [
        "# Autovalores e autovetores\n",
        "valores, vetores = np.linalg.eig(matriz_base)\n",
        "print('Autovalores:\\n', valores)\n",
        "print('Autovetores:\\n', vetores)"
      ],
      "execution_count": 0,
      "outputs": []
    },
    {
      "metadata": {
        "id": "QnYbfsjcgJZ3",
        "colab_type": "text"
      },
      "cell_type": "markdown",
      "source": [
        "> ## 3.2 - Soma, soma da diagonal, soma de um eixo, máximo, mínimo\n",
        ">> ##### documentação: https://docs.scipy.org/doc/numpy-1.13.0/reference/generated/numpy.sum.html\n",
        ">> ##### documentação: https://docs.scipy.org/doc/numpy-1.13.0/reference/generated/numpy.trace.html\n",
        ">> ##### documentação: https://docs.scipy.org/doc/numpy-1.13.0/reference/generated/numpy.ndarray.max.html\n",
        ">> ##### documentação: https://docs.scipy.org/doc/numpy-1.13.0/reference/generated/numpy.ndarray.min.html"
      ]
    },
    {
      "metadata": {
        "id": "SNNZpQjAgdm3",
        "colab_type": "code",
        "colab": {
          "autoexec": {
            "startup": false,
            "wait_interval": 0
          }
        }
      },
      "cell_type": "code",
      "source": [
        "# Soma da Matriz\n",
        "print('Soma:\\n', np.sum(matriz_base))\n",
        "print('Soma da Coluna:\\n', np.sum(matriz_base, axis=0))\n",
        "print('Soma da Linha:\\n', np.sum(matriz_base, axis=1))"
      ],
      "execution_count": 0,
      "outputs": []
    },
    {
      "metadata": {
        "id": "ZNRHSoF9ge6x",
        "colab_type": "code",
        "colab": {
          "autoexec": {
            "startup": false,
            "wait_interval": 0
          }
        }
      },
      "cell_type": "code",
      "source": [
        "# Somando a diagonal da Matriz\n",
        "print('Soma Diagonal:\\n', np.trace(matriz_base))"
      ],
      "execution_count": 0,
      "outputs": []
    },
    {
      "metadata": {
        "id": "p3Ks9cDSghvN",
        "colab_type": "code",
        "colab": {
          "autoexec": {
            "startup": false,
            "wait_interval": 0
          }
        }
      },
      "cell_type": "code",
      "source": [
        "# Maior elemento da matriz\n",
        "print('Maior:\\n', np.max(matriz_base))\n",
        "print('Maior da Coluna:\\n', np.max(matriz_base, axis=0))\n",
        "print('Maior da Linha:\\n', np.max(matriz_base, axis=1))"
      ],
      "execution_count": 0,
      "outputs": []
    },
    {
      "metadata": {
        "id": "OIuOoap0gn3x",
        "colab_type": "code",
        "colab": {
          "autoexec": {
            "startup": false,
            "wait_interval": 0
          }
        }
      },
      "cell_type": "code",
      "source": [
        "# Menor elemento da matriz\n",
        "print('Menor:\\n', np.min(matriz_base))\n",
        "print('Menor da Coluna:\\n', np.min(matriz_base, axis=0))\n",
        "print('Menor da Linha:\\n', np.min(matriz_base, axis=1))"
      ],
      "execution_count": 0,
      "outputs": []
    },
    {
      "metadata": {
        "id": "o-o_odQPhSk5",
        "colab_type": "text"
      },
      "cell_type": "markdown",
      "source": [
        "> ## 3.3 - Desvio Padrão, Raiz, Seno, Cosseno, Tangente, Exponencial e Logaritmo\n",
        ">> ##### documentação: https://docs.scipy.org/doc/numpy-1.13.0/reference/generated/numpy.std.html\n",
        ">> ##### documentação: https://docs.scipy.org/doc/numpy-1.13.0/reference/generated/numpy.sqrt.html\n",
        ">> ##### documentação: https://docs.scipy.org/doc/numpy-1.13.0/reference/generated/numpy.sin.html\n",
        ">> ##### documentação: https://docs.scipy.org/doc/numpy-1.13.0/reference/generated/numpy.cos.html\n",
        ">> ##### documentação: https://docs.scipy.org/doc/numpy-1.13.0/reference/generated/numpy.tan.html\n",
        ">> ##### documentação: https://docs.scipy.org/doc/numpy-1.13.0/reference/generated/numpy.exp.html\n",
        ">> ##### documentação: https://docs.scipy.org/doc/numpy-1.13.0/reference/generated/numpy.log.html"
      ]
    },
    {
      "metadata": {
        "id": "FlcmveHyhlE2",
        "colab_type": "code",
        "colab": {
          "autoexec": {
            "startup": false,
            "wait_interval": 0
          }
        }
      },
      "cell_type": "code",
      "source": [
        "# Desvio Padrão da Matriz\n",
        "print('Desvio padrão:\\n', np.std(matriz_base))\n",
        "print('Desvio padrão da Coluna:\\n', np.std(matriz_base, axis=0))\n",
        "print('Desvio padrão da Linha:\\n', np.std(matriz_base, axis=1))"
      ],
      "execution_count": 0,
      "outputs": []
    },
    {
      "metadata": {
        "id": "X4lBswDOhnfK",
        "colab_type": "code",
        "colab": {
          "autoexec": {
            "startup": false,
            "wait_interval": 0
          }
        }
      },
      "cell_type": "code",
      "source": [
        "# Raiz da Matriz\n",
        "print('Raiz:\\n', np.sqrt(matriz_base))"
      ],
      "execution_count": 0,
      "outputs": []
    },
    {
      "metadata": {
        "id": "gcXTnBxgho79",
        "colab_type": "code",
        "colab": {
          "autoexec": {
            "startup": false,
            "wait_interval": 0
          }
        }
      },
      "cell_type": "code",
      "source": [
        "# Seno da Matriz\n",
        "print('Seno:\\n', np.sin(matriz_base))"
      ],
      "execution_count": 0,
      "outputs": []
    },
    {
      "metadata": {
        "id": "tmJblupPhqb2",
        "colab_type": "code",
        "colab": {
          "autoexec": {
            "startup": false,
            "wait_interval": 0
          }
        }
      },
      "cell_type": "code",
      "source": [
        "# Cosseno da Matriz\n",
        "print('Cosseno:\\n', np.cos(matriz_base))"
      ],
      "execution_count": 0,
      "outputs": []
    },
    {
      "metadata": {
        "id": "cHdIt_w_hrrD",
        "colab_type": "code",
        "colab": {
          "autoexec": {
            "startup": false,
            "wait_interval": 0
          }
        }
      },
      "cell_type": "code",
      "source": [
        "# Tangente da Matriz\n",
        "print('Tangente:\\n', np.tan(matriz_base))"
      ],
      "execution_count": 0,
      "outputs": []
    },
    {
      "metadata": {
        "id": "1Fvwz7ZJhtPb",
        "colab_type": "code",
        "colab": {
          "autoexec": {
            "startup": false,
            "wait_interval": 0
          }
        }
      },
      "cell_type": "code",
      "source": [
        "# Exponencial da Matriz\n",
        "print('Exponencial:\\n', np.exp(matriz_base))"
      ],
      "execution_count": 0,
      "outputs": []
    },
    {
      "metadata": {
        "id": "AcxoEOGnhv2D",
        "colab_type": "code",
        "colab": {
          "autoexec": {
            "startup": false,
            "wait_interval": 0
          }
        }
      },
      "cell_type": "code",
      "source": [
        "# Logaritmo da Matriz\n",
        "print('Logaritmo:\\n', np.log(matriz_base))\n",
        "print('Logaritmo base 10:\\n', np.log10(matriz_base))"
      ],
      "execution_count": 0,
      "outputs": []
    },
    {
      "metadata": {
        "id": "7ECk9ctlirht",
        "colab_type": "text"
      },
      "cell_type": "markdown",
      "source": [
        "> ## 3.4 - Matriz de covariância \n",
        ">> ##### documentação: https://docs.scipy.org/doc/numpy-1.13.0/reference/generated/numpy.cov.html\n",
        ">> ##### documentação: https://docs.scipy.org/doc/numpy-1.13.0/reference/generated/numpy.dot.html"
      ]
    },
    {
      "metadata": {
        "id": "eA-0mFhVtVaN",
        "colab_type": "code",
        "colab": {
          "autoexec": {
            "startup": false,
            "wait_interval": 0
          }
        }
      },
      "cell_type": "code",
      "source": [
        "# Matriz Covariância\n",
        "print('Matriz Covariância:\\n', np.cov(matriz_base))"
      ],
      "execution_count": 0,
      "outputs": []
    },
    {
      "metadata": {
        "id": "MyfSlJGDjiIw",
        "colab_type": "code",
        "colab": {
          "autoexec": {
            "startup": false,
            "wait_interval": 0
          }
        }
      },
      "cell_type": "code",
      "source": [
        "# Matriz A\n",
        "matriz_a = np.array(((2, 3), (4, 5)))\n",
        "\n",
        "# Matriz B\n",
        "matriz_b = np.array(((6, 7), (8, 9)))\n",
        "c = np.dot(matriz_a,matriz_b)\n",
        "print(c)"
      ],
      "execution_count": 0,
      "outputs": []
    },
    {
      "metadata": {
        "id": "iDtTGdCBThcg",
        "colab_type": "text"
      },
      "cell_type": "markdown",
      "source": [
        "> ## 3.5 - Operações com os arrays"
      ]
    },
    {
      "metadata": {
        "id": "A12yVp_KcR2W",
        "colab_type": "code",
        "colab": {
          "autoexec": {
            "startup": false,
            "wait_interval": 0
          },
          "output_extras": [
            {
              "item_id": 1
            }
          ],
          "base_uri": "https://localhost:8080/",
          "height": 408
        },
        "outputId": "dd6306d0-b20b-4b38-e205-26697e1ba161",
        "executionInfo": {
          "status": "ok",
          "timestamp": 1517154756605,
          "user_tz": 120,
          "elapsed": 730,
          "user": {
            "displayName": "Marcelo Piovan",
            "photoUrl": "//lh3.googleusercontent.com/-1kocnuiw9tM/AAAAAAAAAAI/AAAAAAAAAaM/PNGlBGhV92Q/s50-c-k-no/photo.jpg",
            "userId": "109344316316211163977"
          }
        }
      },
      "cell_type": "code",
      "source": [
        "# Matriz Base\n",
        "matriz_a = np.array(((1,2,3), (4,5,6)))\n",
        "matriz_b = np.array(((2,2,2), (4,4,4)))\n",
        "\n",
        "print('Matriz A:', matriz_a, '\\nMatriz B:', matriz_b, sep='\\n')\n",
        "                    \n",
        "adicao = matriz_a + matriz_b\n",
        "print('\\nAdição: \\n', adicao)                    \n",
        "\n",
        "teste_bool = matriz_a > 2\n",
        "print('\\nMaior que dois: \\n', teste_bool)\n",
        "\n",
        "multiplicacao = matriz_b * 3\n",
        "print('\\nMultiplicação: \\n', multiplicacao)\n",
        "\n",
        "comparacao = matriz_a == matriz_b\n",
        "print('\\nComparando 2 Matriz:\\n',comparacao)"
      ],
      "execution_count": 14,
      "outputs": [
        {
          "output_type": "stream",
          "text": [
            "Matriz A:\n",
            "[[1 2 3]\n",
            " [4 5 6]]\n",
            "\n",
            "Matriz B:\n",
            "[[2 2 2]\n",
            " [4 4 4]]\n",
            "\n",
            "Adição: \n",
            " [[ 3  4  5]\n",
            " [ 8  9 10]]\n",
            "\n",
            "Maior que dois: \n",
            " [[False False  True]\n",
            " [ True  True  True]]\n",
            "\n",
            "Multiplicação: \n",
            " [[ 6  6  6]\n",
            " [12 12 12]]\n",
            "\n",
            "Comparando 2 Matriz:\n",
            " [[False  True False]\n",
            " [ True False False]]\n"
          ],
          "name": "stdout"
        }
      ]
    }
  ]
}