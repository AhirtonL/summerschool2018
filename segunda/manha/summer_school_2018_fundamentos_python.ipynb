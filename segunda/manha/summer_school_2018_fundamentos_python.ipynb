{
  "nbformat": 4,
  "nbformat_minor": 0,
  "metadata": {
    "colab": {
      "name": "summer_school_2018_fundamentos_python.ipynb",
      "version": "0.3.2",
      "views": {},
      "default_view": {},
      "provenance": [],
      "collapsed_sections": []
    },
    "kernelspec": {
      "name": "python3",
      "display_name": "Python 3"
    }
  },
  "cells": [
    {
      "metadata": {
        "id": "KHyMlUNYJ6cA",
        "colab_type": "text"
      },
      "cell_type": "markdown",
      "source": [
        "![alt text](http://infra.heurys.com.br/summerschool/fundamentos.000.png)"
      ]
    },
    {
      "metadata": {
        "id": "kaRghUnAJRrw",
        "colab_type": "text"
      },
      "cell_type": "markdown",
      "source": [
        "![alt text](http://infra.heurys.com.br/summerschool/fundamentos.001.PNG\n",
        ")"
      ]
    },
    {
      "metadata": {
        "id": "JWA-jZwLlFzN",
        "colab_type": "text"
      },
      "cell_type": "markdown",
      "source": [
        "**Tipo de dados STRING**"
      ]
    },
    {
      "metadata": {
        "id": "3AJ3mFeaj5R4",
        "colab_type": "code",
        "colab": {
          "autoexec": {
            "startup": false,
            "wait_interval": 0
          }
        }
      },
      "cell_type": "code",
      "source": [
        "nome = \"Summer School\"\n",
        "type(nome)"
      ],
      "execution_count": 0,
      "outputs": []
    },
    {
      "metadata": {
        "id": "ddlcvYxrkmO8",
        "colab_type": "code",
        "colab": {
          "autoexec": {
            "startup": false,
            "wait_interval": 0
          }
        }
      },
      "cell_type": "code",
      "source": [
        "nome = 'Summer School'\n",
        "type(nome)"
      ],
      "execution_count": 0,
      "outputs": []
    },
    {
      "metadata": {
        "id": "PCk5ssl-lOB2",
        "colab_type": "text"
      },
      "cell_type": "markdown",
      "source": [
        "**Tipo de dados INTEGER**"
      ]
    },
    {
      "metadata": {
        "id": "vfh3W1HYktzh",
        "colab_type": "code",
        "colab": {
          "autoexec": {
            "startup": false,
            "wait_interval": 0
          }
        }
      },
      "cell_type": "code",
      "source": [
        "nome = 1\n",
        "type(nome)"
      ],
      "execution_count": 0,
      "outputs": []
    },
    {
      "metadata": {
        "id": "s4a0pCGglTJt",
        "colab_type": "text"
      },
      "cell_type": "markdown",
      "source": [
        "**Tipo de dados FLOAT**"
      ]
    },
    {
      "metadata": {
        "id": "GEcO-kcMkxIr",
        "colab_type": "code",
        "colab": {
          "autoexec": {
            "startup": false,
            "wait_interval": 0
          }
        }
      },
      "cell_type": "code",
      "source": [
        "nome = 1.10\n",
        "type(nome)"
      ],
      "execution_count": 0,
      "outputs": []
    },
    {
      "metadata": {
        "id": "rSU1vCYMlVxt",
        "colab_type": "text"
      },
      "cell_type": "markdown",
      "source": [
        "**Tipo de dados COMPLEX**"
      ]
    },
    {
      "metadata": {
        "id": "JCPnxlzLk2Zb",
        "colab_type": "code",
        "colab": {
          "autoexec": {
            "startup": false,
            "wait_interval": 0
          }
        }
      },
      "cell_type": "code",
      "source": [
        "nome = 1.10j\n",
        "type(nome)"
      ],
      "execution_count": 0,
      "outputs": []
    },
    {
      "metadata": {
        "id": "cYfQp4PPlZMN",
        "colab_type": "text"
      },
      "cell_type": "markdown",
      "source": [
        "**Tipo de dados BOOL**"
      ]
    },
    {
      "metadata": {
        "id": "JFzHOZ7ik_ZW",
        "colab_type": "code",
        "colab": {
          "autoexec": {
            "startup": false,
            "wait_interval": 0
          }
        }
      },
      "cell_type": "code",
      "source": [
        "nome = True\n",
        "type(nome)"
      ],
      "execution_count": 0,
      "outputs": []
    },
    {
      "metadata": {
        "id": "DwEGpZM_lymg",
        "colab_type": "text"
      },
      "cell_type": "markdown",
      "source": [
        "**Precisão do tipo FLOAT**"
      ]
    },
    {
      "metadata": {
        "id": "vhStN6VZl3HY",
        "colab_type": "code",
        "colab": {
          "autoexec": {
            "startup": false,
            "wait_interval": 0
          }
        }
      },
      "cell_type": "code",
      "source": [
        "print('Teste 1 - [05]:', 2 == 2.02222)\n",
        "print('Teste 2 - [08]:', 2 == 2.00002222)\n",
        "print('Teste 3 - [11]:', 2 == 2.00000002222)\n",
        "print('Teste 4 - [14]:', 2 == 2.00000000002222)\n",
        "print('Teste 5 - [17]:', 2 == 2.00000000000002222)\n",
        "print('Teste 6 - [20]:', 2 == 2.00000000000000002222)"
      ],
      "execution_count": 0,
      "outputs": []
    },
    {
      "metadata": {
        "id": "GG-IKbydm_hl",
        "colab_type": "code",
        "colab": {
          "autoexec": {
            "startup": false,
            "wait_interval": 0
          }
        }
      },
      "cell_type": "code",
      "source": [
        "from decimal import Decimal\n",
        "\n",
        "Decimal(2.0) == Decimal(2.0000000000000002222)"
      ],
      "execution_count": 0,
      "outputs": []
    },
    {
      "metadata": {
        "id": "6BC_OLJ2KNCy",
        "colab_type": "text"
      },
      "cell_type": "markdown",
      "source": [
        "![alt text](http://infra.heurys.com.br/summerschool/fundamentos.002.png)"
      ]
    },
    {
      "metadata": {
        "id": "AVtzDzouLRXf",
        "colab_type": "text"
      },
      "cell_type": "markdown",
      "source": [
        "**List - exemplos **"
      ]
    },
    {
      "metadata": {
        "id": "SnIhSyZfKlSb",
        "colab_type": "code",
        "colab": {
          "autoexec": {
            "startup": false,
            "wait_interval": 0
          }
        }
      },
      "cell_type": "code",
      "source": [
        "# Declarando uma lista\n",
        "lista = [1, 2]\n",
        "print(lista)"
      ],
      "execution_count": 0,
      "outputs": []
    },
    {
      "metadata": {
        "id": "fDH4gk_UKxxk",
        "colab_type": "code",
        "colab": {
          "autoexec": {
            "startup": false,
            "wait_interval": 0
          }
        }
      },
      "cell_type": "code",
      "source": [
        "# Incluindo no fim da lista\n",
        "lista.append(3)\n",
        "lista.append(4)\n",
        "print(lista)"
      ],
      "execution_count": 0,
      "outputs": []
    },
    {
      "metadata": {
        "id": "C1sEGdACK3VG",
        "colab_type": "code",
        "colab": {
          "autoexec": {
            "startup": false,
            "wait_interval": 0
          }
        }
      },
      "cell_type": "code",
      "source": [
        "# Removendo itens da lista\n",
        "item_1 = lista.pop()\n",
        "item_2 = lista.pop()\n",
        "print(lista)\n",
        "print('Itens excluídos', item_1, item_2)"
      ],
      "execution_count": 0,
      "outputs": []
    },
    {
      "metadata": {
        "id": "2NsZ_jW0LX0o",
        "colab_type": "code",
        "colab": {
          "autoexec": {
            "startup": false,
            "wait_interval": 0
          }
        }
      },
      "cell_type": "code",
      "source": [
        "# Removendo itens da lista\n",
        "lista = [1, 2, 3, 2, 2]\n",
        "print('Lista=',lista)\n",
        "\n",
        "lista.remove(2)\n",
        "print('Remove o valor 2=', lista)\n",
        "\n",
        "lista.remove(2)\n",
        "print('Remove outro o valor 2=',lista)"
      ],
      "execution_count": 0,
      "outputs": []
    },
    {
      "metadata": {
        "id": "ciiBxPEyL2dL",
        "colab_type": "code",
        "colab": {
          "autoexec": {
            "startup": false,
            "wait_interval": 0
          }
        }
      },
      "cell_type": "code",
      "source": [
        "# Recuperando e acessando um valor da lista\n",
        "posicao_item_valor_3 = lista.index(3)\n",
        "print('Posição do valor 3?', posicao_item_valor_3)\n",
        "\n",
        "print('Valor: ', lista[posicao_item_valor_3])"
      ],
      "execution_count": 0,
      "outputs": []
    },
    {
      "metadata": {
        "id": "xcY1_B3fMd5O",
        "colab_type": "code",
        "colab": {
          "autoexec": {
            "startup": false,
            "wait_interval": 0
          }
        }
      },
      "cell_type": "code",
      "source": [
        "# Ordenando a Lista\n",
        "lista.sort()\n",
        "print(lista)"
      ],
      "execution_count": 0,
      "outputs": []
    },
    {
      "metadata": {
        "id": "ogIkNPGWMmsO",
        "colab_type": "code",
        "colab": {
          "autoexec": {
            "startup": false,
            "wait_interval": 0
          }
        }
      },
      "cell_type": "code",
      "source": [
        "# Incluindo itens na lista\n",
        "# list.insert(posição, valor)\n",
        "\n",
        "lista.insert(0, 9)\n",
        "print(lista)\n",
        "\n",
        "lista.insert(-1, 8)\n",
        "print(lista)\n"
      ],
      "execution_count": 0,
      "outputs": []
    },
    {
      "metadata": {
        "id": "v7q6IRNvORHm",
        "colab_type": "code",
        "colab": {
          "autoexec": {
            "startup": false,
            "wait_interval": 0
          }
        }
      },
      "cell_type": "code",
      "source": [
        "# Tamanho da Lista\n",
        "tamanho = len(lista)\n",
        "print('Tamanho da lista:', tamanho)"
      ],
      "execution_count": 0,
      "outputs": []
    },
    {
      "metadata": {
        "id": "uYeGDfH3Np_0",
        "colab_type": "text"
      },
      "cell_type": "markdown",
      "source": [
        "**Tuple - exemplos **"
      ]
    },
    {
      "metadata": {
        "id": "g7RWT4zENpjk",
        "colab_type": "code",
        "colab": {
          "autoexec": {
            "startup": false,
            "wait_interval": 0
          }
        }
      },
      "cell_type": "code",
      "source": [
        "# Declarando uma tupla\n",
        "tupla = (1, 2, 3)\n",
        "print(tupla)\n",
        "\n",
        "# Recuperando itens da tupla\n",
        "item_valor_3 = tupla.index(3)\n",
        "print('Posição do item de valor 3: ', item_valor_3)"
      ],
      "execution_count": 0,
      "outputs": []
    },
    {
      "metadata": {
        "id": "sD9dBtfNOEsv",
        "colab_type": "code",
        "colab": {
          "autoexec": {
            "startup": false,
            "wait_interval": 0
          }
        }
      },
      "cell_type": "code",
      "source": [
        "# Tamanho da Tupla\n",
        "tamanho = len(tupla)\n",
        "print('Tamanho da tupla:', tamanho)"
      ],
      "execution_count": 0,
      "outputs": []
    },
    {
      "metadata": {
        "id": "Gf9tcXuUOVbH",
        "colab_type": "code",
        "colab": {
          "autoexec": {
            "startup": false,
            "wait_interval": 0
          }
        }
      },
      "cell_type": "code",
      "source": [
        "# Tentando alterar a tupla\n",
        "tupla[0] = 2"
      ],
      "execution_count": 0,
      "outputs": []
    },
    {
      "metadata": {
        "id": "SjdXUBhMOhhh",
        "colab_type": "text"
      },
      "cell_type": "markdown",
      "source": [
        "**Dictionary - exemplos **"
      ]
    },
    {
      "metadata": {
        "id": "5IeXifAOOgrH",
        "colab_type": "code",
        "colab": {
          "autoexec": {
            "startup": false,
            "wait_interval": 0
          }
        }
      },
      "cell_type": "code",
      "source": [
        "# Declarando um dicionário\n",
        "dicionario = {'treinamento': 'Summer School', 'ano': 2018}\n",
        "print(dicionario)"
      ],
      "execution_count": 0,
      "outputs": []
    },
    {
      "metadata": {
        "id": "a-PD5kM_O_0d",
        "colab_type": "code",
        "colab": {
          "autoexec": {
            "startup": false,
            "wait_interval": 0
          }
        }
      },
      "cell_type": "code",
      "source": [
        "# Recuperando os itens da tupla\n",
        "array_itens = dicionario.items()\n",
        "print(array_itens)"
      ],
      "execution_count": 0,
      "outputs": []
    },
    {
      "metadata": {
        "id": "nqMCN2KcPUMU",
        "colab_type": "code",
        "colab": {
          "autoexec": {
            "startup": false,
            "wait_interval": 0
          }
        }
      },
      "cell_type": "code",
      "source": [
        "# Recuperando um valor pela chave\n",
        "treinamento = dicionario.get('treinamento')\n",
        "print(treinamento)"
      ],
      "execution_count": 0,
      "outputs": []
    },
    {
      "metadata": {
        "id": "JxGSEbz0PjZh",
        "colab_type": "code",
        "colab": {
          "autoexec": {
            "startup": false,
            "wait_interval": 0
          }
        }
      },
      "cell_type": "code",
      "source": [
        "# Recuperando as chaves do dicionário\n",
        "chaves = dicionario.keys()\n",
        "print(chaves)"
      ],
      "execution_count": 0,
      "outputs": []
    },
    {
      "metadata": {
        "id": "7hLbjN_5Ptn5",
        "colab_type": "code",
        "colab": {
          "autoexec": {
            "startup": false,
            "wait_interval": 0
          }
        }
      },
      "cell_type": "code",
      "source": [
        "# Recuperando os valores do dicionário\n",
        "valores = dicionario.values()\n",
        "print(valores)"
      ],
      "execution_count": 0,
      "outputs": []
    },
    {
      "metadata": {
        "id": "skN95ahEP5dK",
        "colab_type": "code",
        "colab": {
          "autoexec": {
            "startup": false,
            "wait_interval": 0
          }
        }
      },
      "cell_type": "code",
      "source": [
        "# Incluindo uma chave/valor no dicionário\n",
        "dicionario['pais'] = 'Brasil'\n",
        "print(dicionario)"
      ],
      "execution_count": 0,
      "outputs": []
    },
    {
      "metadata": {
        "id": "PjyYSjbFQGis",
        "colab_type": "code",
        "colab": {
          "autoexec": {
            "startup": false,
            "wait_interval": 0
          }
        }
      },
      "cell_type": "code",
      "source": [
        "# Excluindo uma chave/valor no dicionário\n",
        "item_excluido = dicionario.pop('ano')\n",
        "print(dicionario)"
      ],
      "execution_count": 0,
      "outputs": []
    },
    {
      "metadata": {
        "id": "hn6CZMqAQfGq",
        "colab_type": "text"
      },
      "cell_type": "markdown",
      "source": [
        "**Set - exemplos **"
      ]
    },
    {
      "metadata": {
        "id": "nzW3iQauQhB5",
        "colab_type": "code",
        "colab": {
          "autoexec": {
            "startup": false,
            "wait_interval": 0
          }
        }
      },
      "cell_type": "code",
      "source": [
        "# Declarando um conjunto\n",
        "conjunto = set('abcde')\n",
        "print(conjunto)"
      ],
      "execution_count": 0,
      "outputs": []
    },
    {
      "metadata": {
        "id": "w6L5SQ2RS3Qe",
        "colab_type": "code",
        "colab": {
          "autoexec": {
            "startup": false,
            "wait_interval": 0
          }
        }
      },
      "cell_type": "code",
      "source": [
        "# Adicionando itens ao conjunto\n",
        "conjunto.add('m')\n",
        "print(conjunto)\n",
        "\n",
        "conjunto.add('m')\n",
        "conjunto.add('m')\n",
        "conjunto.add('m')\n",
        "print(conjunto)"
      ],
      "execution_count": 0,
      "outputs": []
    },
    {
      "metadata": {
        "id": "LyOb3IrTTHxm",
        "colab_type": "code",
        "colab": {
          "autoexec": {
            "startup": false,
            "wait_interval": 0
          }
        }
      },
      "cell_type": "code",
      "source": [
        "# Removendo um item do conjunto\n",
        "conjunto.remove('m')\n",
        "print(conjunto)\n",
        "\n",
        "item_excluido = conjunto.pop()\n",
        "print('Item excluído:', item_excluido)\n",
        "\n",
        "print(conjunto)"
      ],
      "execution_count": 0,
      "outputs": []
    },
    {
      "metadata": {
        "id": "GndKNKo7Tl12",
        "colab_type": "code",
        "colab": {
          "autoexec": {
            "startup": false,
            "wait_interval": 0
          }
        }
      },
      "cell_type": "code",
      "source": [
        "# Verificando se um item pode ser incluído no conjunto\n",
        "c_pode = conjunto.isdisjoint('c')\n",
        "print('c pode ?', c_pode)\n",
        "\n",
        "m_pode = conjunto.isdisjoint('m')\n",
        "print('m pode ?', m_pode)"
      ],
      "execution_count": 0,
      "outputs": []
    },
    {
      "metadata": {
        "id": "H64oi700WKDM",
        "colab_type": "text"
      },
      "cell_type": "markdown",
      "source": [
        "![alt text](http://infra.heurys.com.br/summerschool/fundamentos.003.PNG\n",
        ")"
      ]
    },
    {
      "metadata": {
        "id": "NFjbb5T9YWJN",
        "colab_type": "text"
      },
      "cell_type": "markdown",
      "source": [
        "**For in, range - exemplos **"
      ]
    },
    {
      "metadata": {
        "id": "aSr4VFdcTPsH",
        "colab_type": "code",
        "colab": {
          "autoexec": {
            "startup": false,
            "wait_interval": 0
          }
        }
      },
      "cell_type": "code",
      "source": [
        "# Declarando e percorrendo uma lista\n",
        "lista = ['a', 'b', 'c', 'd']\n",
        "for letra in lista:\n",
        "  print('letra:', letra)"
      ],
      "execution_count": 0,
      "outputs": []
    },
    {
      "metadata": {
        "id": "T2A7x8-MWo83",
        "colab_type": "code",
        "colab": {
          "autoexec": {
            "startup": false,
            "wait_interval": 0
          }
        }
      },
      "cell_type": "code",
      "source": [
        "# Navegando por uma sequencia numérica\n",
        "# range(start, stop, step)\n",
        "for numero in range(0, 10):\n",
        "  print('numero:', numero)\n",
        "\n",
        "print('imprimindo os pares')\n",
        "for numero in range(0, 10, 2):\n",
        "  print('numero:', numero)\n"
      ],
      "execution_count": 0,
      "outputs": []
    },
    {
      "metadata": {
        "id": "jkSHHY0oXRvg",
        "colab_type": "code",
        "colab": {
          "autoexec": {
            "startup": false,
            "wait_interval": 0
          }
        }
      },
      "cell_type": "code",
      "source": [
        "# Declarando um dicionário\n",
        "dicionario = {'treinamento': 'Summer School', 'ano': 2018}\n",
        "for chave, valor in dicionario.items():\n",
        "  print(chave,'-',valor)"
      ],
      "execution_count": 0,
      "outputs": []
    },
    {
      "metadata": {
        "id": "5vjsA7RhXn6I",
        "colab_type": "code",
        "colab": {
          "autoexec": {
            "startup": false,
            "wait_interval": 0
          }
        }
      },
      "cell_type": "code",
      "source": [
        "# Declarando uma tupla\n",
        "tupla = ('a', 'b', 'c', 'd')\n",
        "\n",
        "# Mostrando os dois primeiros itens\n",
        "for letra in tupla[:2]:\n",
        "  print('letra:',letra)\n",
        "\n",
        "print('\\n')\n",
        "\n",
        "# Mostrando os dois últimos itens\n",
        "for letra in tupla[2:]:\n",
        "  print('letra:', letra)"
      ],
      "execution_count": 0,
      "outputs": []
    },
    {
      "metadata": {
        "id": "I1sOcKMzJkZc",
        "colab_type": "code",
        "colab": {
          "autoexec": {
            "startup": false,
            "wait_interval": 0
          }
        }
      },
      "cell_type": "code",
      "source": [
        "# Criando uma lista\n",
        "lista_a = [1, 2, 3]\n",
        "\n",
        "# Criando outra lista somando 5 a cada elemento\n",
        "lista_a_mais_5 = [item_a + 5 for item_a in lista_a]\n",
        "\n",
        "print('Resultado: ',lista_a_mais_5)\n",
        "\n",
        "# Criando outra lista verificando se o item é maior que 1\n",
        "lista_a_item_maior_que_1 = [item_a for item_a in lista_a if item_a > 1]\n",
        "\n",
        "print('Resultado: ',lista_a_item_maior_que_1)"
      ],
      "execution_count": 0,
      "outputs": []
    },
    {
      "metadata": {
        "id": "flOe50UFYc2Z",
        "colab_type": "text"
      },
      "cell_type": "markdown",
      "source": [
        "**len, zip - exemplos **"
      ]
    },
    {
      "metadata": {
        "id": "Lk_jpswXYbum",
        "colab_type": "code",
        "colab": {
          "autoexec": {
            "startup": false,
            "wait_interval": 0
          }
        }
      },
      "cell_type": "code",
      "source": [
        "# Unindo dois objetos\n",
        "lista_a = [1, 2, 3]\n",
        "tupla_b = ('Summer', 'School', '2018')\n",
        "\n",
        "uniao = zip(lista_a, tupla_b)\n",
        "print(uniao)\n",
        "\n",
        "for a,b in uniao:\n",
        "  print(a, '>', b)\n",
        "  \n",
        "# Verificando o tamanho de um objeto\n",
        "tamanho = len(lista_a)\n",
        "print('tamanho lista A:', tamanho)\n",
        "\n",
        "tamanho = len(tupla_b)\n",
        "print('tamanho tupla B:', tamanho)"
      ],
      "execution_count": 0,
      "outputs": []
    },
    {
      "metadata": {
        "id": "seXvjCo7Z2U8",
        "colab_type": "text"
      },
      "cell_type": "markdown",
      "source": [
        "**Matriz**\n",
        "\n",
        "$\\begin{bmatrix}\n",
        "  1 & 2 & 3 \\\\\n",
        "  4 & 5 & 6 \\\\\n",
        "  7 & 8 & 9 \\\\\n",
        "\\end{bmatrix}$"
      ]
    },
    {
      "metadata": {
        "id": "G7KsgO9FaHZ1",
        "colab_type": "code",
        "colab": {
          "autoexec": {
            "startup": false,
            "wait_interval": 0
          }
        }
      },
      "cell_type": "code",
      "source": [
        "# Declarando uma matriz\n",
        "matriz = [[1,2,3],[4,5,6],[7,8,9]]\n",
        "print(matriz)"
      ],
      "execution_count": 0,
      "outputs": []
    },
    {
      "metadata": {
        "id": "D7izKcdtaSAi",
        "colab_type": "code",
        "colab": {
          "autoexec": {
            "startup": false,
            "wait_interval": 0
          }
        }
      },
      "cell_type": "code",
      "source": [
        "matriz = [[1,2,3],(4,5,6),{7,8,9}]\n",
        "print(matriz)\n",
        "\n",
        "for objeto in matriz:\n",
        "  print(type(objeto))"
      ],
      "execution_count": 0,
      "outputs": []
    },
    {
      "metadata": {
        "id": "6hxqOL_-IuWn",
        "colab_type": "text"
      },
      "cell_type": "markdown",
      "source": [
        "![alt text](http://infra.heurys.com.br/summerschool/fundamentos.004.PNG\n",
        ")"
      ]
    },
    {
      "metadata": {
        "id": "w2J5uhFXOGd1",
        "colab_type": "text"
      },
      "cell_type": "markdown",
      "source": [
        "**Função sem retorno**"
      ]
    },
    {
      "metadata": {
        "id": "QP5Mf0ZUOLAd",
        "colab_type": "code",
        "colab": {
          "autoexec": {
            "startup": false,
            "wait_interval": 0
          }
        }
      },
      "cell_type": "code",
      "source": [
        "# função sem retorno e sem parâmetros\n",
        "def funcao():\n",
        "  lista = [1, 2, 3]\n",
        "  print('Lista: ', lista)\n",
        "  \n",
        "# Chamando a função\n",
        "funcao()"
      ],
      "execution_count": 0,
      "outputs": []
    },
    {
      "metadata": {
        "id": "IAw_dtgeQPB8",
        "colab_type": "text"
      },
      "cell_type": "markdown",
      "source": [
        "**Função com parâmetros, parâmetros padrão**"
      ]
    },
    {
      "metadata": {
        "id": "vHA5pCkTOtaw",
        "colab_type": "code",
        "colab": {
          "autoexec": {
            "startup": false,
            "wait_interval": 0
          }
        }
      },
      "cell_type": "code",
      "source": [
        "# função sem retorno e com parâmetro\n",
        "def funcao_com_parametro(valor):\n",
        "  print('O dobro de',valor,'é', valor * 2)\n",
        "\n",
        "# Chamando a função\n",
        "funcao_com_parametro(5)"
      ],
      "execution_count": 0,
      "outputs": []
    },
    {
      "metadata": {
        "id": "plHfcJo4PVoo",
        "colab_type": "code",
        "colab": {
          "autoexec": {
            "startup": false,
            "wait_interval": 0
          }
        }
      },
      "cell_type": "code",
      "source": [
        "# função sem retorno e com parâmetros padrão\n",
        "def funcao_com_parametro(valor, divisor=5):\n",
        "  print(valor,'dividido por', divisor, 'é', valor / divisor)\n",
        "\n",
        "# Chamando a função\n",
        "funcao_com_parametro(10)\n",
        "funcao_com_parametro(10, 2)"
      ],
      "execution_count": 0,
      "outputs": []
    },
    {
      "metadata": {
        "id": "fSz4oSeMQW-r",
        "colab_type": "text"
      },
      "cell_type": "markdown",
      "source": [
        "**Função com lista de parâmetros**"
      ]
    },
    {
      "metadata": {
        "id": "CZjzD7xJQb80",
        "colab_type": "code",
        "colab": {
          "autoexec": {
            "startup": false,
            "wait_interval": 0
          }
        }
      },
      "cell_type": "code",
      "source": [
        "# função sem retorno e com lista de parâmetros\n",
        "def funcao_com_lista_parametro(*valores):\n",
        "  for valor in valores:\n",
        "    print('valor:', valor)\n",
        "    \n",
        "  print('Soma dos itens: ', sum(valores))\n",
        "\n",
        "# Chamando a função\n",
        "funcao_com_lista_parametro(1,2,3,4,5)"
      ],
      "execution_count": 0,
      "outputs": []
    },
    {
      "metadata": {
        "id": "WxxrT-N-RCEc",
        "colab_type": "code",
        "colab": {
          "autoexec": {
            "startup": false,
            "wait_interval": 0
          }
        }
      },
      "cell_type": "code",
      "source": [
        "# função sem retorno e com lista de parâmetros (chave, valor)\n",
        "def funcao_com_lista_parametro(**kwargs):\n",
        "  for k,v in kwargs.items():\n",
        "    print('chave:', k, '>', v)\n",
        "    \n",
        "\n",
        "# Chamando a função \n",
        "funcao_com_lista_parametro(nome='Marcelo', sobrenome='Piovan')\n",
        "\n",
        "# Chamando a função com dictionary\n",
        "dicionario = {'treinamento': 'Summer School', 'ano': 2018}\n",
        "funcao_com_lista_parametro(**dicionario)\n"
      ],
      "execution_count": 0,
      "outputs": []
    },
    {
      "metadata": {
        "id": "a__Ud4r9SZgg",
        "colab_type": "text"
      },
      "cell_type": "markdown",
      "source": [
        "**Função com retorno simples**"
      ]
    },
    {
      "metadata": {
        "id": "MzyFbDZaSc1o",
        "colab_type": "code",
        "colab": {
          "autoexec": {
            "startup": false,
            "wait_interval": 0
          }
        }
      },
      "cell_type": "code",
      "source": [
        "# função com retorno e com parâmetro\n",
        "def funcao_com_parametro(valor):\n",
        "  return valor * 2\n",
        "\n",
        "\n",
        "# Chamando a função\n",
        "dobro = funcao_com_parametro(5)\n",
        "print('Dobro:', dobro)\n"
      ],
      "execution_count": 0,
      "outputs": []
    },
    {
      "metadata": {
        "id": "sjX3m8zVUqDa",
        "colab_type": "text"
      },
      "cell_type": "markdown",
      "source": [
        "**Função com retorno de uma lista de valores**"
      ]
    },
    {
      "metadata": {
        "id": "nOkxxrMWU2MD",
        "colab_type": "code",
        "colab": {
          "autoexec": {
            "startup": false,
            "wait_interval": 0
          }
        }
      },
      "cell_type": "code",
      "source": [
        "# função com retorno e com parâmetro\n",
        "def funcao_com_parametro(valor):\n",
        "  resultado = valor * 2\n",
        "  return valor, resultado\n",
        "\n",
        "\n",
        "# Chamando a função\n",
        "valor, dobro = funcao_com_parametro(5)\n",
        "print('O dobro de',valor, 'é', dobro)"
      ],
      "execution_count": 0,
      "outputs": []
    },
    {
      "metadata": {
        "id": "SXGBBMy6EyA-",
        "colab_type": "text"
      },
      "cell_type": "markdown",
      "source": [
        "**Função lambda**"
      ]
    },
    {
      "metadata": {
        "id": "Suic6ctpE0-L",
        "colab_type": "code",
        "colab": {
          "autoexec": {
            "startup": false,
            "wait_interval": 0
          }
        }
      },
      "cell_type": "code",
      "source": [
        "# função lambda que multiplica um valor a por outro b\n",
        "minha_funcao = lambda a, b : a * b\n",
        "\n",
        "# Chamando a função Lambda\n",
        "resultado = minha_funcao(3,5)\n",
        "print('Resultado:',resultado)\n",
        "\n",
        "\n",
        "\n",
        "# função similar\n",
        "def funcao_similar(a, b):\n",
        "  return a * b\n",
        "\n",
        "# Chamando a função\n",
        "resultado = funcao_similar(3,5)\n",
        "print('Resultado:',resultado)\n"
      ],
      "execution_count": 0,
      "outputs": []
    },
    {
      "metadata": {
        "id": "h44fdN6RF9S5",
        "colab_type": "code",
        "colab": {
          "autoexec": {
            "startup": false,
            "wait_interval": 0
          }
        }
      },
      "cell_type": "code",
      "source": [
        "# criando uma \"api\" com lambda\n",
        "api = {'somar': lambda x, y : x + y,\n",
        "       'subtrair': lambda x, y : x - y,\n",
        "       'multiplicar': lambda x, y : x * y,\n",
        "       'dividir': lambda x, y : x / y}\n",
        "\n",
        "resultado = api['somar'](1,5) + api['multiplicar'](2,2) + api['subtrair'](4,2) + api['dividir'](12,3)\n",
        "print('Resultado:',resultado)"
      ],
      "execution_count": 0,
      "outputs": []
    },
    {
      "metadata": {
        "id": "Mm5VeBJFHqmE",
        "colab_type": "text"
      },
      "cell_type": "markdown",
      "source": [
        "**Percorrendo arrays com map**"
      ]
    },
    {
      "metadata": {
        "id": "kRO7-D23IAtA",
        "colab_type": "code",
        "colab": {
          "autoexec": {
            "startup": false,
            "wait_interval": 0
          }
        }
      },
      "cell_type": "code",
      "source": [
        "# Objeto iterável\n",
        "array_a = [1,4,8,9,12,21,24,7,41,4,20]\n",
        "\n",
        "# funcão para o map\n",
        "def funcao_validar(x):\n",
        "  if x > 10:\n",
        "    return True\n",
        "  return False\n",
        "\n",
        "resultado_map = map(funcao_validar,array_a)\n",
        "resultado_list = list(resultado_map)\n",
        "\n",
        "print(resultado_list)\n"
      ],
      "execution_count": 0,
      "outputs": []
    },
    {
      "metadata": {
        "id": "ssunxjaoJAHF",
        "colab_type": "code",
        "colab": {
          "autoexec": {
            "startup": false,
            "wait_interval": 0
          }
        }
      },
      "cell_type": "code",
      "source": [
        "# map com lambda\n",
        "resultado_map = map(lambda x: x > 10,array_a)\n",
        "resultado_list = list(resultado_map)\n",
        "\n",
        "print(resultado_list)"
      ],
      "execution_count": 0,
      "outputs": []
    }
  ]
}