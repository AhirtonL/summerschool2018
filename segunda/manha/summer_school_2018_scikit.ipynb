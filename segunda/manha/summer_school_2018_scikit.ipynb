{
  "nbformat": 4,
  "nbformat_minor": 0,
  "metadata": {
    "colab": {
      "name": "summer_school_2018_scikit.ipynb",
      "version": "0.3.2",
      "views": {},
      "default_view": {},
      "provenance": []
    },
    "kernelspec": {
      "name": "python3",
      "display_name": "Python 3"
    }
  },
  "cells": [
    {
      "metadata": {
        "id": "LeK72Yy1g8R8",
        "colab_type": "text"
      },
      "cell_type": "markdown",
      "source": [
        "**Importando as bibliotecas necessárias**\n",
        "* **numpy** para trabalharmos com os arrays\n",
        "\n",
        "* **matplotlib** para criarmos o gráfico com o resultado\n",
        "\n",
        "* **sklearn** para criar o modelo de regressão linear."
      ]
    },
    {
      "metadata": {
        "id": "VPbkV1OKhnHU",
        "colab_type": "code",
        "colab": {
          "autoexec": {
            "startup": false,
            "wait_interval": 0
          }
        }
      },
      "cell_type": "code",
      "source": [
        "import numpy as np\n",
        "import matplotlib.pyplot as plt\n",
        "from sklearn import linear_model"
      ],
      "execution_count": 0,
      "outputs": []
    },
    {
      "metadata": {
        "id": "NORf9GSbhqt8",
        "colab_type": "text"
      },
      "cell_type": "markdown",
      "source": [
        "** Criando os dados para treinar nosso modelo **"
      ]
    },
    {
      "metadata": {
        "id": "vSJwPu1ih-xo",
        "colab_type": "code",
        "colab": {
          "autoexec": {
            "startup": false,
            "wait_interval": 0
          },
          "output_extras": [
            {
              "item_id": 1
            }
          ],
          "base_uri": "https://localhost:8080/",
          "height": 289
        },
        "outputId": "dda7773c-3817-4b84-c256-a5c32f58fd8d",
        "executionInfo": {
          "status": "ok",
          "timestamp": 1517156722664,
          "user_tz": 120,
          "elapsed": 811,
          "user": {
            "displayName": "Marcelo Piovan",
            "photoUrl": "//lh3.googleusercontent.com/-1kocnuiw9tM/AAAAAAAAAAI/AAAAAAAAAaM/PNGlBGhV92Q/s50-c-k-no/photo.jpg",
            "userId": "109344316316211163977"
          }
        }
      },
      "cell_type": "code",
      "source": [
        "# vamos criar os array com os dados de treinamento em um array de (6, 1)\n",
        "x_train = np.array([1000, 5000, 8000, 12000, 6000, 9000]).reshape(-1, 1)\n",
        "y_train = np.array([20000, 37000, 42000, 51000, 40000, 46000]).reshape(-1, 1)\n",
        "\n",
        "print('Investimentos:\\n',x_train,'\\n')\n",
        "print('Faturamento:\\n',y_train,'\\n')"
      ],
      "execution_count": 36,
      "outputs": [
        {
          "output_type": "stream",
          "text": [
            "Investimentos:\n",
            " [[ 1000]\n",
            " [ 5000]\n",
            " [ 8000]\n",
            " [12000]\n",
            " [ 6000]\n",
            " [ 9000]] \n",
            "\n",
            "Faturamento:\n",
            " [[20000]\n",
            " [37000]\n",
            " [42000]\n",
            " [51000]\n",
            " [40000]\n",
            " [46000]] \n",
            "\n"
          ],
          "name": "stdout"
        }
      ]
    },
    {
      "metadata": {
        "id": "oZtOBJTpiqmI",
        "colab_type": "text"
      },
      "cell_type": "markdown",
      "source": [
        "**Criando o modelo de regressão linear**"
      ]
    },
    {
      "metadata": {
        "id": "-QVvA4aDiwso",
        "colab_type": "code",
        "colab": {
          "autoexec": {
            "startup": false,
            "wait_interval": 0
          }
        }
      },
      "cell_type": "code",
      "source": [
        "model = linear_model.LinearRegression()"
      ],
      "execution_count": 0,
      "outputs": []
    },
    {
      "metadata": {
        "id": "3GW5GBjhizRA",
        "colab_type": "text"
      },
      "cell_type": "markdown",
      "source": [
        "**Vamos treinar nosso modelo**"
      ]
    },
    {
      "metadata": {
        "id": "uls78KmBi3_J",
        "colab_type": "code",
        "colab": {
          "autoexec": {
            "startup": false,
            "wait_interval": 0
          },
          "output_extras": [
            {
              "item_id": 1
            }
          ],
          "base_uri": "https://localhost:8080/",
          "height": 34
        },
        "outputId": "4887aad3-09c3-44ef-ceb1-677e37cb20eb",
        "executionInfo": {
          "status": "ok",
          "timestamp": 1517156591640,
          "user_tz": 120,
          "elapsed": 681,
          "user": {
            "displayName": "Marcelo Piovan",
            "photoUrl": "//lh3.googleusercontent.com/-1kocnuiw9tM/AAAAAAAAAAI/AAAAAAAAAaM/PNGlBGhV92Q/s50-c-k-no/photo.jpg",
            "userId": "109344316316211163977"
          }
        }
      },
      "cell_type": "code",
      "source": [
        "model.fit(x_train, y_train)"
      ],
      "execution_count": 30,
      "outputs": [
        {
          "output_type": "execute_result",
          "data": {
            "text/plain": [
              "LinearRegression(copy_X=True, fit_intercept=True, n_jobs=1, normalize=False)"
            ]
          },
          "metadata": {
            "tags": []
          },
          "execution_count": 30
        }
      ]
    },
    {
      "metadata": {
        "id": "uU8itaKRi_s5",
        "colab_type": "text"
      },
      "cell_type": "markdown",
      "source": [
        "**Testando o nosso modelo com um conjunto de dados**"
      ]
    },
    {
      "metadata": {
        "id": "BuOj1kQ2jDdI",
        "colab_type": "code",
        "colab": {
          "autoexec": {
            "startup": false,
            "wait_interval": 0
          },
          "output_extras": [
            {
              "item_id": 1
            }
          ],
          "base_uri": "https://localhost:8080/",
          "height": 153
        },
        "outputId": "22c4c629-ab2f-4919-9fd8-ed36ce242eff",
        "executionInfo": {
          "status": "ok",
          "timestamp": 1517156831648,
          "user_tz": 120,
          "elapsed": 690,
          "user": {
            "displayName": "Marcelo Piovan",
            "photoUrl": "//lh3.googleusercontent.com/-1kocnuiw9tM/AAAAAAAAAAI/AAAAAAAAAaM/PNGlBGhV92Q/s50-c-k-no/photo.jpg",
            "userId": "109344316316211163977"
          }
        }
      },
      "cell_type": "code",
      "source": [
        "x_test = np.array([2000, 9500]).reshape(-1, 1)\n",
        "y_test = model.predict(x_test)\n",
        "\n",
        "print('Investimento Previsto:\\n', x_test,'\\n')\n",
        "print('Faturamento Previsto:\\n', y_test,'\\n')"
      ],
      "execution_count": 39,
      "outputs": [
        {
          "output_type": "stream",
          "text": [
            "Investimento Previsto:\n",
            " [[2000]\n",
            " [9500]] \n",
            "\n",
            "Faturamento Previsto:\n",
            " [[26072.94117647]\n",
            " [46649.41176471]] \n",
            "\n"
          ],
          "name": "stdout"
        }
      ]
    },
    {
      "metadata": {
        "id": "VDAxpD-MjZ8j",
        "colab_type": "text"
      },
      "cell_type": "markdown",
      "source": [
        "**Vamos capturar os resultados**"
      ]
    },
    {
      "metadata": {
        "id": "pvmhFvHrjdza",
        "colab_type": "code",
        "colab": {
          "autoexec": {
            "startup": false,
            "wait_interval": 0
          },
          "output_extras": [
            {
              "item_id": 1
            }
          ],
          "base_uri": "https://localhost:8080/",
          "height": 68
        },
        "outputId": "5b067270-14a7-4b7b-9828-e034eeea41f8",
        "executionInfo": {
          "status": "ok",
          "timestamp": 1517156833653,
          "user_tz": 120,
          "elapsed": 679,
          "user": {
            "displayName": "Marcelo Piovan",
            "photoUrl": "//lh3.googleusercontent.com/-1kocnuiw9tM/AAAAAAAAAAI/AAAAAAAAAaM/PNGlBGhV92Q/s50-c-k-no/photo.jpg",
            "userId": "109344316316211163977"
          }
        }
      },
      "cell_type": "code",
      "source": [
        "print('Score: ', model.score(x_train, y_train))\n",
        "print('Intercept', model.intercept_)\n",
        "print('Coefficient: ', model.coef_[0][0])"
      ],
      "execution_count": 40,
      "outputs": [
        {
          "output_type": "stream",
          "text": [
            "Score:  0.9397635999170525\n",
            "Intercept [20585.88235294]\n",
            "Coefficient:  2.743529411764705\n"
          ],
          "name": "stdout"
        }
      ]
    },
    {
      "metadata": {
        "id": "hxXF_Tn1jl1T",
        "colab_type": "text"
      },
      "cell_type": "markdown",
      "source": [
        "**Vamos mostrar o gráfico**"
      ]
    },
    {
      "metadata": {
        "id": "HS_SDXYJgv_E",
        "colab_type": "code",
        "colab": {
          "autoexec": {
            "startup": false,
            "wait_interval": 0
          },
          "output_extras": [
            {
              "item_id": 1
            }
          ],
          "base_uri": "https://localhost:8080/",
          "height": 381
        },
        "outputId": "5afadbba-7633-4505-960d-53b35df3bca5",
        "executionInfo": {
          "status": "ok",
          "timestamp": 1517156883535,
          "user_tz": 120,
          "elapsed": 734,
          "user": {
            "displayName": "Marcelo Piovan",
            "photoUrl": "//lh3.googleusercontent.com/-1kocnuiw9tM/AAAAAAAAAAI/AAAAAAAAAaM/PNGlBGhV92Q/s50-c-k-no/photo.jpg",
            "userId": "109344316316211163977"
          }
        }
      },
      "cell_type": "code",
      "source": [
        "plt.scatter(x_train, y_train, color='blue')\n",
        "plt.scatter(x_test, y_test, color='green')\n",
        "plt.plot(x_test, y_test, color='red')\n",
        "plt.title('Regressão Linear', fontsize=16)\n",
        "plt.xlabel('x = Investimento', fontsize=13)\n",
        "plt.ylabel('y = Faturamento', fontsize=13)\n",
        "plt.show()"
      ],
      "execution_count": 42,
      "outputs": [
        {
          "output_type": "display_data",
          "data": {
            "image/png": "[encoded data removed]",
            "text/plain": [
              "<matplotlib.figure.Figure at 0x7f09ba30ed30>"
            ]
          },
          "metadata": {
            "tags": []
          }
        }
      ]
    }
  ]
}