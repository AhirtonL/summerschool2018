{
 "cells": [
  {
   "cell_type": "markdown",
   "metadata": {},
   "source": [
    "# Seq2Seq para tradução inglês - Português"
   ]
  },
  {
   "cell_type": "markdown",
   "metadata": {},
   "source": [
    "Vamos implementar um modelo de seq2seq simples para traduzir texto de inglês para português carácter a carácter"
   ]
  },
  {
   "cell_type": "code",
   "execution_count": 25,
   "metadata": {},
   "outputs": [],
   "source": [
    "from keras.models import Model\n",
    "from keras.layers import Input, CuDNNLSTM, Dense, LSTM\n",
    "import numpy as np\n",
    "\n",
    "latent_dim = 512  #Tamanho do estado h\n",
    "num_samples = 100000  # Numero de amostras a serem usadas\n",
    "\n",
    "\n",
    "#Arquivo com pares inglês-português\n",
    "data_path = 'por.txt'\n"
   ]
  },
  {
   "cell_type": "code",
   "execution_count": 26,
   "metadata": {},
   "outputs": [
    {
     "name": "stdout",
     "output_type": "stream",
     "text": [
      "Número de amostras: 100000\n",
      "Número de tokens unicos de input: 86\n",
      "Number de tokens unicos de output: 111\n",
      "Tamanho máximo de input: 44\n",
      "Tamanho máximo de output: 80\n"
     ]
    }
   ],
   "source": [
    "input_texts = []\n",
    "target_texts = []\n",
    "input_characters = set()\n",
    "target_characters = set()\n",
    "lines = open(data_path, encoding=\"utf8\").read().split('\\n')\n",
    "for line in lines[: min(num_samples, len(lines) - 1)]:\n",
    "    input_text, target_text = line.split('\\t')\n",
    "    # Usaremos um \\t para indicar o inicio de uma frase e \\n para indicar o fim\n",
    "    target_text = '\\t' + target_text + '\\n'\n",
    "    input_texts.append(input_text)\n",
    "    target_texts.append(target_text)\n",
    "    for char in input_text:\n",
    "        if char not in input_characters:\n",
    "            input_characters.add(char)\n",
    "    for char in target_text:\n",
    "        if char not in target_characters:\n",
    "            target_characters.add(char)\n",
    "\n",
    "input_characters = sorted(list(input_characters))\n",
    "target_characters = sorted(list(target_characters))\n",
    "num_encoder_tokens = len(input_characters)\n",
    "num_decoder_tokens = len(target_characters)\n",
    "max_encoder_seq_length = max([len(txt) for txt in input_texts])\n",
    "max_decoder_seq_length = max([len(txt) for txt in target_texts])\n",
    "\n",
    "print('Número de amostras:', len(input_texts))\n",
    "print('Número de tokens unicos de input:', num_encoder_tokens)\n",
    "print('Number de tokens unicos de output:', num_decoder_tokens)\n",
    "print('Tamanho máximo de input:', max_encoder_seq_length)\n",
    "print('Tamanho máximo de output:', max_decoder_seq_length)\n",
    "\n",
    "#input_texts = input_texts[:5000]\n",
    "#target_texts = target_texts[:5000]\n",
    "\n",
    "#cria dicionário de tokens\n",
    "input_token_index = dict(\n",
    "    [(char, i) for i, char in enumerate(input_characters)])\n",
    "target_token_index = dict(\n",
    "    [(char, i) for i, char in enumerate(target_characters)])\n",
    "\n",
    "#cria arrays de 0 para fazer o padding\n",
    "encoder_input_data = np.zeros(\n",
    "    (len(input_texts), max_encoder_seq_length, num_encoder_tokens),\n",
    "    dtype='float32')\n",
    "decoder_input_data = np.zeros(\n",
    "    (len(input_texts), max_decoder_seq_length, num_decoder_tokens),\n",
    "    dtype='float32')\n",
    "decoder_target_data = np.zeros(\n",
    "    (len(input_texts), max_decoder_seq_length, num_decoder_tokens),\n",
    "    dtype='float32')\n",
    "\n",
    "#preenche os arrays com os caracteres\n",
    "for i, (input_text, target_text) in enumerate(zip(input_texts, target_texts)):\n",
    "    for t, char in enumerate(input_text):\n",
    "        encoder_input_data[i, t, input_token_index[char]] = 1.\n",
    "    for t, char in enumerate(target_text):\n",
    "        # decoder_target_data é a saída esperada do decoder, então deve estar um tempo a frente e não incluir o \\t\n",
    "        decoder_input_data[i, t, target_token_index[char]] = 1.\n",
    "        if t > 0:\n",
    "            decoder_target_data[i, t - 1, target_token_index[char]] = 1."
   ]
  },
  {
   "cell_type": "markdown",
   "metadata": {},
   "source": [
    "## Seq2Seq"
   ]
  },
  {
   "cell_type": "markdown",
   "metadata": {},
   "source": [
    "Aqui criamos um modelo Seq2Seq simples com uma camada de LSTM como encoder e outra como decoder.\n",
    "\n",
    "O encoder retorna seus estados que serão a inicialização do decoder"
   ]
  },
  {
   "cell_type": "code",
   "execution_count": 27,
   "metadata": {
    "collapsed": true,
    "scrolled": false
   },
   "outputs": [],
   "source": [
    "from keras.models import Sequential, Model\n",
    "\n",
    "\n",
    "encoder_inputs = Input(shape=(None, num_encoder_tokens))\n",
    "\n",
    "#Encoder\n",
    "encoder = LSTM(latent_dim, return_state=True)\n",
    "\n",
    "#pega saida do encoder\n",
    "encoder_outputs, state_h, state_c = encoder(encoder_inputs)\n",
    "encoder_states = [state_h, state_c]\n",
    "\n",
    "\n",
    "decoder_inputs = Input(shape=(None, num_decoder_tokens))\n",
    "\n",
    "#Decoder\n",
    "decoder_lstm = LSTM(latent_dim, return_sequences=True, return_state=True)\n",
    "\n",
    "#pega saída do decoder\n",
    "decoder_outputs, _, _ = decoder_lstm(decoder_inputs,\n",
    "                                     initial_state=encoder_states)\n",
    "\n",
    "#camada Dense com softmax do tamanho do vocabulario para definir qual o carácter de saída\n",
    "decoder_dense = Dense(num_decoder_tokens, activation='softmax')\n",
    "\n",
    "decoder_outputs = decoder_dense(decoder_outputs)\n",
    "\n",
    "#O modelo para o treino tem como entrada o input a ser codificado e o input do Force Teaching do decoder\n",
    "model = Model([encoder_inputs, decoder_inputs], decoder_outputs)"
   ]
  },
  {
   "cell_type": "code",
   "execution_count": 28,
   "metadata": {
    "scrolled": true
   },
   "outputs": [
    {
     "name": "stdout",
     "output_type": "stream",
     "text": [
      "__________________________________________________________________________________________________\n",
      "Layer (type)                    Output Shape         Param #     Connected to                     \n",
      "==================================================================================================\n",
      "input_7 (InputLayer)            (None, None, 86)     0                                            \n",
      "__________________________________________________________________________________________________\n",
      "input_8 (InputLayer)            (None, None, 111)    0                                            \n",
      "__________________________________________________________________________________________________\n",
      "lstm_5 (LSTM)                   [(None, 512), (None, 1226752     input_7[0][0]                    \n",
      "__________________________________________________________________________________________________\n",
      "lstm_6 (LSTM)                   [(None, None, 512),  1277952     input_8[0][0]                    \n",
      "                                                                 lstm_5[0][1]                     \n",
      "                                                                 lstm_5[0][2]                     \n",
      "__________________________________________________________________________________________________\n",
      "dense_3 (Dense)                 (None, None, 111)    56943       lstm_6[0][0]                     \n",
      "==================================================================================================\n",
      "Total params: 2,561,647\n",
      "Trainable params: 2,561,647\n",
      "Non-trainable params: 0\n",
      "__________________________________________________________________________________________________\n"
     ]
    }
   ],
   "source": [
    "model.summary()\n",
    "\n",
    "#Pesos do treino já executado\n",
    "model.load_weights('s2s_Samsung_carac.h5')"
   ]
  },
  {
   "cell_type": "code",
   "execution_count": 5,
   "metadata": {
    "scrolled": true
   },
   "outputs": [
    {
     "name": "stdout",
     "output_type": "stream",
     "text": [
      "Train on 79200 samples, validate on 800 samples\n",
      "Epoch 1/100\n",
      "79200/79200 [==============================] - 330s 4ms/step - loss: 0.5017 - val_loss: 0.5612\n",
      "Epoch 2/100\n",
      "79200/79200 [==============================] - 326s 4ms/step - loss: 0.3033 - val_loss: 0.4732\n",
      "Epoch 3/100\n",
      "79200/79200 [==============================] - 325s 4ms/step - loss: 0.2535 - val_loss: 0.4332\n",
      "Epoch 4/100\n",
      "79200/79200 [==============================] - 325s 4ms/step - loss: 0.2221 - val_loss: 0.4268\n",
      "Epoch 5/100\n",
      "79200/79200 [==============================] - 330s 4ms/step - loss: 0.1991 - val_loss: 0.4243\n",
      "Epoch 6/100\n",
      "79200/79200 [==============================] - 328s 4ms/step - loss: 0.1809 - val_loss: 0.4218\n",
      "Epoch 7/100\n",
      "79200/79200 [==============================] - 320s 4ms/step - loss: 0.1660 - val_loss: 0.4301\n",
      "Epoch 8/100\n",
      "79200/79200 [==============================] - 327s 4ms/step - loss: 0.1539 - val_loss: 0.4370\n",
      "Epoch 9/100\n",
      "79200/79200 [==============================] - 323s 4ms/step - loss: 0.1436 - val_loss: 0.4455\n",
      "Epoch 10/100\n",
      "79200/79200 [==============================] - 322s 4ms/step - loss: 0.1347 - val_loss: 0.4512\n",
      "Epoch 11/100\n",
      "79200/79200 [==============================] - 324s 4ms/step - loss: 0.1267 - val_loss: 0.4559\n",
      "Epoch 12/100\n",
      "79200/79200 [==============================] - 327s 4ms/step - loss: 0.1196 - val_loss: 0.4642\n",
      "Epoch 13/100\n",
      "79200/79200 [==============================] - 319s 4ms/step - loss: 0.1132 - val_loss: 0.4708\n",
      "Epoch 14/100\n",
      "79200/79200 [==============================] - 324s 4ms/step - loss: 0.1072 - val_loss: 0.4707\n",
      "Epoch 15/100\n",
      "79200/79200 [==============================] - 324s 4ms/step - loss: 0.1018 - val_loss: 0.4817\n",
      "Epoch 16/100\n",
      "79200/79200 [==============================] - 317s 4ms/step - loss: 0.0969 - val_loss: 0.4856\n",
      "Epoch 17/100\n",
      "79200/79200 [==============================] - 320s 4ms/step - loss: 0.0925 - val_loss: 0.4888\n",
      "Epoch 18/100\n",
      "79200/79200 [==============================] - 322s 4ms/step - loss: 0.0879 - val_loss: 0.4985\n",
      "Epoch 19/100\n",
      "79200/79200 [==============================] - 315s 4ms/step - loss: 0.0840 - val_loss: 0.4997\n",
      "Epoch 20/100\n",
      "79200/79200 [==============================] - 318s 4ms/step - loss: 0.0801 - val_loss: 0.5002\n",
      "Epoch 21/100\n",
      "79200/79200 [==============================] - 325s 4ms/step - loss: 0.0766 - val_loss: 0.5080\n",
      "Epoch 22/100\n",
      "79200/79200 [==============================] - 322s 4ms/step - loss: 0.0730 - val_loss: 0.5128\n",
      "Epoch 23/100\n",
      "79200/79200 [==============================] - 326s 4ms/step - loss: 0.0700 - val_loss: 0.5173\n",
      "Epoch 24/100\n",
      "79200/79200 [==============================] - 325s 4ms/step - loss: 0.0668 - val_loss: 0.5243\n",
      "Epoch 25/100\n",
      "79200/79200 [==============================] - 318s 4ms/step - loss: 0.0640 - val_loss: 0.5204\n",
      "Epoch 26/100\n",
      "79200/79200 [==============================] - 317s 4ms/step - loss: 0.0616 - val_loss: 0.5270\n",
      "Epoch 27/100\n",
      "79200/79200 [==============================] - 318s 4ms/step - loss: 0.0588 - val_loss: 0.5382\n",
      "Epoch 28/100\n",
      "79200/79200 [==============================] - 317s 4ms/step - loss: 0.0565 - val_loss: 0.5380\n",
      "Epoch 29/100\n",
      "79200/79200 [==============================] - 321s 4ms/step - loss: 0.0542 - val_loss: 0.5461\n",
      "Epoch 30/100\n",
      "79200/79200 [==============================] - 323s 4ms/step - loss: 0.0522 - val_loss: 0.5514\n",
      "Epoch 31/100\n",
      "79200/79200 [==============================] - 318s 4ms/step - loss: 0.0503 - val_loss: 0.5543\n",
      "Epoch 32/100\n",
      "79200/79200 [==============================] - 318s 4ms/step - loss: 0.0484 - val_loss: 0.5543\n",
      "Epoch 33/100\n",
      "79200/79200 [==============================] - 319s 4ms/step - loss: 0.0467 - val_loss: 0.5527\n",
      "Epoch 34/100\n",
      "79200/79200 [==============================] - 318s 4ms/step - loss: 0.0448 - val_loss: 0.5593\n",
      "Epoch 35/100\n",
      "79200/79200 [==============================] - 323s 4ms/step - loss: 0.0435 - val_loss: 0.5520\n",
      "Epoch 36/100\n",
      "79200/79200 [==============================] - 323s 4ms/step - loss: 0.0420 - val_loss: 0.5662\n",
      "Epoch 37/100\n",
      "79200/79200 [==============================] - 325s 4ms/step - loss: 0.0406 - val_loss: 0.5695\n",
      "Epoch 38/100\n",
      "79200/79200 [==============================] - 331s 4ms/step - loss: 0.0395 - val_loss: 0.5615\n",
      "Epoch 39/100\n",
      "79200/79200 [==============================] - 324s 4ms/step - loss: 0.0383 - val_loss: 0.5648\n",
      "Epoch 40/100\n",
      "79200/79200 [==============================] - 325s 4ms/step - loss: 0.0372 - val_loss: 0.5685\n",
      "Epoch 41/100\n",
      "79200/79200 [==============================] - 324s 4ms/step - loss: 0.0360 - val_loss: 0.5713\n",
      "Epoch 42/100\n",
      "79200/79200 [==============================] - 325s 4ms/step - loss: 0.0351 - val_loss: 0.5879\n",
      "Epoch 43/100\n",
      "79200/79200 [==============================] - 325s 4ms/step - loss: 0.0342 - val_loss: 0.5766\n",
      "Epoch 44/100\n",
      "79200/79200 [==============================] - 321s 4ms/step - loss: 0.0333 - val_loss: 0.5760\n",
      "Epoch 45/100\n",
      "79200/79200 [==============================] - 322s 4ms/step - loss: 0.0325 - val_loss: 0.5878\n",
      "Epoch 46/100\n",
      "79200/79200 [==============================] - 325s 4ms/step - loss: 0.0317 - val_loss: 0.5858\n",
      "Epoch 47/100\n",
      "79200/79200 [==============================] - 321s 4ms/step - loss: 0.0308 - val_loss: 0.5900\n",
      "Epoch 48/100\n",
      "79200/79200 [==============================] - 322s 4ms/step - loss: 0.0303 - val_loss: 0.5898\n",
      "Epoch 49/100\n",
      "79200/79200 [==============================] - 325s 4ms/step - loss: 0.0295 - val_loss: 0.5898\n",
      "Epoch 50/100\n",
      "79200/79200 [==============================] - 325s 4ms/step - loss: 0.0288 - val_loss: 0.5924\n",
      "Epoch 51/100\n",
      "79200/79200 [==============================] - 325s 4ms/step - loss: 0.0282 - val_loss: 0.5950\n",
      "Epoch 52/100\n",
      "79200/79200 [==============================] - 327s 4ms/step - loss: 0.0277 - val_loss: 0.5969\n",
      "Epoch 53/100\n",
      "79200/79200 [==============================] - 326s 4ms/step - loss: 0.0271 - val_loss: 0.5992\n",
      "Epoch 54/100\n",
      "79200/79200 [==============================] - 326s 4ms/step - loss: 0.0267 - val_loss: 0.6026\n",
      "Epoch 55/100\n",
      "79200/79200 [==============================] - 322s 4ms/step - loss: 0.0262 - val_loss: 0.5988\n",
      "Epoch 56/100\n",
      "79200/79200 [==============================] - 324s 4ms/step - loss: 0.0257 - val_loss: 0.6004\n",
      "Epoch 57/100\n",
      "79200/79200 [==============================] - 323s 4ms/step - loss: 0.0252 - val_loss: 0.6025\n",
      "Epoch 58/100\n",
      "79200/79200 [==============================] - 322s 4ms/step - loss: 0.0247 - val_loss: 0.6044\n",
      "Epoch 59/100\n",
      "79200/79200 [==============================] - 321s 4ms/step - loss: 0.0243 - val_loss: 0.5984\n",
      "Epoch 60/100\n",
      "79200/79200 [==============================] - 324s 4ms/step - loss: 0.0239 - val_loss: 0.6104\n",
      "Epoch 61/100\n",
      "79200/79200 [==============================] - 321s 4ms/step - loss: 0.0235 - val_loss: 0.6040\n",
      "Epoch 62/100\n",
      "79200/79200 [==============================] - 321s 4ms/step - loss: 0.0231 - val_loss: 0.6026\n",
      "Epoch 63/100\n",
      "79200/79200 [==============================] - 321s 4ms/step - loss: 0.0228 - val_loss: 0.6005\n",
      "Epoch 64/100\n",
      "79200/79200 [==============================] - 322s 4ms/step - loss: 0.0225 - val_loss: 0.6035\n",
      "Epoch 65/100\n",
      "79200/79200 [==============================] - 321s 4ms/step - loss: 0.0221 - val_loss: 0.6151\n",
      "Epoch 66/100\n",
      "79200/79200 [==============================] - 325s 4ms/step - loss: 0.0218 - val_loss: 0.6097\n",
      "Epoch 67/100\n",
      "79200/79200 [==============================] - 326s 4ms/step - loss: 0.0214 - val_loss: 0.6163\n",
      "Epoch 68/100\n",
      "79200/79200 [==============================] - 324s 4ms/step - loss: 0.0212 - val_loss: 0.6124\n",
      "Epoch 69/100\n",
      "79200/79200 [==============================] - 325s 4ms/step - loss: 0.0210 - val_loss: 0.5993\n",
      "Epoch 70/100\n",
      "79200/79200 [==============================] - 324s 4ms/step - loss: 0.0207 - val_loss: 0.6108\n",
      "Epoch 71/100\n",
      "79200/79200 [==============================] - 324s 4ms/step - loss: 0.0203 - val_loss: 0.6103\n",
      "Epoch 72/100\n",
      "79200/79200 [==============================] - 325s 4ms/step - loss: 0.0201 - val_loss: 0.6172\n",
      "Epoch 73/100\n",
      "65792/79200 [=======================>......] - ETA: 54s - loss: 0.0193"
     ]
    },
    {
     "ename": "KeyboardInterrupt",
     "evalue": "",
     "output_type": "error",
     "traceback": [
      "\u001b[1;31m---------------------------------------------------------------------------\u001b[0m",
      "\u001b[1;31mKeyboardInterrupt\u001b[0m                         Traceback (most recent call last)",
      "\u001b[1;32m<ipython-input-5-1cb3d686c30a>\u001b[0m in \u001b[0;36m<module>\u001b[1;34m()\u001b[0m\n\u001b[0;32m      9\u001b[0m           \u001b[0mbatch_size\u001b[0m\u001b[1;33m=\u001b[0m\u001b[0mbatch_size\u001b[0m\u001b[1;33m,\u001b[0m\u001b[1;33m\u001b[0m\u001b[0m\n\u001b[0;32m     10\u001b[0m           \u001b[0mepochs\u001b[0m\u001b[1;33m=\u001b[0m\u001b[0mepochs\u001b[0m\u001b[1;33m,\u001b[0m \u001b[0mshuffle\u001b[0m\u001b[1;33m=\u001b[0m\u001b[1;32mTrue\u001b[0m\u001b[1;33m,\u001b[0m \u001b[1;31m#Sem shuffle para não misturar frases de tamanhos diferentes\u001b[0m\u001b[1;33m\u001b[0m\u001b[0m\n\u001b[1;32m---> 11\u001b[1;33m           validation_split=0.01, verbose = 1)\n\u001b[0m",
      "\u001b[1;32m~\\Anaconda3\\lib\\site-packages\\keras\\engine\\training.py\u001b[0m in \u001b[0;36mfit\u001b[1;34m(self, x, y, batch_size, epochs, verbose, callbacks, validation_split, validation_data, shuffle, class_weight, sample_weight, initial_epoch, steps_per_epoch, validation_steps, **kwargs)\u001b[0m\n\u001b[0;32m   1655\u001b[0m                               \u001b[0minitial_epoch\u001b[0m\u001b[1;33m=\u001b[0m\u001b[0minitial_epoch\u001b[0m\u001b[1;33m,\u001b[0m\u001b[1;33m\u001b[0m\u001b[0m\n\u001b[0;32m   1656\u001b[0m                               \u001b[0msteps_per_epoch\u001b[0m\u001b[1;33m=\u001b[0m\u001b[0msteps_per_epoch\u001b[0m\u001b[1;33m,\u001b[0m\u001b[1;33m\u001b[0m\u001b[0m\n\u001b[1;32m-> 1657\u001b[1;33m                               validation_steps=validation_steps)\n\u001b[0m\u001b[0;32m   1658\u001b[0m \u001b[1;33m\u001b[0m\u001b[0m\n\u001b[0;32m   1659\u001b[0m     def evaluate(self, x=None, y=None,\n",
      "\u001b[1;32m~\\Anaconda3\\lib\\site-packages\\keras\\engine\\training.py\u001b[0m in \u001b[0;36m_fit_loop\u001b[1;34m(self, f, ins, out_labels, batch_size, epochs, verbose, callbacks, val_f, val_ins, shuffle, callback_metrics, initial_epoch, steps_per_epoch, validation_steps)\u001b[0m\n\u001b[0;32m   1211\u001b[0m                     \u001b[0mbatch_logs\u001b[0m\u001b[1;33m[\u001b[0m\u001b[1;34m'size'\u001b[0m\u001b[1;33m]\u001b[0m \u001b[1;33m=\u001b[0m \u001b[0mlen\u001b[0m\u001b[1;33m(\u001b[0m\u001b[0mbatch_ids\u001b[0m\u001b[1;33m)\u001b[0m\u001b[1;33m\u001b[0m\u001b[0m\n\u001b[0;32m   1212\u001b[0m                     \u001b[0mcallbacks\u001b[0m\u001b[1;33m.\u001b[0m\u001b[0mon_batch_begin\u001b[0m\u001b[1;33m(\u001b[0m\u001b[0mbatch_index\u001b[0m\u001b[1;33m,\u001b[0m \u001b[0mbatch_logs\u001b[0m\u001b[1;33m)\u001b[0m\u001b[1;33m\u001b[0m\u001b[0m\n\u001b[1;32m-> 1213\u001b[1;33m                     \u001b[0mouts\u001b[0m \u001b[1;33m=\u001b[0m \u001b[0mf\u001b[0m\u001b[1;33m(\u001b[0m\u001b[0mins_batch\u001b[0m\u001b[1;33m)\u001b[0m\u001b[1;33m\u001b[0m\u001b[0m\n\u001b[0m\u001b[0;32m   1214\u001b[0m                     \u001b[1;32mif\u001b[0m \u001b[1;32mnot\u001b[0m \u001b[0misinstance\u001b[0m\u001b[1;33m(\u001b[0m\u001b[0mouts\u001b[0m\u001b[1;33m,\u001b[0m \u001b[0mlist\u001b[0m\u001b[1;33m)\u001b[0m\u001b[1;33m:\u001b[0m\u001b[1;33m\u001b[0m\u001b[0m\n\u001b[0;32m   1215\u001b[0m                         \u001b[0mouts\u001b[0m \u001b[1;33m=\u001b[0m \u001b[1;33m[\u001b[0m\u001b[0mouts\u001b[0m\u001b[1;33m]\u001b[0m\u001b[1;33m\u001b[0m\u001b[0m\n",
      "\u001b[1;32m~\\Anaconda3\\lib\\site-packages\\keras\\backend\\tensorflow_backend.py\u001b[0m in \u001b[0;36m__call__\u001b[1;34m(self, inputs)\u001b[0m\n\u001b[0;32m   2355\u001b[0m         \u001b[0msession\u001b[0m \u001b[1;33m=\u001b[0m \u001b[0mget_session\u001b[0m\u001b[1;33m(\u001b[0m\u001b[1;33m)\u001b[0m\u001b[1;33m\u001b[0m\u001b[0m\n\u001b[0;32m   2356\u001b[0m         updated = session.run(fetches=fetches, feed_dict=feed_dict,\n\u001b[1;32m-> 2357\u001b[1;33m                               **self.session_kwargs)\n\u001b[0m\u001b[0;32m   2358\u001b[0m         \u001b[1;32mreturn\u001b[0m \u001b[0mupdated\u001b[0m\u001b[1;33m[\u001b[0m\u001b[1;33m:\u001b[0m\u001b[0mlen\u001b[0m\u001b[1;33m(\u001b[0m\u001b[0mself\u001b[0m\u001b[1;33m.\u001b[0m\u001b[0moutputs\u001b[0m\u001b[1;33m)\u001b[0m\u001b[1;33m]\u001b[0m\u001b[1;33m\u001b[0m\u001b[0m\n\u001b[0;32m   2359\u001b[0m \u001b[1;33m\u001b[0m\u001b[0m\n",
      "\u001b[1;32m~\\Anaconda3\\lib\\site-packages\\tensorflow\\python\\client\\session.py\u001b[0m in \u001b[0;36mrun\u001b[1;34m(self, fetches, feed_dict, options, run_metadata)\u001b[0m\n\u001b[0;32m    887\u001b[0m     \u001b[1;32mtry\u001b[0m\u001b[1;33m:\u001b[0m\u001b[1;33m\u001b[0m\u001b[0m\n\u001b[0;32m    888\u001b[0m       result = self._run(None, fetches, feed_dict, options_ptr,\n\u001b[1;32m--> 889\u001b[1;33m                          run_metadata_ptr)\n\u001b[0m\u001b[0;32m    890\u001b[0m       \u001b[1;32mif\u001b[0m \u001b[0mrun_metadata\u001b[0m\u001b[1;33m:\u001b[0m\u001b[1;33m\u001b[0m\u001b[0m\n\u001b[0;32m    891\u001b[0m         \u001b[0mproto_data\u001b[0m \u001b[1;33m=\u001b[0m \u001b[0mtf_session\u001b[0m\u001b[1;33m.\u001b[0m\u001b[0mTF_GetBuffer\u001b[0m\u001b[1;33m(\u001b[0m\u001b[0mrun_metadata_ptr\u001b[0m\u001b[1;33m)\u001b[0m\u001b[1;33m\u001b[0m\u001b[0m\n",
      "\u001b[1;32m~\\Anaconda3\\lib\\site-packages\\tensorflow\\python\\client\\session.py\u001b[0m in \u001b[0;36m_run\u001b[1;34m(self, handle, fetches, feed_dict, options, run_metadata)\u001b[0m\n\u001b[0;32m   1118\u001b[0m     \u001b[1;32mif\u001b[0m \u001b[0mfinal_fetches\u001b[0m \u001b[1;32mor\u001b[0m \u001b[0mfinal_targets\u001b[0m \u001b[1;32mor\u001b[0m \u001b[1;33m(\u001b[0m\u001b[0mhandle\u001b[0m \u001b[1;32mand\u001b[0m \u001b[0mfeed_dict_tensor\u001b[0m\u001b[1;33m)\u001b[0m\u001b[1;33m:\u001b[0m\u001b[1;33m\u001b[0m\u001b[0m\n\u001b[0;32m   1119\u001b[0m       results = self._do_run(handle, final_targets, final_fetches,\n\u001b[1;32m-> 1120\u001b[1;33m                              feed_dict_tensor, options, run_metadata)\n\u001b[0m\u001b[0;32m   1121\u001b[0m     \u001b[1;32melse\u001b[0m\u001b[1;33m:\u001b[0m\u001b[1;33m\u001b[0m\u001b[0m\n\u001b[0;32m   1122\u001b[0m       \u001b[0mresults\u001b[0m \u001b[1;33m=\u001b[0m \u001b[1;33m[\u001b[0m\u001b[1;33m]\u001b[0m\u001b[1;33m\u001b[0m\u001b[0m\n",
      "\u001b[1;32m~\\Anaconda3\\lib\\site-packages\\tensorflow\\python\\client\\session.py\u001b[0m in \u001b[0;36m_do_run\u001b[1;34m(self, handle, target_list, fetch_list, feed_dict, options, run_metadata)\u001b[0m\n\u001b[0;32m   1315\u001b[0m     \u001b[1;32mif\u001b[0m \u001b[0mhandle\u001b[0m \u001b[1;32mis\u001b[0m \u001b[1;32mNone\u001b[0m\u001b[1;33m:\u001b[0m\u001b[1;33m\u001b[0m\u001b[0m\n\u001b[0;32m   1316\u001b[0m       return self._do_call(_run_fn, self._session, feeds, fetches, targets,\n\u001b[1;32m-> 1317\u001b[1;33m                            options, run_metadata)\n\u001b[0m\u001b[0;32m   1318\u001b[0m     \u001b[1;32melse\u001b[0m\u001b[1;33m:\u001b[0m\u001b[1;33m\u001b[0m\u001b[0m\n\u001b[0;32m   1319\u001b[0m       \u001b[1;32mreturn\u001b[0m \u001b[0mself\u001b[0m\u001b[1;33m.\u001b[0m\u001b[0m_do_call\u001b[0m\u001b[1;33m(\u001b[0m\u001b[0m_prun_fn\u001b[0m\u001b[1;33m,\u001b[0m \u001b[0mself\u001b[0m\u001b[1;33m.\u001b[0m\u001b[0m_session\u001b[0m\u001b[1;33m,\u001b[0m \u001b[0mhandle\u001b[0m\u001b[1;33m,\u001b[0m \u001b[0mfeeds\u001b[0m\u001b[1;33m,\u001b[0m \u001b[0mfetches\u001b[0m\u001b[1;33m)\u001b[0m\u001b[1;33m\u001b[0m\u001b[0m\n",
      "\u001b[1;32m~\\Anaconda3\\lib\\site-packages\\tensorflow\\python\\client\\session.py\u001b[0m in \u001b[0;36m_do_call\u001b[1;34m(self, fn, *args)\u001b[0m\n\u001b[0;32m   1321\u001b[0m   \u001b[1;32mdef\u001b[0m \u001b[0m_do_call\u001b[0m\u001b[1;33m(\u001b[0m\u001b[0mself\u001b[0m\u001b[1;33m,\u001b[0m \u001b[0mfn\u001b[0m\u001b[1;33m,\u001b[0m \u001b[1;33m*\u001b[0m\u001b[0margs\u001b[0m\u001b[1;33m)\u001b[0m\u001b[1;33m:\u001b[0m\u001b[1;33m\u001b[0m\u001b[0m\n\u001b[0;32m   1322\u001b[0m     \u001b[1;32mtry\u001b[0m\u001b[1;33m:\u001b[0m\u001b[1;33m\u001b[0m\u001b[0m\n\u001b[1;32m-> 1323\u001b[1;33m       \u001b[1;32mreturn\u001b[0m \u001b[0mfn\u001b[0m\u001b[1;33m(\u001b[0m\u001b[1;33m*\u001b[0m\u001b[0margs\u001b[0m\u001b[1;33m)\u001b[0m\u001b[1;33m\u001b[0m\u001b[0m\n\u001b[0m\u001b[0;32m   1324\u001b[0m     \u001b[1;32mexcept\u001b[0m \u001b[0merrors\u001b[0m\u001b[1;33m.\u001b[0m\u001b[0mOpError\u001b[0m \u001b[1;32mas\u001b[0m \u001b[0me\u001b[0m\u001b[1;33m:\u001b[0m\u001b[1;33m\u001b[0m\u001b[0m\n\u001b[0;32m   1325\u001b[0m       \u001b[0mmessage\u001b[0m \u001b[1;33m=\u001b[0m \u001b[0mcompat\u001b[0m\u001b[1;33m.\u001b[0m\u001b[0mas_text\u001b[0m\u001b[1;33m(\u001b[0m\u001b[0me\u001b[0m\u001b[1;33m.\u001b[0m\u001b[0mmessage\u001b[0m\u001b[1;33m)\u001b[0m\u001b[1;33m\u001b[0m\u001b[0m\n",
      "\u001b[1;32m~\\Anaconda3\\lib\\site-packages\\tensorflow\\python\\client\\session.py\u001b[0m in \u001b[0;36m_run_fn\u001b[1;34m(session, feed_dict, fetch_list, target_list, options, run_metadata)\u001b[0m\n\u001b[0;32m   1300\u001b[0m           return tf_session.TF_Run(session, options,\n\u001b[0;32m   1301\u001b[0m                                    \u001b[0mfeed_dict\u001b[0m\u001b[1;33m,\u001b[0m \u001b[0mfetch_list\u001b[0m\u001b[1;33m,\u001b[0m \u001b[0mtarget_list\u001b[0m\u001b[1;33m,\u001b[0m\u001b[1;33m\u001b[0m\u001b[0m\n\u001b[1;32m-> 1302\u001b[1;33m                                    status, run_metadata)\n\u001b[0m\u001b[0;32m   1303\u001b[0m \u001b[1;33m\u001b[0m\u001b[0m\n\u001b[0;32m   1304\u001b[0m     \u001b[1;32mdef\u001b[0m \u001b[0m_prun_fn\u001b[0m\u001b[1;33m(\u001b[0m\u001b[0msession\u001b[0m\u001b[1;33m,\u001b[0m \u001b[0mhandle\u001b[0m\u001b[1;33m,\u001b[0m \u001b[0mfeed_dict\u001b[0m\u001b[1;33m,\u001b[0m \u001b[0mfetch_list\u001b[0m\u001b[1;33m)\u001b[0m\u001b[1;33m:\u001b[0m\u001b[1;33m\u001b[0m\u001b[0m\n",
      "\u001b[1;31mKeyboardInterrupt\u001b[0m: "
     ]
    }
   ],
   "source": [
    "from keras.callbacks import ModelCheckpoint\n",
    "batch_size = 32  # Batch pequeno\n",
    "epochs = 100\n",
    "\n",
    "\n",
    "# Executa o treino\n",
    "model.compile(optimizer='rmsprop', loss='categorical_crossentropy')\n",
    "model.fit([encoder_input_data, decoder_input_data], decoder_target_data,\n",
    "          batch_size=batch_size,\n",
    "          epochs=epochs, shuffle=True, #Sem shuffle para não misturar frases de tamanhos diferentes\n",
    "          validation_split=0.01, verbose = 1)"
   ]
  },
  {
   "cell_type": "code",
   "execution_count": 19,
   "metadata": {
    "collapsed": true
   },
   "outputs": [],
   "source": [
    "model.save_weights('seq2seq_weights.h5')"
   ]
  },
  {
   "cell_type": "markdown",
   "metadata": {},
   "source": [
    "Aqui vamos criar o modelo para executar testes\n",
    "\n",
    "A principal diferença é que no treino temos o force teaching e no teste iremos usar a real saída do decoder como input"
   ]
  },
  {
   "cell_type": "code",
   "execution_count": 29,
   "metadata": {
    "collapsed": true
   },
   "outputs": [],
   "source": [
    "#Modelo do Encoder\n",
    "encoder_model = Model(encoder_inputs, encoder_states)\n",
    "\n",
    "\n",
    "#Inputs para o decoder\n",
    "decoder_state_input_h = Input(shape=(latent_dim,))\n",
    "decoder_state_input_c = Input(shape=(latent_dim,))\n",
    "decoder_states_inputs = [decoder_state_input_h, decoder_state_input_c]\n",
    "\n",
    "#Reutiliza a LSTM treinada anteriormente com entradas novas\n",
    "decoder_outputs, state_h, state_c = decoder_lstm(\n",
    "    decoder_inputs, initial_state=decoder_states_inputs)\n",
    "\n",
    "decoder_states = [state_h, state_c]\n",
    "decoder_outputs = decoder_dense(decoder_outputs)\n",
    "\n",
    "#Agora nosso modelo possui como entrada os estados que irão ser gerados pelo encoder\n",
    "#e o output do decoder gerado pelos tempos anteriores\n",
    "\n",
    "#Como saída temos também os estados para garantir que no próximo tempo o Decoder continue de onde parou\n",
    "decoder_model = Model(\n",
    "    [decoder_inputs] + decoder_states_inputs,\n",
    "    [decoder_outputs] + decoder_states)\n",
    "\n",
    "\n",
    "#Cria dicionário de tokens inverso para decodificar a saída\n",
    "reverse_input_char_index = dict(\n",
    "    (i, char) for char, i in input_token_index.items())\n",
    "reverse_target_char_index = dict(\n",
    "    (i, char) for char, i in target_token_index.items())\n"
   ]
  },
  {
   "cell_type": "markdown",
   "metadata": {},
   "source": [
    "A função abaixo irá fazer a geração de saída do decoder, pegando uma saída por vez e realimentando o Decoder"
   ]
  },
  {
   "cell_type": "code",
   "execution_count": 30,
   "metadata": {
    "scrolled": false
   },
   "outputs": [
    {
     "name": "stdout",
     "output_type": "stream",
     "text": [
      "-\n",
      "Input: Go.\n",
      "Output: Vá.\n",
      "\n",
      "-\n",
      "Input: Go.\n",
      "Output: Vá.\n",
      "\n",
      "-\n",
      "Input: Hi.\n",
      "Output: Oi!\n",
      "\n",
      "-\n",
      "Input: Run!\n",
      "Output: Corra!\n",
      "\n",
      "-\n",
      "Input: Run!\n",
      "Output: Corra!\n",
      "\n"
     ]
    }
   ],
   "source": [
    "def decode_sequence(input_seq):\n",
    "    # Aplica as entradas no encoder para pegar seus estados (sua memória)\n",
    "    states_value = encoder_model.predict(input_seq)\n",
    "\n",
    "    # Gera um vetor de entrada falso para o decoder\n",
    "    target_seq = np.zeros((1, 1, num_decoder_tokens))\n",
    "    # coloca o \\t na primeira posição do vetor indicando para o decoder que deve iniciar a gerar texto\n",
    "    target_seq[0, 0, target_token_index['\\t']] = 1.\n",
    "\n",
    "    # Faz o loop gerando saídas do Decoder\n",
    "    stop_condition = False\n",
    "    decoded_sentence = ''\n",
    "    while not stop_condition:\n",
    "        output_tokens, h, c = decoder_model.predict(\n",
    "            [target_seq] + states_value)\n",
    "        \n",
    "        # Pega o token de saída\n",
    "        sampled_token_index = np.argmax(output_tokens[0, -1, :])\n",
    "        # Traduz para texto\n",
    "        sampled_char = reverse_target_char_index[sampled_token_index]\n",
    "        # Adiciona à string de resposta\n",
    "        decoded_sentence += sampled_char\n",
    "\n",
    "        # Se a saída for \\n ou tiver atingido o tamanho máximo, para o loop\n",
    "        if (sampled_char == '\\n' or\n",
    "           len(decoded_sentence) > max_decoder_seq_length):\n",
    "            stop_condition = True\n",
    "\n",
    "        # Recria o input do decoder com a última saída\n",
    "        target_seq = np.zeros((1, 1, num_decoder_tokens))\n",
    "        target_seq[0, 0, sampled_token_index] = 1.\n",
    "\n",
    "        states_value = [h, c]\n",
    "\n",
    "    return decoded_sentence\n",
    "\n",
    "\n",
    "for seq_index in range(5):\n",
    "    # Aqui testamos as primeiras 5 entradas do dataset\n",
    "    input_seq = encoder_input_data[seq_index: seq_index + 1]\n",
    "    decoded_sentence = decode_sequence(input_seq)\n",
    "    print('-')\n",
    "    print('Input:', input_texts[seq_index])\n",
    "    print('Output:', decoded_sentence)"
   ]
  },
  {
   "cell_type": "code",
   "execution_count": 31,
   "metadata": {
    "collapsed": true
   },
   "outputs": [],
   "source": [
    "def teste(teste):\n",
    "    texto_seq = np.zeros((1,max_encoder_seq_length,num_encoder_tokens))\n",
    "\n",
    "    for t, char in enumerate(teste):\n",
    "        texto_seq[0, t, input_token_index[char]] = 1.\n",
    "    \n",
    "    decoded_sentence = decode_sequence(texto_seq)\n",
    "    print('-')\n",
    "    print('Input:', teste)\n",
    "    print('Output:', decoded_sentence)"
   ]
  },
  {
   "cell_type": "code",
   "execution_count": 32,
   "metadata": {},
   "outputs": [
    {
     "name": "stdout",
     "output_type": "stream",
     "text": [
      "-\n",
      "Input: You'll do it now!\n",
      "Output: Você vai fazer isso agora.\n",
      "\n"
     ]
    }
   ],
   "source": [
    "teste('You\\'ll do it now!')"
   ]
  },
  {
   "cell_type": "code",
   "execution_count": 33,
   "metadata": {},
   "outputs": [
    {
     "name": "stdout",
     "output_type": "stream",
     "text": [
      "-\n",
      "Input: Are you wrong\n",
      "Output: Você está errado?\n",
      "\n"
     ]
    }
   ],
   "source": [
    "teste('Are you wrong')"
   ]
  },
  {
   "cell_type": "code",
   "execution_count": 34,
   "metadata": {},
   "outputs": [
    {
     "name": "stdout",
     "output_type": "stream",
     "text": [
      "-\n",
      "Input: You are wrong\n",
      "Output: Você está errado.\n",
      "\n"
     ]
    }
   ],
   "source": [
    "teste('You are wrong')"
   ]
  },
  {
   "cell_type": "code",
   "execution_count": 35,
   "metadata": {},
   "outputs": [
    {
     "name": "stdout",
     "output_type": "stream",
     "text": [
      "-\n",
      "Input: You don't look happy\n",
      "Output: Você não parece feliz.\n",
      "\n"
     ]
    }
   ],
   "source": [
    "teste('You don\\'t look happy')"
   ]
  },
  {
   "cell_type": "code",
   "execution_count": 36,
   "metadata": {},
   "outputs": [
    {
     "name": "stdout",
     "output_type": "stream",
     "text": [
      "-\n",
      "Input: I hate you all\n",
      "Output: Eu detesto o seu casaco.\n",
      "\n"
     ]
    }
   ],
   "source": [
    "teste('I hate you all')"
   ]
  },
  {
   "cell_type": "code",
   "execution_count": 37,
   "metadata": {},
   "outputs": [
    {
     "name": "stdout",
     "output_type": "stream",
     "text": [
      "-\n",
      "Input: Can you help me?\n",
      "Output: Você pode me ajudar?\n",
      "\n"
     ]
    }
   ],
   "source": [
    "teste('Can you help me?')"
   ]
  },
  {
   "cell_type": "code",
   "execution_count": 38,
   "metadata": {},
   "outputs": [
    {
     "name": "stdout",
     "output_type": "stream",
     "text": [
      "-\n",
      "Input: Cant you bring it?\n",
      "Output: Você pode esperar aqui?\n",
      "\n"
     ]
    }
   ],
   "source": [
    "teste('Cant you bring it?')"
   ]
  },
  {
   "cell_type": "code",
   "execution_count": null,
   "metadata": {
    "collapsed": true
   },
   "outputs": [],
   "source": []
  }
 ],
 "metadata": {
  "kernelspec": {
   "display_name": "Python 3",
   "language": "python",
   "name": "python3"
  },
  "language_info": {
   "codemirror_mode": {
    "name": "ipython",
    "version": 3
   },
   "file_extension": ".py",
   "mimetype": "text/x-python",
   "name": "python",
   "nbconvert_exporter": "python",
   "pygments_lexer": "ipython3",
   "version": "3.5.2"
  }
 },
 "nbformat": 4,
 "nbformat_minor": 2
}
