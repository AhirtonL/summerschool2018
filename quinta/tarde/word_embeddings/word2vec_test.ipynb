{
 "cells": [
  {
   "cell_type": "markdown",
   "metadata": {
    "collapsed": true,
    "deletable": true,
    "editable": true
   },
   "source": [
    "# _Word Embeddings_\n",
    "\n",
    "Neste notebook testaremos o modelo gerado em word2vec_train.ipynb em uma tarefa intrínseca de cálculo semântico."
   ]
  },
  {
   "cell_type": "code",
   "execution_count": 1,
   "metadata": {
    "collapsed": true,
    "deletable": true,
    "editable": true
   },
   "outputs": [],
   "source": [
    "import gensim"
   ]
  },
  {
   "cell_type": "markdown",
   "metadata": {
    "deletable": true,
    "editable": true
   },
   "source": [
    "Caminho onde salvamos o modelo treinado."
   ]
  },
  {
   "cell_type": "code",
   "execution_count": 2,
   "metadata": {
    "collapsed": true,
    "deletable": true,
    "editable": true
   },
   "outputs": [],
   "source": [
    "#import data\n",
    "outp = \"data/wiki.pt-br.word2vec.model\""
   ]
  },
  {
   "cell_type": "markdown",
   "metadata": {
    "deletable": true,
    "editable": true
   },
   "source": [
    "Load do modelo treinado. Trata-se de arquivo .model gerado no momento do .save do notebook anterior."
   ]
  },
  {
   "cell_type": "code",
   "execution_count": 3,
   "metadata": {
    "collapsed": false,
    "deletable": true,
    "editable": true
   },
   "outputs": [],
   "source": [
    "#Load data\n",
    "model = gensim.models.Word2Vec.load(outp)"
   ]
  },
  {
   "cell_type": "markdown",
   "metadata": {
    "deletable": true,
    "editable": true
   },
   "source": [
    "## Inferências\n",
    "\n",
    "A similaridade semântica entre duas palavras pode ser dada pelo cosseno entre seus vetores correspondentes. Em geral, o cosseno é definido como na equação abaixo, onde $\\vec{x}$ e $\\vec{y}$ são os vetores sendo comparados. Esse valor mede a distância entre os diferentes contextos de ocorrência das palavras que estão sendo comparadas.\n",
    "\n",
    "$$ cos(\\vec{x}|\\vec{y}) = \\frac{\\vec{x}.\\vec{y}}{|\\vec{x}||\\vec{y}|} $$\n",
    "\n",
    "* **most_similar**: Calcula a similaridade de cosseno entre uma média simples dos vetores de peso das palavras dadas e os vetores de peso de cada uma."
   ]
  },
  {
   "cell_type": "code",
   "execution_count": 4,
   "metadata": {
    "collapsed": false,
    "deletable": true,
    "editable": true
   },
   "outputs": [
    {
     "name": "stderr",
     "output_type": "stream",
     "text": [
      "/home/jrsilva/anaconda3/lib/python3.6/site-packages/ipykernel/__main__.py:1: DeprecationWarning: Call to deprecated `most_similar` (Method will be removed in 4.0.0, use self.wv.most_similar() instead).\n",
      "  if __name__ == '__main__':\n"
     ]
    },
    {
     "data": {
      "text/plain": [
       "[('rainha', 0.5821511745452881),\n",
       " ('esposa', 0.5478091835975647),\n",
       " ('concubina', 0.5266258716583252),\n",
       " ('infanta', 0.49094831943511963),\n",
       " ('princesa', 0.4851428270339966),\n",
       " ('consorte', 0.48373448848724365),\n",
       " ('filha', 0.4798048734664917),\n",
       " ('madrasta', 0.4665879011154175),\n",
       " ('sobrinha', 0.4624587893486023),\n",
       " ('enteada', 0.4558177590370178)]"
      ]
     },
     "execution_count": 4,
     "metadata": {},
     "output_type": "execute_result"
    }
   ],
   "source": [
    "model.most_similar(positive=['rei', 'mulher'], negative=['homem'])"
   ]
  },
  {
   "cell_type": "code",
   "execution_count": 5,
   "metadata": {
    "collapsed": false,
    "deletable": true,
    "editable": true
   },
   "outputs": [
    {
     "name": "stderr",
     "output_type": "stream",
     "text": [
      "/home/jrsilva/anaconda3/lib/python3.6/site-packages/ipykernel/__main__.py:1: DeprecationWarning: Call to deprecated `most_similar` (Method will be removed in 4.0.0, use self.wv.most_similar() instead).\n",
      "  if __name__ == '__main__':\n"
     ]
    },
    {
     "data": {
      "text/plain": [
       "[('dilma', 0.5265800952911377),\n",
       " ('rousseff', 0.4920840263366699),\n",
       " ('senadora', 0.4617869257926941),\n",
       " ('roussef', 0.44384878873825073),\n",
       " ('fhc', 0.4259178638458252),\n",
       " ('presidenta', 0.42165321111679077),\n",
       " ('empresária', 0.38893139362335205),\n",
       " ('candidatura', 0.38787922263145447),\n",
       " ('ministra', 0.3871602416038513),\n",
       " ('advogada', 0.38004058599472046)]"
      ]
     },
     "execution_count": 5,
     "metadata": {},
     "output_type": "execute_result"
    }
   ],
   "source": [
    "model.most_similar(positive=['lula', 'mulher'], negative=['homem'])"
   ]
  },
  {
   "cell_type": "code",
   "execution_count": 6,
   "metadata": {
    "collapsed": false,
    "deletable": true,
    "editable": true
   },
   "outputs": [
    {
     "name": "stderr",
     "output_type": "stream",
     "text": [
      "/home/jrsilva/anaconda3/lib/python3.6/site-packages/ipykernel/__main__.py:1: DeprecationWarning: Call to deprecated `most_similar` (Method will be removed in 4.0.0, use self.wv.most_similar() instead).\n",
      "  if __name__ == '__main__':\n"
     ]
    },
    {
     "data": {
      "text/plain": [
       "[('advogada', 0.6791993379592896),\n",
       " ('empresária', 0.5427760481834412),\n",
       " ('juíza', 0.5385634899139404),\n",
       " ('esposa', 0.5378620624542236),\n",
       " ('socialite', 0.5245070457458496),\n",
       " ('psicóloga', 0.5214070677757263),\n",
       " ('filha', 0.4980052411556244),\n",
       " ('enfermeira', 0.4956507980823517),\n",
       " ('socióloga', 0.49555760622024536),\n",
       " ('professora', 0.48805177211761475)]"
      ]
     },
     "execution_count": 6,
     "metadata": {},
     "output_type": "execute_result"
    }
   ],
   "source": [
    "model.most_similar(positive=['advogado', 'mulher'], negative=['homem'])"
   ]
  },
  {
   "cell_type": "code",
   "execution_count": 7,
   "metadata": {
    "collapsed": false,
    "deletable": true,
    "editable": true
   },
   "outputs": [
    {
     "name": "stderr",
     "output_type": "stream",
     "text": [
      "/home/jrsilva/anaconda3/lib/python3.6/site-packages/ipykernel/__main__.py:1: DeprecationWarning: Call to deprecated `most_similar` (Method will be removed in 4.0.0, use self.wv.most_similar() instead).\n",
      "  if __name__ == '__main__':\n"
     ]
    },
    {
     "data": {
      "text/plain": [
       "[('enfermeira', 0.5781201720237732),\n",
       " ('psicóloga', 0.5437605381011963),\n",
       " ('obstetra', 0.5124623775482178),\n",
       " ('parteira', 0.5118420124053955),\n",
       " ('cirurgiã', 0.5065110325813293),\n",
       " ('pediatra', 0.4987967014312744),\n",
       " ('esposa', 0.4904118776321411),\n",
       " ('advogada', 0.4882669746875763),\n",
       " ('sanitarista', 0.4863540828227997),\n",
       " ('clínica', 0.48177194595336914)]"
      ]
     },
     "execution_count": 7,
     "metadata": {},
     "output_type": "execute_result"
    }
   ],
   "source": [
    "model.most_similar(positive=['médico', 'mulher'], negative=['homem'])"
   ]
  },
  {
   "cell_type": "code",
   "execution_count": 8,
   "metadata": {
    "collapsed": false,
    "deletable": true,
    "editable": true
   },
   "outputs": [
    {
     "name": "stderr",
     "output_type": "stream",
     "text": [
      "/home/jrsilva/anaconda3/lib/python3.6/site-packages/ipykernel/__main__.py:1: DeprecationWarning: Call to deprecated `most_similar` (Method will be removed in 4.0.0, use self.wv.most_similar() instead).\n",
      "  if __name__ == '__main__':\n"
     ]
    },
    {
     "data": {
      "text/plain": [
       "[('designer', 0.4296249747276306),\n",
       " ('fotógrafa', 0.42821061611175537),\n",
       " ('desenvolvedor', 0.4238153100013733),\n",
       " ('empresária', 0.41589415073394775),\n",
       " ('esquiadora', 0.3981002867221832),\n",
       " ('programadora', 0.39704278111457825),\n",
       " ('supermodelo', 0.39264559745788574),\n",
       " ('musicista', 0.387143075466156),\n",
       " ('planilha', 0.381675124168396),\n",
       " ('esposa', 0.3773464560508728)]"
      ]
     },
     "execution_count": 8,
     "metadata": {},
     "output_type": "execute_result"
    }
   ],
   "source": [
    "model.most_similar(positive=['programador', 'mulher'], negative=['homem'])"
   ]
  },
  {
   "cell_type": "code",
   "execution_count": 9,
   "metadata": {
    "collapsed": false,
    "deletable": true,
    "editable": true
   },
   "outputs": [
    {
     "name": "stderr",
     "output_type": "stream",
     "text": [
      "/home/jrsilva/anaconda3/lib/python3.6/site-packages/ipykernel/__main__.py:1: DeprecationWarning: Call to deprecated `most_similar` (Method will be removed in 4.0.0, use self.wv.most_similar() instead).\n",
      "  if __name__ == '__main__':\n"
     ]
    },
    {
     "data": {
      "text/plain": [
       "[('paris', 0.5457782745361328),\n",
       " ('provença', 0.49547532200813293),\n",
       " ('aquitânia', 0.4837349057197571),\n",
       " ('picardia', 0.47068554162979126),\n",
       " ('marselha', 0.47006914019584656),\n",
       " ('alsácia', 0.466120183467865),\n",
       " ('vendeia', 0.45104891061782837),\n",
       " ('dijon', 0.44668951630592346),\n",
       " ('bordéus', 0.4461537301540375),\n",
       " ('estrasburgo', 0.4449736475944519)]"
      ]
     },
     "execution_count": 9,
     "metadata": {},
     "output_type": "execute_result"
    }
   ],
   "source": [
    "model.most_similar(positive=['frança', 'lisboa'], negative=['portugal'])"
   ]
  },
  {
   "cell_type": "code",
   "execution_count": 10,
   "metadata": {
    "collapsed": false,
    "deletable": true,
    "editable": true
   },
   "outputs": [
    {
     "name": "stderr",
     "output_type": "stream",
     "text": [
      "/home/jrsilva/anaconda3/lib/python3.6/site-packages/ipykernel/__main__.py:1: DeprecationWarning: Call to deprecated `most_similar` (Method will be removed in 4.0.0, use self.wv.most_similar() instead).\n",
      "  if __name__ == '__main__':\n"
     ]
    },
    {
     "data": {
      "text/plain": [
       "[('enteada', 0.4705424904823303),\n",
       " ('amargurada', 0.4672282338142395),\n",
       " ('tutora', 0.46267542243003845),\n",
       " ('sogra', 0.457607626914978),\n",
       " ('madrasta', 0.45632460713386536),\n",
       " ('insegura', 0.4502426087856293),\n",
       " ('esposa', 0.4484437108039856),\n",
       " ('governanta', 0.44430267810821533),\n",
       " ('filhinha', 0.4389563798904419),\n",
       " ('quieta', 0.43833285570144653)]"
      ]
     },
     "execution_count": 10,
     "metadata": {},
     "output_type": "execute_result"
    }
   ],
   "source": [
    "model.most_similar(positive=['insuportável', 'mulher'], negative=['homem'])"
   ]
  },
  {
   "cell_type": "code",
   "execution_count": 11,
   "metadata": {
    "collapsed": false,
    "deletable": true,
    "editable": true
   },
   "outputs": [
    {
     "name": "stderr",
     "output_type": "stream",
     "text": [
      "/home/jrsilva/anaconda3/lib/python3.6/site-packages/ipykernel/__main__.py:1: DeprecationWarning: Call to deprecated `most_similar` (Method will be removed in 4.0.0, use self.wv.most_similar() instead).\n",
      "  if __name__ == '__main__':\n"
     ]
    },
    {
     "data": {
      "text/plain": [
       "[('minnie', 0.5032429099082947),\n",
       " ('namorada', 0.4304439425468445),\n",
       " ('thurman', 0.41433876752853394),\n",
       " ('esposa', 0.4051535129547119),\n",
       " ('tia', 0.4041985273361206),\n",
       " ('babá', 0.39961177110671997),\n",
       " ('veterana', 0.3990369737148285),\n",
       " ('garotinha', 0.3967462182044983),\n",
       " ('governanta', 0.39363372325897217),\n",
       " ('suzy', 0.39352259039878845)]"
      ]
     },
     "execution_count": 11,
     "metadata": {},
     "output_type": "execute_result"
    }
   ],
   "source": [
    "model.most_similar(positive=['mickey', 'mulher'], negative=['homem'])"
   ]
  },
  {
   "cell_type": "code",
   "execution_count": 12,
   "metadata": {
    "collapsed": false,
    "deletable": true,
    "editable": true
   },
   "outputs": [
    {
     "name": "stderr",
     "output_type": "stream",
     "text": [
      "/home/jrsilva/anaconda3/lib/python3.6/site-packages/ipykernel/__main__.py:1: DeprecationWarning: Call to deprecated `most_similar` (Method will be removed in 4.0.0, use self.wv.most_similar() instead).\n",
      "  if __name__ == '__main__':\n"
     ]
    },
    {
     "data": {
      "text/plain": [
       "[('lg', 0.7216043472290039),\n",
       " ('motorola', 0.679953932762146),\n",
       " ('electronics', 0.6565285325050354),\n",
       " ('panasonic', 0.6548691987991333),\n",
       " ('daewoo', 0.6321008205413818),\n",
       " ('anycall', 0.6309125423431396),\n",
       " ('lenovo', 0.6304598450660706),\n",
       " ('toshiba', 0.6284937858581543),\n",
       " ('asus', 0.6193737983703613),\n",
       " ('compaq', 0.6141743659973145)]"
      ]
     },
     "execution_count": 12,
     "metadata": {},
     "output_type": "execute_result"
    }
   ],
   "source": [
    "model.most_similar(positive=['samsung'])"
   ]
  },
  {
   "cell_type": "code",
   "execution_count": 13,
   "metadata": {
    "collapsed": false,
    "deletable": true,
    "editable": true
   },
   "outputs": [
    {
     "name": "stderr",
     "output_type": "stream",
     "text": [
      "/home/jrsilva/anaconda3/lib/python3.6/site-packages/ipykernel/__main__.py:1: DeprecationWarning: Call to deprecated `most_similar` (Method will be removed in 4.0.0, use self.wv.most_similar() instead).\n",
      "  if __name__ == '__main__':\n"
     ]
    },
    {
     "data": {
      "text/plain": [
       "[('neoliberalismo', 0.4650256633758545),\n",
       " ('socialismo', 0.4635193645954132),\n",
       " ('anarquismo', 0.4634321630001068),\n",
       " ('marxismo', 0.4632199704647064),\n",
       " ('imperialismo', 0.4597030282020569),\n",
       " ('sindicalismo', 0.4569212794303894),\n",
       " ('estatismo', 0.45688945055007935),\n",
       " ('keynesianismo', 0.4547979235649109),\n",
       " ('populismo', 0.4547275900840759),\n",
       " ('estruturalismo', 0.45429208874702454)]"
      ]
     },
     "execution_count": 13,
     "metadata": {},
     "output_type": "execute_result"
    }
   ],
   "source": [
    "model.most_similar(positive=['capitalismo'], negative=['dinheiro'])"
   ]
  },
  {
   "cell_type": "code",
   "execution_count": 14,
   "metadata": {
    "collapsed": false,
    "deletable": true,
    "editable": true
   },
   "outputs": [
    {
     "name": "stderr",
     "output_type": "stream",
     "text": [
      "/home/jrsilva/anaconda3/lib/python3.6/site-packages/ipykernel/__main__.py:1: DeprecationWarning: Call to deprecated `most_similar` (Method will be removed in 4.0.0, use self.wv.most_similar() instead).\n",
      "  if __name__ == '__main__':\n"
     ]
    },
    {
     "data": {
      "text/plain": [
       "[('périgord', 0.4395771622657776),\n",
       " ('vendôme', 0.4356817305088043),\n",
       " ('languedoc', 0.4286729097366333),\n",
       " ('baiona', 0.4272369146347046),\n",
       " ('auvergne', 0.4162173867225647),\n",
       " ('tarbes', 0.41322946548461914),\n",
       " ('clermont', 0.41143351793289185),\n",
       " ('vannes', 0.4111562967300415),\n",
       " ('albret', 0.4100937247276306),\n",
       " ('hérault', 0.4085032343864441)]"
      ]
     },
     "execution_count": 14,
     "metadata": {},
     "output_type": "execute_result"
    }
   ],
   "source": [
    "model.most_similar(positive=['frança'], negative=['alemanha'])"
   ]
  },
  {
   "cell_type": "code",
   "execution_count": null,
   "metadata": {
    "collapsed": true,
    "deletable": true,
    "editable": true
   },
   "outputs": [],
   "source": []
  }
 ],
 "metadata": {
  "kernelspec": {
   "display_name": "Python 3",
   "language": "python",
   "name": "python3"
  },
  "language_info": {
   "codemirror_mode": {
    "name": "ipython",
    "version": 3
   },
   "file_extension": ".py",
   "mimetype": "text/x-python",
   "name": "python",
   "nbconvert_exporter": "python",
   "pygments_lexer": "ipython3",
   "version": "3.6.3"
  },
  "widgets": {
   "state": {},
   "version": "1.1.1"
  }
 },
 "nbformat": 4,
 "nbformat_minor": 0
}
